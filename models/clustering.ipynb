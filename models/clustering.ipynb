{
  "cells": [
    {
      "cell_type": "code",
      "execution_count": null,
      "metadata": {},
      "outputs": [],
      "source": [
        "import pandas as pd\n",
        "# Load the final dataframe (feature engineered, encoded, scaled/unscaled)\n",
        "df_final_scaled = pd.read_csv('/Users/femke/Documents/Uni/DSS/Thesis/Data/df_final_scaled.csv')\n",
        "df_final_unscaled = pd.read_csv('/Users/femke/Documents/Uni/DSS/Thesis/Data/df_final_unscaled.csv')"
      ]
    },
    {
      "cell_type": "markdown",
      "metadata": {
        "id": "UIevIgr6l_zU"
      },
      "source": [
        "## K-Means clustering"
      ]
    },
    {
      "cell_type": "code",
      "execution_count": 1,
      "metadata": {
        "id": "DLSOFob6l_zW"
      },
      "outputs": [],
      "source": [
        "import pandas as pd\n",
        "from sklearn.cluster import KMeans\n",
        "from sklearn.preprocessing import StandardScaler\n",
        "from sklearn.metrics import silhouette_score\n",
        "import matplotlib.pyplot as plt\n",
        "from joblib import Parallel, delayed\n",
        "import joblib"
      ]
    },
    {
      "cell_type": "code",
      "execution_count": 2,
      "metadata": {
        "id": "AyequECql_zX"
      },
      "outputs": [],
      "source": [
        "df_final = pd.read_csv(\"/Users/femke/Documents/Uni/DSS/Thesis/Data/ml1m_df_final.csv\")\n",
        "df_final = df_final.drop(columns=[\"Title\"])\n"
      ]
    },
    {
      "cell_type": "code",
      "execution_count": 3,
      "metadata": {},
      "outputs": [
        {
          "data": {
            "text/plain": [
              "UserID                    int64\n",
              "MovieID                   int64\n",
              "Rating                    int64\n",
              "Year                      int64\n",
              "Month                     int64\n",
              "Day                       int64\n",
              "Hour                      int64\n",
              "Minute                    int64\n",
              "Second                    int64\n",
              "Male                       bool\n",
              "Age                       int64\n",
              "Zip-code                  int64\n",
              "Release_year              int64\n",
              "Action                     bool\n",
              "Adventure                  bool\n",
              "Animation                  bool\n",
              "Children's                 bool\n",
              "Comedy                     bool\n",
              "Crime                      bool\n",
              "Documentary                bool\n",
              "Drama                      bool\n",
              "Fantasy                    bool\n",
              "Film-Noir                  bool\n",
              "Horror                     bool\n",
              "Musical                    bool\n",
              "Mystery                    bool\n",
              "Romance                    bool\n",
              "Sci-Fi                     bool\n",
              "Thriller                   bool\n",
              "War                        bool\n",
              "Western                    bool\n",
              "Artist                     bool\n",
              "Clerical/admin             bool\n",
              "College/grad student       bool\n",
              "Customer service           bool\n",
              "Doctor/health care         bool\n",
              "Executive/managerial       bool\n",
              "Farmer                     bool\n",
              "Homemaker                  bool\n",
              "K-12 student               bool\n",
              "Lawyer                     bool\n",
              "Other or not specified     bool\n",
              "Programmer                 bool\n",
              "Retired                    bool\n",
              "Sales/marketing            bool\n",
              "Scientist                  bool\n",
              "Self-employed              bool\n",
              "Technician/engineer        bool\n",
              "Tradesman/craftsman        bool\n",
              "Unemployed                 bool\n",
              "Writer                     bool\n",
              "dtype: object"
            ]
          },
          "execution_count": 3,
          "metadata": {},
          "output_type": "execute_result"
        }
      ],
      "source": [
        "df_final.dtypes"
      ]
    },
    {
      "cell_type": "code",
      "execution_count": 2,
      "metadata": {
        "colab": {
          "base_uri": "https://localhost:8080/"
        },
        "id": "WAwv48ruqZQp",
        "outputId": "6ae693b2-d890-4dbd-f34b-250a0fb41b58"
      },
      "outputs": [
        {
          "name": "stdout",
          "output_type": "stream",
          "text": [
            "Mounted at /content/drive\n"
          ]
        }
      ],
      "source": [
        "# Google colab version\n",
        "from google.colab import drive\n",
        "drive.mount('/content/drive')"
      ]
    },
    {
      "cell_type": "code",
      "execution_count": 3,
      "metadata": {
        "id": "7NKK6cvLrSxg"
      },
      "outputs": [],
      "source": [
        "# Load the CSV file into a dataframe\n",
        "df_final = pd.read_csv('/content/drive/My Drive/Thesis/Data/ml1m_df_final.csv')\n",
        "df_final = df_final.drop(columns=[\"Title\"])"
      ]
    },
    {
      "cell_type": "code",
      "execution_count": 4,
      "metadata": {
        "id": "JeltoFxBl_zY"
      },
      "outputs": [],
      "source": [
        "# Scaling the variables\n",
        "scaler = StandardScaler()\n",
        "df_scaled = scaler.fit_transform(df_final)"
      ]
    },
    {
      "cell_type": "code",
      "execution_count": null,
      "metadata": {
        "collapsed": true,
        "id": "Gv7CmJBgl_zY",
        "outputId": "4375d442-0c7d-4856-84b8-c3aba9791a93"
      },
      "outputs": [
        {
          "name": "stderr",
          "output_type": "stream",
          "text": [
            "/Applications/anaconda3/lib/python3.11/site-packages/sklearn/cluster/_kmeans.py:1412: FutureWarning: The default value of `n_init` will change from 10 to 'auto' in 1.4. Set the value of `n_init` explicitly to suppress the warning\n",
            "  super()._check_params_vs_input(X, default_n_init=10)\n",
            "/Applications/anaconda3/lib/python3.11/site-packages/sklearn/cluster/_kmeans.py:1412: FutureWarning: The default value of `n_init` will change from 10 to 'auto' in 1.4. Set the value of `n_init` explicitly to suppress the warning\n",
            "  super()._check_params_vs_input(X, default_n_init=10)\n",
            "/Applications/anaconda3/lib/python3.11/site-packages/sklearn/cluster/_kmeans.py:1412: FutureWarning: The default value of `n_init` will change from 10 to 'auto' in 1.4. Set the value of `n_init` explicitly to suppress the warning\n",
            "  super()._check_params_vs_input(X, default_n_init=10)\n",
            "/Applications/anaconda3/lib/python3.11/site-packages/sklearn/cluster/_kmeans.py:1412: FutureWarning: The default value of `n_init` will change from 10 to 'auto' in 1.4. Set the value of `n_init` explicitly to suppress the warning\n",
            "  super()._check_params_vs_input(X, default_n_init=10)\n",
            "/Applications/anaconda3/lib/python3.11/site-packages/sklearn/cluster/_kmeans.py:1412: FutureWarning: The default value of `n_init` will change from 10 to 'auto' in 1.4. Set the value of `n_init` explicitly to suppress the warning\n",
            "  super()._check_params_vs_input(X, default_n_init=10)\n",
            "/Applications/anaconda3/lib/python3.11/site-packages/sklearn/cluster/_kmeans.py:1412: FutureWarning: The default value of `n_init` will change from 10 to 'auto' in 1.4. Set the value of `n_init` explicitly to suppress the warning\n",
            "  super()._check_params_vs_input(X, default_n_init=10)\n",
            "/Applications/anaconda3/lib/python3.11/site-packages/sklearn/cluster/_kmeans.py:1412: FutureWarning: The default value of `n_init` will change from 10 to 'auto' in 1.4. Set the value of `n_init` explicitly to suppress the warning\n",
            "  super()._check_params_vs_input(X, default_n_init=10)\n",
            "/Applications/anaconda3/lib/python3.11/site-packages/sklearn/cluster/_kmeans.py:1412: FutureWarning: The default value of `n_init` will change from 10 to 'auto' in 1.4. Set the value of `n_init` explicitly to suppress the warning\n",
            "  super()._check_params_vs_input(X, default_n_init=10)\n",
            "/Applications/anaconda3/lib/python3.11/site-packages/sklearn/cluster/_kmeans.py:1412: FutureWarning: The default value of `n_init` will change from 10 to 'auto' in 1.4. Set the value of `n_init` explicitly to suppress the warning\n",
            "  super()._check_params_vs_input(X, default_n_init=10)\n",
            "/Applications/anaconda3/lib/python3.11/site-packages/sklearn/cluster/_kmeans.py:1412: FutureWarning: The default value of `n_init` will change from 10 to 'auto' in 1.4. Set the value of `n_init` explicitly to suppress the warning\n",
            "  super()._check_params_vs_input(X, default_n_init=10)\n"
          ]
        },
        {
          "data": {
            "image/png": "[encoded data removed]",
            "text/plain": [
              "<Figure size 800x600 with 1 Axes>"
            ]
          },
          "metadata": {},
          "output_type": "display_data"
        }
      ],
      "source": [
        "# Determine k in range of (1,11)\n",
        "# Determine the range of clusters to evaluate\n",
        "cluster_range = range(1, 11)\n",
        "inertia = []\n",
        "\n",
        "# Calculate the within-cluster sum of squares for each number of clusters\n",
        "for k in cluster_range:\n",
        "    kmeans = KMeans(n_clusters=k, random_state=42)\n",
        "    kmeans.fit(df_scaled)\n",
        "    inertia.append(kmeans.inertia_)\n",
        "\n",
        "# Plot the results to find the elbow point\n",
        "plt.figure(figsize=(8, 6))\n",
        "plt.plot(cluster_range, inertia, marker='o')\n",
        "plt.title('Elbow Method For Optimal k')\n",
        "plt.xlabel('Number of clusters')\n",
        "plt.ylabel('Inertia')\n",
        "plt.show()"
      ]
    },
    {
      "cell_type": "code",
      "execution_count": null,
      "metadata": {
        "colab": {
          "base_uri": "https://localhost:8080/",
          "height": 564
        },
        "id": "AQ3_4T_msFEh",
        "outputId": "eca7b4d8-0306-4743-da27-943000447e31"
      },
      "outputs": [
        {
          "data": {
            "image/png": "[encoded data removed]",
            "text/plain": [
              "<Figure size 800x600 with 1 Axes>"
            ]
          },
          "metadata": {},
          "output_type": "display_data"
        }
      ],
      "source": [
        "# Determine k in range of (1,51)\n",
        "cluster_range = range(1, 51)\n",
        "inertia = []\n",
        "\n",
        "# Calculate the within-cluster sum of squares for each number of clusters\n",
        "for k in cluster_range:\n",
        "    kmeans = KMeans(n_clusters=k, random_state=42)\n",
        "    kmeans.fit(df_scaled)\n",
        "    inertia.append(kmeans.inertia_)\n",
        "\n",
        "# Plot the results to find the elbow point\n",
        "plt.figure(figsize=(8, 6))\n",
        "plt.plot(cluster_range, inertia, marker='o')\n",
        "plt.title('Elbow Method For Optimal k')\n",
        "plt.xlabel('Number of clusters')\n",
        "plt.ylabel('Inertia')\n",
        "plt.show()"
      ]
    },
    {
      "cell_type": "markdown",
      "metadata": {
        "id": "W4_7Yhv645u9"
      },
      "source": [
        "Subset of data to get the silhoette score as well\n"
      ]
    },
    {
      "cell_type": "code",
      "execution_count": 7,
      "metadata": {
        "id": "AWqB4Lk84_gc"
      },
      "outputs": [],
      "source": [
        "# Using subset of 5% of the data\n",
        "df_sample = df_final.sample(frac=0.05, random_state=42)\n",
        "df_scaled = scaler.fit_transform(df_sample)"
      ]
    },
    {
      "cell_type": "code",
      "execution_count": 23,
      "metadata": {
        "colab": {
          "base_uri": "https://localhost:8080/",
          "height": 365
        },
        "collapsed": true,
        "id": "dqIlTli_l_za",
        "outputId": "59d2801d-7bd0-4b2c-e582-f94d1a22db86"
      },
      "outputs": [
        {
          "ename": "KeyboardInterrupt",
          "evalue": "",
          "output_type": "error",
          "traceback": [
            "\u001b[0;31m---------------------------------------------------------------------------\u001b[0m",
            "\u001b[0;31mKeyboardInterrupt\u001b[0m                         Traceback (most recent call last)",
            "\u001b[0;32m<ipython-input-23-9030d0469a0d>\u001b[0m in \u001b[0;36m<cell line: 11>\u001b[0;34m()\u001b[0m\n\u001b[1;32m     13\u001b[0m     \u001b[0mkmeans\u001b[0m\u001b[0;34m.\u001b[0m\u001b[0mfit\u001b[0m\u001b[0;34m(\u001b[0m\u001b[0mdf_scaled\u001b[0m\u001b[0;34m)\u001b[0m\u001b[0;34m\u001b[0m\u001b[0;34m\u001b[0m\u001b[0m\n\u001b[1;32m     14\u001b[0m     \u001b[0minertia\u001b[0m\u001b[0;34m.\u001b[0m\u001b[0mappend\u001b[0m\u001b[0;34m(\u001b[0m\u001b[0mkmeans\u001b[0m\u001b[0;34m.\u001b[0m\u001b[0minertia_\u001b[0m\u001b[0;34m)\u001b[0m\u001b[0;34m\u001b[0m\u001b[0;34m\u001b[0m\u001b[0m\n\u001b[0;32m---> 15\u001b[0;31m     \u001b[0msilhouette_avg\u001b[0m\u001b[0;34m.\u001b[0m\u001b[0mappend\u001b[0m\u001b[0;34m(\u001b[0m\u001b[0msilhouette_score\u001b[0m\u001b[0;34m(\u001b[0m\u001b[0mdf_scaled\u001b[0m\u001b[0;34m,\u001b[0m \u001b[0mkmeans\u001b[0m\u001b[0;34m.\u001b[0m\u001b[0mlabels_\u001b[0m\u001b[0;34m)\u001b[0m\u001b[0;34m)\u001b[0m\u001b[0;34m\u001b[0m\u001b[0;34m\u001b[0m\u001b[0m\n\u001b[0m\u001b[1;32m     16\u001b[0m \u001b[0;34m\u001b[0m\u001b[0m\n\u001b[1;32m     17\u001b[0m \u001b[0;31m# Plot the results to find the elbow point and silhouette score\u001b[0m\u001b[0;34m\u001b[0m\u001b[0;34m\u001b[0m\u001b[0m\n",
            "\u001b[0;32m/usr/local/lib/python3.10/dist-packages/sklearn/utils/_param_validation.py\u001b[0m in \u001b[0;36mwrapper\u001b[0;34m(*args, **kwargs)\u001b[0m\n\u001b[1;32m    211\u001b[0m                     )\n\u001b[1;32m    212\u001b[0m                 ):\n\u001b[0;32m--> 213\u001b[0;31m                     \u001b[0;32mreturn\u001b[0m \u001b[0mfunc\u001b[0m\u001b[0;34m(\u001b[0m\u001b[0;34m*\u001b[0m\u001b[0margs\u001b[0m\u001b[0;34m,\u001b[0m \u001b[0;34m**\u001b[0m\u001b[0mkwargs\u001b[0m\u001b[0;34m)\u001b[0m\u001b[0;34m\u001b[0m\u001b[0;34m\u001b[0m\u001b[0m\n\u001b[0m\u001b[1;32m    214\u001b[0m             \u001b[0;32mexcept\u001b[0m \u001b[0mInvalidParameterError\u001b[0m \u001b[0;32mas\u001b[0m \u001b[0me\u001b[0m\u001b[0;34m:\u001b[0m\u001b[0;34m\u001b[0m\u001b[0;34m\u001b[0m\u001b[0m\n\u001b[1;32m    215\u001b[0m                 \u001b[0;31m# When the function is just a wrapper around an estimator, we allow\u001b[0m\u001b[0;34m\u001b[0m\u001b[0;34m\u001b[0m\u001b[0m\n",
            "\u001b[0;32m/usr/local/lib/python3.10/dist-packages/sklearn/metrics/cluster/_unsupervised.py\u001b[0m in \u001b[0;36msilhouette_score\u001b[0;34m(X, labels, metric, sample_size, random_state, **kwds)\u001b[0m\n\u001b[1;32m    139\u001b[0m         \u001b[0;32melse\u001b[0m\u001b[0;34m:\u001b[0m\u001b[0;34m\u001b[0m\u001b[0;34m\u001b[0m\u001b[0m\n\u001b[1;32m    140\u001b[0m             \u001b[0mX\u001b[0m\u001b[0;34m,\u001b[0m \u001b[0mlabels\u001b[0m \u001b[0;34m=\u001b[0m \u001b[0mX\u001b[0m\u001b[0;34m[\u001b[0m\u001b[0mindices\u001b[0m\u001b[0;34m]\u001b[0m\u001b[0;34m,\u001b[0m \u001b[0mlabels\u001b[0m\u001b[0;34m[\u001b[0m\u001b[0mindices\u001b[0m\u001b[0;34m]\u001b[0m\u001b[0;34m\u001b[0m\u001b[0;34m\u001b[0m\u001b[0m\n\u001b[0;32m--> 141\u001b[0;31m     \u001b[0;32mreturn\u001b[0m \u001b[0mnp\u001b[0m\u001b[0;34m.\u001b[0m\u001b[0mmean\u001b[0m\u001b[0;34m(\u001b[0m\u001b[0msilhouette_samples\u001b[0m\u001b[0;34m(\u001b[0m\u001b[0mX\u001b[0m\u001b[0;34m,\u001b[0m \u001b[0mlabels\u001b[0m\u001b[0;34m,\u001b[0m \u001b[0mmetric\u001b[0m\u001b[0;34m=\u001b[0m\u001b[0mmetric\u001b[0m\u001b[0;34m,\u001b[0m \u001b[0;34m**\u001b[0m\u001b[0mkwds\u001b[0m\u001b[0;34m)\u001b[0m\u001b[0;34m)\u001b[0m\u001b[0;34m\u001b[0m\u001b[0;34m\u001b[0m\u001b[0m\n\u001b[0m\u001b[1;32m    142\u001b[0m \u001b[0;34m\u001b[0m\u001b[0m\n\u001b[1;32m    143\u001b[0m \u001b[0;34m\u001b[0m\u001b[0m\n",
            "\u001b[0;32m/usr/local/lib/python3.10/dist-packages/sklearn/utils/_param_validation.py\u001b[0m in \u001b[0;36mwrapper\u001b[0;34m(*args, **kwargs)\u001b[0m\n\u001b[1;32m    184\u001b[0m             \u001b[0mglobal_skip_validation\u001b[0m \u001b[0;34m=\u001b[0m \u001b[0mget_config\u001b[0m\u001b[0;34m(\u001b[0m\u001b[0;34m)\u001b[0m\u001b[0;34m[\u001b[0m\u001b[0;34m\"skip_parameter_validation\"\u001b[0m\u001b[0;34m]\u001b[0m\u001b[0;34m\u001b[0m\u001b[0;34m\u001b[0m\u001b[0m\n\u001b[1;32m    185\u001b[0m             \u001b[0;32mif\u001b[0m \u001b[0mglobal_skip_validation\u001b[0m\u001b[0;34m:\u001b[0m\u001b[0;34m\u001b[0m\u001b[0;34m\u001b[0m\u001b[0m\n\u001b[0;32m--> 186\u001b[0;31m                 \u001b[0;32mreturn\u001b[0m \u001b[0mfunc\u001b[0m\u001b[0;34m(\u001b[0m\u001b[0;34m*\u001b[0m\u001b[0margs\u001b[0m\u001b[0;34m,\u001b[0m \u001b[0;34m**\u001b[0m\u001b[0mkwargs\u001b[0m\u001b[0;34m)\u001b[0m\u001b[0;34m\u001b[0m\u001b[0;34m\u001b[0m\u001b[0m\n\u001b[0m\u001b[1;32m    187\u001b[0m \u001b[0;34m\u001b[0m\u001b[0m\n\u001b[1;32m    188\u001b[0m             \u001b[0mfunc_sig\u001b[0m \u001b[0;34m=\u001b[0m \u001b[0msignature\u001b[0m\u001b[0;34m(\u001b[0m\u001b[0mfunc\u001b[0m\u001b[0;34m)\u001b[0m\u001b[0;34m\u001b[0m\u001b[0;34m\u001b[0m\u001b[0m\n",
            "\u001b[0;32m/usr/local/lib/python3.10/dist-packages/sklearn/metrics/cluster/_unsupervised.py\u001b[0m in \u001b[0;36msilhouette_samples\u001b[0;34m(X, labels, metric, **kwds)\u001b[0m\n\u001b[1;32m    303\u001b[0m         \u001b[0m_silhouette_reduce\u001b[0m\u001b[0;34m,\u001b[0m \u001b[0mlabels\u001b[0m\u001b[0;34m=\u001b[0m\u001b[0mlabels\u001b[0m\u001b[0;34m,\u001b[0m \u001b[0mlabel_freqs\u001b[0m\u001b[0;34m=\u001b[0m\u001b[0mlabel_freqs\u001b[0m\u001b[0;34m\u001b[0m\u001b[0;34m\u001b[0m\u001b[0m\n\u001b[1;32m    304\u001b[0m     )\n\u001b[0;32m--> 305\u001b[0;31m     \u001b[0mresults\u001b[0m \u001b[0;34m=\u001b[0m \u001b[0mzip\u001b[0m\u001b[0;34m(\u001b[0m\u001b[0;34m*\u001b[0m\u001b[0mpairwise_distances_chunked\u001b[0m\u001b[0;34m(\u001b[0m\u001b[0mX\u001b[0m\u001b[0;34m,\u001b[0m \u001b[0mreduce_func\u001b[0m\u001b[0;34m=\u001b[0m\u001b[0mreduce_func\u001b[0m\u001b[0;34m,\u001b[0m \u001b[0;34m**\u001b[0m\u001b[0mkwds\u001b[0m\u001b[0;34m)\u001b[0m\u001b[0;34m)\u001b[0m\u001b[0;34m\u001b[0m\u001b[0;34m\u001b[0m\u001b[0m\n\u001b[0m\u001b[1;32m    306\u001b[0m     \u001b[0mintra_clust_dists\u001b[0m\u001b[0;34m,\u001b[0m \u001b[0minter_clust_dists\u001b[0m \u001b[0;34m=\u001b[0m \u001b[0mresults\u001b[0m\u001b[0;34m\u001b[0m\u001b[0;34m\u001b[0m\u001b[0m\n\u001b[1;32m    307\u001b[0m     \u001b[0mintra_clust_dists\u001b[0m \u001b[0;34m=\u001b[0m \u001b[0mnp\u001b[0m\u001b[0;34m.\u001b[0m\u001b[0mconcatenate\u001b[0m\u001b[0;34m(\u001b[0m\u001b[0mintra_clust_dists\u001b[0m\u001b[0;34m)\u001b[0m\u001b[0;34m\u001b[0m\u001b[0;34m\u001b[0m\u001b[0m\n",
            "\u001b[0;32m/usr/local/lib/python3.10/dist-packages/sklearn/metrics/pairwise.py\u001b[0m in \u001b[0;36mpairwise_distances_chunked\u001b[0;34m(X, Y, reduce_func, metric, n_jobs, working_memory, **kwds)\u001b[0m\n\u001b[1;32m   2170\u001b[0m         \u001b[0;32melse\u001b[0m\u001b[0;34m:\u001b[0m\u001b[0;34m\u001b[0m\u001b[0;34m\u001b[0m\u001b[0m\n\u001b[1;32m   2171\u001b[0m             \u001b[0mX_chunk\u001b[0m \u001b[0;34m=\u001b[0m \u001b[0mX\u001b[0m\u001b[0;34m[\u001b[0m\u001b[0msl\u001b[0m\u001b[0;34m]\u001b[0m\u001b[0;34m\u001b[0m\u001b[0;34m\u001b[0m\u001b[0m\n\u001b[0;32m-> 2172\u001b[0;31m         \u001b[0mD_chunk\u001b[0m \u001b[0;34m=\u001b[0m \u001b[0mpairwise_distances\u001b[0m\u001b[0;34m(\u001b[0m\u001b[0mX_chunk\u001b[0m\u001b[0;34m,\u001b[0m \u001b[0mY\u001b[0m\u001b[0;34m,\u001b[0m \u001b[0mmetric\u001b[0m\u001b[0;34m=\u001b[0m\u001b[0mmetric\u001b[0m\u001b[0;34m,\u001b[0m \u001b[0mn_jobs\u001b[0m\u001b[0;34m=\u001b[0m\u001b[0mn_jobs\u001b[0m\u001b[0;34m,\u001b[0m \u001b[0;34m**\u001b[0m\u001b[0mkwds\u001b[0m\u001b[0;34m)\u001b[0m\u001b[0;34m\u001b[0m\u001b[0;34m\u001b[0m\u001b[0m\n\u001b[0m\u001b[1;32m   2173\u001b[0m         if (X is Y or Y is None) and PAIRWISE_DISTANCE_FUNCTIONS.get(\n\u001b[1;32m   2174\u001b[0m             \u001b[0mmetric\u001b[0m\u001b[0;34m,\u001b[0m \u001b[0;32mNone\u001b[0m\u001b[0;34m\u001b[0m\u001b[0;34m\u001b[0m\u001b[0m\n",
            "\u001b[0;32m/usr/local/lib/python3.10/dist-packages/sklearn/utils/_param_validation.py\u001b[0m in \u001b[0;36mwrapper\u001b[0;34m(*args, **kwargs)\u001b[0m\n\u001b[1;32m    184\u001b[0m             \u001b[0mglobal_skip_validation\u001b[0m \u001b[0;34m=\u001b[0m \u001b[0mget_config\u001b[0m\u001b[0;34m(\u001b[0m\u001b[0;34m)\u001b[0m\u001b[0;34m[\u001b[0m\u001b[0;34m\"skip_parameter_validation\"\u001b[0m\u001b[0;34m]\u001b[0m\u001b[0;34m\u001b[0m\u001b[0;34m\u001b[0m\u001b[0m\n\u001b[1;32m    185\u001b[0m             \u001b[0;32mif\u001b[0m \u001b[0mglobal_skip_validation\u001b[0m\u001b[0;34m:\u001b[0m\u001b[0;34m\u001b[0m\u001b[0;34m\u001b[0m\u001b[0m\n\u001b[0;32m--> 186\u001b[0;31m                 \u001b[0;32mreturn\u001b[0m \u001b[0mfunc\u001b[0m\u001b[0;34m(\u001b[0m\u001b[0;34m*\u001b[0m\u001b[0margs\u001b[0m\u001b[0;34m,\u001b[0m \u001b[0;34m**\u001b[0m\u001b[0mkwargs\u001b[0m\u001b[0;34m)\u001b[0m\u001b[0;34m\u001b[0m\u001b[0;34m\u001b[0m\u001b[0m\n\u001b[0m\u001b[1;32m    187\u001b[0m \u001b[0;34m\u001b[0m\u001b[0m\n\u001b[1;32m    188\u001b[0m             \u001b[0mfunc_sig\u001b[0m \u001b[0;34m=\u001b[0m \u001b[0msignature\u001b[0m\u001b[0;34m(\u001b[0m\u001b[0mfunc\u001b[0m\u001b[0;34m)\u001b[0m\u001b[0;34m\u001b[0m\u001b[0;34m\u001b[0m\u001b[0m\n",
            "\u001b[0;32m/usr/local/lib/python3.10/dist-packages/sklearn/metrics/pairwise.py\u001b[0m in \u001b[0;36mpairwise_distances\u001b[0;34m(X, Y, metric, n_jobs, force_all_finite, **kwds)\u001b[0m\n\u001b[1;32m   2373\u001b[0m         \u001b[0mfunc\u001b[0m \u001b[0;34m=\u001b[0m \u001b[0mpartial\u001b[0m\u001b[0;34m(\u001b[0m\u001b[0mdistance\u001b[0m\u001b[0;34m.\u001b[0m\u001b[0mcdist\u001b[0m\u001b[0;34m,\u001b[0m \u001b[0mmetric\u001b[0m\u001b[0;34m=\u001b[0m\u001b[0mmetric\u001b[0m\u001b[0;34m,\u001b[0m \u001b[0;34m**\u001b[0m\u001b[0mkwds\u001b[0m\u001b[0;34m)\u001b[0m\u001b[0;34m\u001b[0m\u001b[0;34m\u001b[0m\u001b[0m\n\u001b[1;32m   2374\u001b[0m \u001b[0;34m\u001b[0m\u001b[0m\n\u001b[0;32m-> 2375\u001b[0;31m     \u001b[0;32mreturn\u001b[0m \u001b[0m_parallel_pairwise\u001b[0m\u001b[0;34m(\u001b[0m\u001b[0mX\u001b[0m\u001b[0;34m,\u001b[0m \u001b[0mY\u001b[0m\u001b[0;34m,\u001b[0m \u001b[0mfunc\u001b[0m\u001b[0;34m,\u001b[0m \u001b[0mn_jobs\u001b[0m\u001b[0;34m,\u001b[0m \u001b[0;34m**\u001b[0m\u001b[0mkwds\u001b[0m\u001b[0;34m)\u001b[0m\u001b[0;34m\u001b[0m\u001b[0;34m\u001b[0m\u001b[0m\n\u001b[0m\u001b[1;32m   2376\u001b[0m \u001b[0;34m\u001b[0m\u001b[0m\n\u001b[1;32m   2377\u001b[0m \u001b[0;34m\u001b[0m\u001b[0m\n",
            "\u001b[0;32m/usr/local/lib/python3.10/dist-packages/sklearn/metrics/pairwise.py\u001b[0m in \u001b[0;36m_parallel_pairwise\u001b[0;34m(X, Y, func, n_jobs, **kwds)\u001b[0m\n\u001b[1;32m   1891\u001b[0m \u001b[0;34m\u001b[0m\u001b[0m\n\u001b[1;32m   1892\u001b[0m     \u001b[0;32mif\u001b[0m \u001b[0meffective_n_jobs\u001b[0m\u001b[0;34m(\u001b[0m\u001b[0mn_jobs\u001b[0m\u001b[0;34m)\u001b[0m \u001b[0;34m==\u001b[0m \u001b[0;36m1\u001b[0m\u001b[0;34m:\u001b[0m\u001b[0;34m\u001b[0m\u001b[0;34m\u001b[0m\u001b[0m\n\u001b[0;32m-> 1893\u001b[0;31m         \u001b[0;32mreturn\u001b[0m \u001b[0mfunc\u001b[0m\u001b[0;34m(\u001b[0m\u001b[0mX\u001b[0m\u001b[0;34m,\u001b[0m \u001b[0mY\u001b[0m\u001b[0;34m,\u001b[0m \u001b[0;34m**\u001b[0m\u001b[0mkwds\u001b[0m\u001b[0;34m)\u001b[0m\u001b[0;34m\u001b[0m\u001b[0;34m\u001b[0m\u001b[0m\n\u001b[0m\u001b[1;32m   1894\u001b[0m \u001b[0;34m\u001b[0m\u001b[0m\n\u001b[1;32m   1895\u001b[0m     \u001b[0;31m# enforce a threading backend to prevent data communication overhead\u001b[0m\u001b[0;34m\u001b[0m\u001b[0;34m\u001b[0m\u001b[0m\n",
            "\u001b[0;32m/usr/local/lib/python3.10/dist-packages/sklearn/utils/_param_validation.py\u001b[0m in \u001b[0;36mwrapper\u001b[0;34m(*args, **kwargs)\u001b[0m\n\u001b[1;32m    184\u001b[0m             \u001b[0mglobal_skip_validation\u001b[0m \u001b[0;34m=\u001b[0m \u001b[0mget_config\u001b[0m\u001b[0;34m(\u001b[0m\u001b[0;34m)\u001b[0m\u001b[0;34m[\u001b[0m\u001b[0;34m\"skip_parameter_validation\"\u001b[0m\u001b[0;34m]\u001b[0m\u001b[0;34m\u001b[0m\u001b[0;34m\u001b[0m\u001b[0m\n\u001b[1;32m    185\u001b[0m             \u001b[0;32mif\u001b[0m \u001b[0mglobal_skip_validation\u001b[0m\u001b[0;34m:\u001b[0m\u001b[0;34m\u001b[0m\u001b[0;34m\u001b[0m\u001b[0m\n\u001b[0;32m--> 186\u001b[0;31m                 \u001b[0;32mreturn\u001b[0m \u001b[0mfunc\u001b[0m\u001b[0;34m(\u001b[0m\u001b[0;34m*\u001b[0m\u001b[0margs\u001b[0m\u001b[0;34m,\u001b[0m \u001b[0;34m**\u001b[0m\u001b[0mkwargs\u001b[0m\u001b[0;34m)\u001b[0m\u001b[0;34m\u001b[0m\u001b[0;34m\u001b[0m\u001b[0m\n\u001b[0m\u001b[1;32m    187\u001b[0m \u001b[0;34m\u001b[0m\u001b[0m\n\u001b[1;32m    188\u001b[0m             \u001b[0mfunc_sig\u001b[0m \u001b[0;34m=\u001b[0m \u001b[0msignature\u001b[0m\u001b[0;34m(\u001b[0m\u001b[0mfunc\u001b[0m\u001b[0;34m)\u001b[0m\u001b[0;34m\u001b[0m\u001b[0;34m\u001b[0m\u001b[0m\n",
            "\u001b[0;32m/usr/local/lib/python3.10/dist-packages/sklearn/metrics/pairwise.py\u001b[0m in \u001b[0;36meuclidean_distances\u001b[0;34m(X, Y, Y_norm_squared, squared, X_norm_squared)\u001b[0m\n\u001b[1;32m    370\u001b[0m             )\n\u001b[1;32m    371\u001b[0m \u001b[0;34m\u001b[0m\u001b[0m\n\u001b[0;32m--> 372\u001b[0;31m     \u001b[0;32mreturn\u001b[0m \u001b[0m_euclidean_distances\u001b[0m\u001b[0;34m(\u001b[0m\u001b[0mX\u001b[0m\u001b[0;34m,\u001b[0m \u001b[0mY\u001b[0m\u001b[0;34m,\u001b[0m \u001b[0mX_norm_squared\u001b[0m\u001b[0;34m,\u001b[0m \u001b[0mY_norm_squared\u001b[0m\u001b[0;34m,\u001b[0m \u001b[0msquared\u001b[0m\u001b[0;34m)\u001b[0m\u001b[0;34m\u001b[0m\u001b[0;34m\u001b[0m\u001b[0m\n\u001b[0m\u001b[1;32m    373\u001b[0m \u001b[0;34m\u001b[0m\u001b[0m\n\u001b[1;32m    374\u001b[0m \u001b[0;34m\u001b[0m\u001b[0m\n",
            "\u001b[0;32m/usr/local/lib/python3.10/dist-packages/sklearn/metrics/pairwise.py\u001b[0m in \u001b[0;36m_euclidean_distances\u001b[0;34m(X, Y, X_norm_squared, Y_norm_squared, squared)\u001b[0m\n\u001b[1;32m    408\u001b[0m         \u001b[0mdistances\u001b[0m \u001b[0;34m+=\u001b[0m \u001b[0mXX\u001b[0m\u001b[0;34m\u001b[0m\u001b[0;34m\u001b[0m\u001b[0m\n\u001b[1;32m    409\u001b[0m         \u001b[0mdistances\u001b[0m \u001b[0;34m+=\u001b[0m \u001b[0mYY\u001b[0m\u001b[0;34m\u001b[0m\u001b[0;34m\u001b[0m\u001b[0m\n\u001b[0;32m--> 410\u001b[0;31m     \u001b[0mnp\u001b[0m\u001b[0;34m.\u001b[0m\u001b[0mmaximum\u001b[0m\u001b[0;34m(\u001b[0m\u001b[0mdistances\u001b[0m\u001b[0;34m,\u001b[0m \u001b[0;36m0\u001b[0m\u001b[0;34m,\u001b[0m \u001b[0mout\u001b[0m\u001b[0;34m=\u001b[0m\u001b[0mdistances\u001b[0m\u001b[0;34m)\u001b[0m\u001b[0;34m\u001b[0m\u001b[0;34m\u001b[0m\u001b[0m\n\u001b[0m\u001b[1;32m    411\u001b[0m \u001b[0;34m\u001b[0m\u001b[0m\n\u001b[1;32m    412\u001b[0m     \u001b[0;31m# Ensure that distances between vectors and themselves are set to 0.0.\u001b[0m\u001b[0;34m\u001b[0m\u001b[0;34m\u001b[0m\u001b[0m\n",
            "\u001b[0;31mKeyboardInterrupt\u001b[0m: "
          ]
        }
      ],
      "source": [
        "# Silhoette and elbow method in 1 -> takes forever crashes the computer \n",
        "# Scale the features\n",
        "#scaler = StandardScaler()\n",
        "#df_scaled = scaler.fit_transform(df_final)\n",
        "\n",
        "# Determine the range of clusters to evaluate\n",
        "cluster_range = range(2, 36)  # Silhouette score isn't meaningful for a single cluster\n",
        "inertia = []\n",
        "silhouette_avg = []\n",
        "\n",
        "# Calculate the within-cluster sum of squares and silhouette score for each number of clusters\n",
        "for k in cluster_range:\n",
        "    kmeans = KMeans(n_clusters=k, random_state=42, n_init=4)\n",
        "    kmeans.fit(df_scaled)\n",
        "    inertia.append(kmeans.inertia_)\n",
        "    silhouette_avg.append(silhouette_score(df_scaled, kmeans.labels_))\n",
        "\n",
        "# Plot the results to find the elbow point and silhouette score\n",
        "fig, ax1 = plt.subplots()\n",
        "\n",
        "ax2 = ax1.twinx()\n",
        "ax1.plot(cluster_range, inertia, 'g-')\n",
        "ax2.plot(cluster_range, silhouette_avg, 'b-')\n",
        "\n",
        "ax1.set_xlabel('Number of clusters')\n",
        "ax1.set_ylabel('Inertia', color='g')\n",
        "ax2.set_ylabel('Silhouette Score', color='b')\n",
        "\n",
        "plt.title('Elbow Method and Silhouette Score For Optimal k')\n",
        "plt.show()"
      ]
    },
    {
      "cell_type": "code",
      "execution_count": 11,
      "metadata": {
        "colab": {
          "base_uri": "https://localhost:8080/"
        },
        "id": "8G0szmoxl_zb",
        "outputId": "46afcce8-2db2-46a9-915d-86d647b7d185"
      },
      "outputs": [
        {
          "name": "stdout",
          "output_type": "stream",
          "text": [
            "Silhouette Score for 29 clusters: 0.14849584472759908\n"
          ]
        }
      ],
      "source": [
        "# Silhouette score using subset of 5% of the data\n",
        "df_sample = df_final.sample(frac=0.05, random_state=42)\n",
        "df_scaled = scaler.fit_transform(df_sample)\n",
        "\n",
        "# Set clusters based on Elbow method and silhouette score ^^\n",
        "optimal_k = 29\n",
        "\n",
        "# Create and fit the KMeans model\n",
        "kmeans = KMeans(n_clusters=optimal_k, random_state=42, n_init=10)\n",
        "kmeans.fit(df_scaled)\n",
        "\n",
        "# Assign cluster labels to df\n",
        "labels = kmeans.labels_\n",
        "df_sample['cluster'] = labels\n",
        "\n",
        "# Calculate silhouette score\n",
        "silhouette_avg = silhouette_score(df_scaled, labels)\n",
        "\n",
        "print(f'Silhouette Score for {optimal_k} clusters: {silhouette_avg}')"
      ]
    },
    {
      "cell_type": "code",
      "execution_count": 12,
      "metadata": {
        "id": "S-rvuzNfCC5C"
      },
      "outputs": [],
      "source": [
        "# Renew the variables to get silhoette for complete data\n",
        "# Load the CSV file into a dataframe\n",
        "df_final = pd.read_csv('/content/drive/My Drive/Thesis/Data/ml1m_df_final.csv')\n",
        "df_final = df_final.drop(columns=[\"Title\"])\n",
        "# Scaling the variables\n",
        "scaler = StandardScaler()\n",
        "df_scaled = scaler.fit_transform(df_final)"
      ]
    },
    {
      "cell_type": "code",
      "execution_count": 13,
      "metadata": {
        "colab": {
          "base_uri": "https://localhost:8080/"
        },
        "id": "M1fL79MDBwVf",
        "outputId": "34954fe4-ab77-4673-f2ab-b54c553ac9ca"
      },
      "outputs": [
        {
          "name": "stdout",
          "output_type": "stream",
          "text": [
            "Silhouette Score for 29 clusters: 0.13954713728801585\n"
          ]
        }
      ],
      "source": [
        "# Silhouette score full dataset using k = 29\n",
        "# Set clusters based on Elbow method and silhouette score ^^\n",
        "optimal_k = 29\n",
        "\n",
        "# Create and fit the KMeans model\n",
        "kmeans = KMeans(n_clusters=optimal_k, random_state=42, n_init=10)\n",
        "kmeans.fit(df_scaled)\n",
        "\n",
        "# Assign cluster labels to df\n",
        "labels = kmeans.labels_\n",
        "df_final['cluster'] = labels\n",
        "\n",
        "# Calculate silhouette score\n",
        "silhouette_avg = silhouette_score(df_scaled, labels)\n",
        "\n",
        "print(f'Silhouette Score for {optimal_k} clusters: {silhouette_avg}')"
      ]
    },
    {
      "cell_type": "code",
      "execution_count": 16,
      "metadata": {
        "colab": {
          "base_uri": "https://localhost:8080/"
        },
        "collapsed": true,
        "id": "dubw8dOCl_zb",
        "outputId": "4005404e-42a6-4750-b83d-3c5ef96305b5"
      },
      "outputs": [
        {
          "name": "stdout",
          "output_type": "stream",
          "text": [
            "   UserID  MovieID  Rating  Year  Month  Day  Hour  Minute  Second   Male  \\\n",
            "0       1     1193       5  2000     12   31    23      12      40  False   \n",
            "1       2     1193       5  2000     12   31    22      33      33   True   \n",
            "2      12     1193       4  2000     12   31     0      49      39   True   \n",
            "3      15     1193       4  2000     12   30    19       1      19   True   \n",
            "4      17     1193       5  2000     12   30     7      41      11   True   \n",
            "\n",
            "   ...  Programmer  Retired  Sales/marketing  Scientist  Self-employed  \\\n",
            "0  ...       False    False            False      False          False   \n",
            "1  ...       False    False            False      False           True   \n",
            "2  ...        True    False            False      False          False   \n",
            "3  ...       False    False            False      False          False   \n",
            "4  ...       False    False            False      False          False   \n",
            "\n",
            "   Technician/engineer  Tradesman/craftsman  Unemployed  Writer  cluster  \n",
            "0                False                False       False   False        4  \n",
            "1                False                False       False   False       18  \n",
            "2                False                False       False   False        1  \n",
            "3                False                False       False   False       13  \n",
            "4                False                False       False   False        9  \n",
            "\n",
            "[5 rows x 52 columns]\n"
          ]
        }
      ],
      "source": [
        "# Check the first few rows with cluster labels\n",
        "print(df_final.head())"
      ]
    },
    {
      "cell_type": "code",
      "execution_count": 17,
      "metadata": {
        "colab": {
          "base_uri": "https://localhost:8080/"
        },
        "collapsed": true,
        "id": "z8y6wy4Zl_zb",
        "outputId": "35f37bce-e14a-46ac-dd8d-fa68bcd374d1"
      },
      "outputs": [
        {
          "name": "stdout",
          "output_type": "stream",
          "text": [
            "              UserID      MovieID    Rating         Year      Month  \\\n",
            "cluster                                                               \n",
            "0        2839.665534  1888.485959  3.478644  2000.117408   8.949258   \n",
            "1        2883.095233  1874.073256  3.648247  2000.117781   8.972514   \n",
            "2        3026.825610  1920.191264  3.529766  2000.133482   8.593573   \n",
            "3        2933.345781  1892.003168  3.529805  2000.165130   8.790724   \n",
            "4        2510.091627  1890.187741  3.527820  2000.249215   8.957507   \n",
            "5        3024.077313  1895.957082  3.604588  2000.134375   8.637445   \n",
            "6        3449.535414  1840.666636  3.675593  2000.120187   8.024933   \n",
            "7        3180.520851  1917.877213  3.530117  2000.096144   8.826493   \n",
            "8        3055.149586  1755.097065  3.441609  2000.101450   8.718508   \n",
            "9        3357.503227  1895.530648  3.589242  2000.143696   8.072519   \n",
            "10       2650.183696  1950.752382  3.781616  2000.058178   9.567013   \n",
            "11       3049.612832  1582.953540  3.679204  2000.120206   8.862094   \n",
            "12       1995.854398  1894.521803  3.466741  2000.000000  10.289727   \n",
            "13       3106.314852  1969.064735  3.577658  2000.115023   8.645425   \n",
            "14       2616.516560  1841.136459  3.409916  2000.234334   9.014030   \n",
            "15       3172.553644  1885.214060  3.604299  2000.146738   8.561707   \n",
            "16       3176.824797  1866.473091  3.564310  2000.114105   8.650057   \n",
            "17       2989.378158  1662.797938  3.681888  2000.132120   8.648285   \n",
            "18       3039.519646  1910.509891  3.584084  2000.074118   8.961232   \n",
            "19       3245.426309  1903.627227  3.656619  2000.073601   8.834743   \n",
            "20       3108.930082  1886.289684  3.637347  2000.108303   8.673591   \n",
            "21       2560.395189  1878.250274  3.646694  2000.153675   9.004722   \n",
            "22       3115.940616  1700.920241  4.080397  2000.097695   8.701863   \n",
            "23       3004.148774  1737.355641  3.410958  2000.093863   8.784615   \n",
            "24       2816.029996  1892.851282  3.602003  2000.151045   8.944914   \n",
            "25       3092.166629  1628.236773  3.697489  2000.122955   8.562028   \n",
            "26       3082.706799  1760.305868  3.565942  2000.116113   8.668612   \n",
            "27       2670.955351  1842.017019  3.653519  2000.158574   9.102713   \n",
            "28       3384.726420  1921.709974  3.523798  2000.056254   8.589243   \n",
            "\n",
            "               Day       Hour     Minute     Second      Male  ...  \\\n",
            "cluster                                                        ...   \n",
            "0        16.278532  12.021347  29.477601  29.593194  0.741290  ...   \n",
            "1        14.955516  11.903440  29.636596  29.731482  0.882871  ...   \n",
            "2        16.152343  11.158592  29.765124  29.362826  0.730410  ...   \n",
            "3        15.144915  10.910979  29.541519  29.440419  0.736186  ...   \n",
            "4        18.138383  10.734946  29.573095  29.685363  0.703267  ...   \n",
            "5        14.974710  12.242292  29.715195  29.523646  0.892909  ...   \n",
            "6        14.811017  11.494598  29.855896  29.356404  0.817065  ...   \n",
            "7        11.806553  10.888466  28.349826  29.433642  0.965745  ...   \n",
            "8        15.634047  11.519026  29.398860  29.578798  0.770753  ...   \n",
            "9        15.928927  12.346484  29.609588  29.476547  0.588553  ...   \n",
            "10       14.825395  12.068286  29.241873  29.704821  0.796451  ...   \n",
            "11       14.856195  12.185103  32.356932  30.006637  0.017699  ...   \n",
            "12       14.038803  10.793052  26.984848  29.909460  0.764967  ...   \n",
            "13       15.602012  11.442210  29.083591  29.467386  0.821872  ...   \n",
            "14       16.008971  10.573086  28.939359  29.736728  0.766543  ...   \n",
            "15       13.557840  12.038372  29.516889  29.553667  0.751483  ...   \n",
            "16       15.910195  11.929232  29.311267  29.465277  0.679528  ...   \n",
            "17       15.814835  11.623719  29.829186  29.641921  0.709094  ...   \n",
            "18       15.618810  11.425845  29.532967  29.493277  0.839192  ...   \n",
            "19       14.093456  10.504829  28.906124  29.476336  0.591956  ...   \n",
            "20       15.348680  11.395846  29.224316  29.372557  0.833021  ...   \n",
            "21       15.785074  12.004448  29.400903  29.681871  0.545682  ...   \n",
            "22       15.425785  11.445289  29.571022  29.195913  0.771696  ...   \n",
            "23       16.110085  11.472808  29.861227  29.658811  0.822036  ...   \n",
            "24       15.029996  13.270272  30.034195  29.744802  0.872477  ...   \n",
            "25       15.695642  11.650348  29.300567  29.422550  0.791900  ...   \n",
            "26       15.432950  11.435573  29.566237  29.265650  0.765004  ...   \n",
            "27       15.670538  11.585344  30.245770  29.859746  0.076784  ...   \n",
            "28       13.332011  10.833607  28.284609  29.320983  0.819000  ...   \n",
            "\n",
            "         Other or not specified  Programmer   Retired  Sales/marketing  \\\n",
            "cluster                                                                  \n",
            "0                      0.000000    0.000000  0.000000         0.000000   \n",
            "1                      0.000000    1.000000  0.000000         0.000000   \n",
            "2                      1.000000    0.000000  0.000000         0.000000   \n",
            "3                      0.000000    0.000000  0.000000         0.000000   \n",
            "4                      0.000000    0.000000  0.000000         0.000000   \n",
            "5                      0.000000    0.000000  0.000000         0.000000   \n",
            "6                      0.000000    0.000000  0.000000         0.000000   \n",
            "7                      0.000000    0.000000  0.000000         0.000000   \n",
            "8                      0.156802    0.079040  0.000000         0.053246   \n",
            "9                      0.000000    0.000000  0.000000         0.000000   \n",
            "10                     0.000000    0.000000  1.000000         0.000000   \n",
            "11                     0.000000    0.000000  0.000000         0.000000   \n",
            "12                     0.000000    0.000000  0.000000         0.000000   \n",
            "13                     0.000000    0.000000  0.000000         0.000000   \n",
            "14                     0.000000    0.000000  0.000000         0.000000   \n",
            "15                     0.000000    0.000000  0.000000         1.000000   \n",
            "16                     0.000000    0.000000  0.000000         0.000000   \n",
            "17                     0.156908    0.059823  0.000000         0.042131   \n",
            "18                     0.000000    0.000000  0.000000         0.000000   \n",
            "19                     0.000000    0.000000  0.000000         0.000000   \n",
            "20                     0.140907    0.057177  0.000000         0.054821   \n",
            "21                     0.000000    0.000000  0.000000         0.000000   \n",
            "22                     0.132757    0.065014  0.000174         0.048354   \n",
            "23                     0.325733    0.000000  0.000000         0.000000   \n",
            "24                     0.000000    0.000000  0.000000         0.000000   \n",
            "25                     0.287543    0.000000  0.000000         0.000000   \n",
            "26                     0.165860    0.068361  0.000000         0.063707   \n",
            "27                     0.000000    0.000000  0.000000         0.000000   \n",
            "28                     0.000000    0.000000  0.000000         0.000000   \n",
            "\n",
            "         Scientist  Self-employed  Technician/engineer  Tradesman/craftsman  \\\n",
            "cluster                                                                       \n",
            "0         0.000000       0.000000             0.000000                  0.0   \n",
            "1         0.000000       0.000000             0.000000                  0.0   \n",
            "2         0.000000       0.000000             0.000000                  0.0   \n",
            "3         0.000000       0.000000             0.000000                  0.0   \n",
            "4         0.000000       0.000000             0.000000                  0.0   \n",
            "5         0.000000       0.000000             1.000000                  0.0   \n",
            "6         1.000000       0.000000             0.000000                  0.0   \n",
            "7         0.000000       0.000000             0.000000                  1.0   \n",
            "8         0.000000       0.042093             0.103867                  0.0   \n",
            "9         0.000000       0.000000             0.000000                  0.0   \n",
            "10        0.000000       0.000000             0.000000                  0.0   \n",
            "11        0.000000       0.000000             0.000000                  0.0   \n",
            "12        0.000000       0.000000             0.000000                  0.0   \n",
            "13        0.000000       0.000000             0.000000                  0.0   \n",
            "14        0.000000       0.000000             0.000000                  0.0   \n",
            "15        0.000000       0.000000             0.000000                  0.0   \n",
            "16        0.000000       0.000000             0.000000                  0.0   \n",
            "17        0.009928       0.039140             0.083498                  0.0   \n",
            "18        0.000000       1.000000             0.000000                  0.0   \n",
            "19        0.000000       0.000000             0.000000                  0.0   \n",
            "20        0.027785       0.061352             0.088067                  0.0   \n",
            "21        0.000000       0.000000             0.000000                  0.0   \n",
            "22        0.026818       0.047832             0.074186                  0.0   \n",
            "23        0.000000       0.000000             0.000000                  0.0   \n",
            "24        0.000000       0.000000             0.000000                  0.0   \n",
            "25        0.000000       0.000000             0.000000                  0.0   \n",
            "26        0.000000       0.056025             0.093733                  0.0   \n",
            "27        0.000000       0.000000             0.000000                  0.0   \n",
            "28        0.000000       0.000000             0.000000                  0.0   \n",
            "\n",
            "         Unemployed    Writer  \n",
            "cluster                        \n",
            "0          0.000000  1.000000  \n",
            "1          0.000000  0.000000  \n",
            "2          0.000000  0.000000  \n",
            "3          0.000000  0.000000  \n",
            "4          0.000000  0.000000  \n",
            "5          0.000000  0.000000  \n",
            "6          0.000000  0.000000  \n",
            "7          0.000000  0.000000  \n",
            "8          0.000000  0.064468  \n",
            "9          0.000000  0.000000  \n",
            "10         0.000000  0.000000  \n",
            "11         0.000000  0.000000  \n",
            "12         0.000000  0.000000  \n",
            "13         0.000000  0.000000  \n",
            "14         1.000000  0.000000  \n",
            "15         0.000000  0.000000  \n",
            "16         0.000000  0.000000  \n",
            "17         0.000000  0.063610  \n",
            "18         0.000000  0.000000  \n",
            "19         0.000000  0.000000  \n",
            "20         0.000000  0.061459  \n",
            "21         0.000000  0.000000  \n",
            "22         0.004586  0.083241  \n",
            "23         0.000000  0.000144  \n",
            "24         0.000000  0.000000  \n",
            "25         0.000000  0.000000  \n",
            "26         0.000000  0.078738  \n",
            "27         0.000000  0.000000  \n",
            "28         0.000000  0.000000  \n",
            "\n",
            "[29 rows x 51 columns]\n"
          ]
        }
      ],
      "source": [
        "# Mean per cluster\n",
        "cluster_summary = df_final.groupby('cluster').mean()\n",
        "print(cluster_summary)"
      ]
    },
    {
      "cell_type": "code",
      "execution_count": 19,
      "metadata": {
        "id": "QpEfJzbT3FPe"
      },
      "outputs": [],
      "source": [
        "# Save df_kmeans_clustered -> Df with assigned clusters using kmeans algorithm with k = 29\n",
        "df_final.to_csv('/content/drive/My Drive/Thesis/Data/df_kmeans_clustered.csv', index=False)\n"
      ]
    },
    {
      "cell_type": "markdown",
      "metadata": {
        "id": "nxCnbKj1l_zc"
      },
      "source": [
        "## Hierarcical clustering"
      ]
    },
    {
      "cell_type": "code",
      "execution_count": null,
      "metadata": {
        "id": "UA5SIg1bl_zc"
      },
      "outputs": [],
      "source": [
        "import pandas as pd\n",
        "from sklearn.preprocessing import StandardScaler\n",
        "from scipy.cluster.hierarchy import linkage, dendrogram, fcluster\n",
        "import matplotlib.pyplot as plt\n",
        "import numpy as np"
      ]
    },
    {
      "cell_type": "code",
      "execution_count": null,
      "metadata": {
        "id": "yn-jMwc2l_zc"
      },
      "outputs": [],
      "source": [
        "df_final = pd.read_csv(\"/Users/femke/Documents/Uni/DSS/Thesis/Data/ml1m_df_final.csv\")\n",
        "df_final = df_final.drop(columns=[\"Title\"])"
      ]
    },
    {
      "cell_type": "code",
      "execution_count": null,
      "metadata": {
        "id": "TsXInjoHl_zd"
      },
      "outputs": [],
      "source": [
        "# Scale the features\n",
        "scaler = StandardScaler()\n",
        "df_scaled = scaler.fit_transform(df_final)\n",
        "\n",
        "# Determine the range of clusters to evaluate\n",
        "cluster_range = range(1, 11)\n",
        "linkage_matrix = linkage(df_scaled, method='ward')\n",
        "\n",
        "# Calculate the within-cluster sum of squares for each number of clusters\n",
        "inertia = []\n",
        "for k in cluster_range:\n",
        "    clusters = fcluster(linkage_matrix, k, criterion='maxclust')\n",
        "    inertia.append(np.sum(np.min(linkage_matrix[:, 2], axis=0)))\n",
        "\n",
        "# Plot the results to find the elbow point\n",
        "plt.figure(figsize=(8, 6))\n",
        "plt.plot(cluster_range, inertia, marker='o')\n",
        "plt.title('Elbow Method For Optimal k')\n",
        "plt.xlabel('Number of clusters')\n",
        "plt.ylabel('Inertia')\n",
        "plt.show()\n"
      ]
    }
  ],
  "metadata": {
    "colab": {
      "provenance": []
    },
    "kernelspec": {
      "display_name": "DLASSKERNEL",
      "language": "python",
      "name": "dlasskernel"
    },
    "language_info": {
      "codemirror_mode": {
        "name": "ipython",
        "version": 3
      },
      "file_extension": ".py",
      "mimetype": "text/x-python",
      "name": "python",
      "nbconvert_exporter": "python",
      "pygments_lexer": "ipython3",
      "version": "3.11.5"
    }
  },
  "nbformat": 4,
  "nbformat_minor": 0
}
