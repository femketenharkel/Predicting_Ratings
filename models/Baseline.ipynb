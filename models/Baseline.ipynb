{
  "cells": [
    {
      "cell_type": "markdown",
      "source": [
        "# **Random Forest baseline complete**"
      ],
      "metadata": {
        "id": "B0BsNSM_f7Q7"
      }
    },
    {
      "cell_type": "code",
      "source": [
        "import numpy as np\n",
        "import pandas as pd\n",
        "import joblib\n",
        "from google.colab import drive\n",
        "from sklearn.model_selection import KFold, train_test_split, RandomizedSearchCV\n",
        "from sklearn.ensemble import RandomForestClassifier\n",
        "from sklearn.metrics import make_scorer, accuracy_score, precision_score, recall_score, f1_score"
      ],
      "metadata": {
        "id": "d-pttVD1Y2tD"
      },
      "execution_count": null,
      "outputs": []
    },
    {
      "cell_type": "code",
      "source": [
        "# Load df\n",
        "drive.mount('/content/drive')\n",
        "df_final = pd.read_csv(\"/content/drive/My Drive/Thesis/Data/df_final_2.csv\")\n",
        "\n",
        "df_final = df_final.astype(np.int32)"
      ],
      "metadata": {
        "colab": {
          "base_uri": "https://localhost:8080/"
        },
        "id": "pYZ-svpugQQW",
        "outputId": "3d4d0719-b9bd-41d9-ae85-10606e9c12a8"
      },
      "execution_count": null,
      "outputs": [
        {
          "output_type": "stream",
          "name": "stdout",
          "text": [
            "Drive already mounted at /content/drive; to attempt to forcibly remount, call drive.mount(\"/content/drive\", force_remount=True).\n"
          ]
        }
      ]
    },
    {
      "cell_type": "code",
      "source": [
        "# Define feature and target\n",
        "X = df_final.drop(columns=['Rating'])\n",
        "y = df_final['Rating']\n",
        "\n",
        "# Split data 80% train, 20% test\n",
        "X_train, X_test, y_train, y_test = train_test_split(X, y, test_size=0.2,\n",
        "                                                    stratify=y, random_state=42)\n",
        "\n",
        "# Define the parameter grid for hyperparameter tuning\n",
        "param_dist = {\n",
        "    'n_estimators': [100, 200, 250, 300],\n",
        "    'max_depth': [20, 30, 40, 50],\n",
        "    'min_samples_split': [2,5,10],\n",
        "    'min_samples_leaf': [1, 2, 4]\n",
        "}\n",
        "\n",
        "# Define the inner and outer cross-validation\n",
        "inner_cv = KFold(n_splits=3, shuffle=True, random_state=42)\n",
        "outer_cv = KFold(n_splits=5, shuffle=True, random_state=42)\n",
        "\n",
        "# Define the scoring metric\n",
        "f1_weighted_scorer = make_scorer(f1_score, average='weighted')\n"
      ],
      "metadata": {
        "id": "PLy_q_-wK2p2"
      },
      "execution_count": null,
      "outputs": []
    },
    {
      "cell_type": "code",
      "source": [
        "# Define evaluation functions\n",
        "def evaluate_model(model, X, y, dataset_name=\"\"):\n",
        "    predictions = model.predict(X)\n",
        "    acc = accuracy_score(y, predictions)\n",
        "    prec = precision_score(y, predictions, average='weighted')\n",
        "    rec = recall_score(y, predictions, average='weighted')\n",
        "    f1 = f1_score(y, predictions, average='weighted')\n",
        "\n",
        "    return acc, prec, rec, f1\n",
        "\n",
        "def evaluate_model_print(model, X, y, dataset_name=\"\"):\n",
        "    predictions = model.predict(X)\n",
        "    acc = accuracy_score(y, predictions)\n",
        "    prec = precision_score(y, predictions, average='weighted')\n",
        "    rec = recall_score(y, predictions, average='weighted')\n",
        "    f1 = f1_score(y, predictions, average='weighted')\n",
        "\n",
        "    print(f\"{dataset_name} Set Performance:\")\n",
        "    print(f\"Accuracy: {acc:.2f} ± {np.std([acc]):.2f}\")\n",
        "    print(f\"Precision: {prec:.2f} ± {np.std([prec]):.2f}\")\n",
        "    print(f\"Recall: {rec:.2f} ± {np.std([rec]):.2f}\")\n",
        "    print(f\"F1 Score: {f1:.2f} ± {np.std([f1]):.2f}\")\n",
        "\n",
        "    return acc, prec, rec, f1\n",
        "\n",
        "def print_average_performance(scores, dataset_name=\"\"):\n",
        "    scores = np.array(scores)\n",
        "    print(f\"{dataset_name} Set Performance (Averaged):\")\n",
        "    print(f\"Accuracy: {scores[:, 0].mean():.2f} ± {scores[:, 0].std():.2f}\")\n",
        "    print(f\"Precision: {scores[:, 1].mean():.2f} ± {scores[:, 1].std():.2f}\")\n",
        "    print(f\"Recall: {scores[:, 2].mean():.2f} ± {scores[:, 2].std():.2f}\")\n",
        "    print(f\"F1 Score: {scores[:, 3].mean():.2f} ± {scores[:, 3].std():.2f}\")\n",
        "\n",
        "def print_hyperparameter_performance(cv_results):\n",
        "    print(\"Average F1 scores for all hyperparameters tried:\")\n",
        "    for params, mean_score, std_score in zip(cv_results['params'], cv_results['mean_test_score'], cv_results['std_test_score']):\n",
        "        print(f\"Parameters: {params}, Average F1 Score: {mean_score:.2f} ± {std_score:.2f}\")\n",
        "\n",
        "# Initialize the Randomized Search with class_weight='balanced'\n",
        "random_search = RandomizedSearchCV(\n",
        "    estimator=RandomForestClassifier(class_weight='balanced', random_state=42),\n",
        "    param_distributions=param_dist,\n",
        "    n_iter=15,\n",
        "    cv=inner_cv,\n",
        "    scoring=f1_weighted_scorer\n",
        ")\n",
        "\n",
        "# Define output lists\n",
        "outer_scores = []\n",
        "val_scores = []\n",
        "train_scores = []\n",
        "best_params_list = []\n",
        "\n",
        "# Perform nested CV\n",
        "for train_idx, val_idx in outer_cv.split(X_train, y_train):\n",
        "    # Split the data into training and validation sets\n",
        "    X_train_fold = X_train.iloc[train_idx]\n",
        "    X_val_fold = X_train.iloc[val_idx]\n",
        "    y_train_fold = y_train.iloc[train_idx]\n",
        "    y_val_fold = y_train.iloc[val_idx]\n",
        "\n",
        "    # Fit the model on the training fold\n",
        "    random_search.fit(X_train_fold, y_train_fold)\n",
        "    best_model = random_search.best_estimator_\n",
        "\n",
        "    # Save the best parameters for this fold\n",
        "    best_params_list.append(random_search.best_params_)\n",
        "\n",
        "    # Evaluate on the training set\n",
        "    train_scores.append(evaluate_model(best_model, X_train_fold, y_train_fold, \"Training\"))\n",
        "\n",
        "    # Evaluate on the validation set\n",
        "    val_scores.append(evaluate_model(best_model, X_val_fold, y_val_fold, \"Validation\"))\n",
        "\n",
        "    # Store the outer fold score (f1_weighted)\n",
        "    outer_scores.append(random_search.best_score_)\n",
        "\n",
        "# Print the performance of the nested CV\n",
        "print(f\"Nested Cross-Validation F1 Score: {np.mean(outer_scores):.2f} ± {np.std(outer_scores):.2f}\")\n",
        "print(\"\")\n",
        "print(\"Average metrics for all folds:\")\n",
        "# Print averaged training set performance for each fold\n",
        "print_average_performance(train_scores, \"Training\")\n",
        "# Print averaged validation set performance for each fold\n",
        "print_average_performance(val_scores, \"Validation\")\n",
        "\n",
        "# Print the best parameters found during hyperparameter tuning\n",
        "print(\"Best parameters found during hyperparameter tuning:\")\n",
        "for i, params in enumerate(best_params_list):\n",
        "    print(f\"Fold {i+1}: {params}\")\n",
        "\n",
        "# Print average F1 scores for all hyperparameters tried\n",
        "print_hyperparameter_performance(random_search.cv_results_)\n",
        "\n",
        "# Define the best parameters found in nested CV\n",
        "best_params = best_params_list[np.argmax(outer_scores)]\n",
        "\n",
        "# Train the best model with class_weight='balanced'\n",
        "best_model = RandomForestClassifier(**best_params, class_weight='balanced', random_state=42)\n",
        "best_model.fit(X_train, y_train)\n",
        "\n",
        "print(\"Evaluation of best performing model:\")\n",
        "# Evaluate on the training set\n",
        "evaluate_model_print(best_model, X_train, y_train, \"Training\")\n",
        "# Evaluate on the test set\n",
        "evaluate_model_print(best_model, X_test, y_test, \"Test\")\n",
        "\n",
        "# Print the parameters for the best-performing model\n",
        "print(\"Parameters for the best performing model:\")\n",
        "print(best_params)\n",
        "\n",
        "# Save the best performing model\n",
        "joblib_file = \"/content/drive/My Drive/Thesis/Models/Baseline_RF.pkl\"\n",
        "joblib.dump(best_model, joblib_file)"
      ],
      "metadata": {
        "colab": {
          "base_uri": "https://localhost:8080/"
        },
        "id": "8pFAkM5Uqea8",
        "outputId": "806eb63b-0f58-483d-8e81-38ef58e17d71"
      },
      "execution_count": null,
      "outputs": [
        {
          "output_type": "stream",
          "name": "stderr",
          "text": [
            "/usr/local/lib/python3.10/dist-packages/numpy/ma/core.py:2820: RuntimeWarning: invalid value encountered in cast\n",
            "  _data = np.array(data, dtype=dtype, copy=copy,\n"
          ]
        },
        {
          "output_type": "stream",
          "name": "stdout",
          "text": [
            "Nested Cross-Validation F1 Score: 0.40 ± 0.00\n",
            "\n",
            "Average metrics for all folds:\n",
            "Training Set Performance (Averaged):\n",
            "Accuracy: 0.98 ± 0.01\n",
            "Precision: 0.98 ± 0.01\n",
            "Recall: 0.98 ± 0.01\n",
            "F1 Score: 0.98 ± 0.01\n",
            "Validation Set Performance (Averaged):\n",
            "Accuracy: 0.41 ± 0.00\n",
            "Precision: 0.40 ± 0.00\n",
            "Recall: 0.41 ± 0.00\n",
            "F1 Score: 0.40 ± 0.00\n",
            "Best parameters found during hyperparameter tuning:\n",
            "Fold 1: {'n_estimators': 300, 'min_samples_split': 5, 'min_samples_leaf': 1, 'max_depth': 30}\n",
            "Fold 2: {'n_estimators': 200, 'min_samples_split': 2, 'min_samples_leaf': 1, 'max_depth': 30}\n",
            "Fold 3: {'n_estimators': 250, 'min_samples_split': 2, 'min_samples_leaf': 2, 'max_depth': 40}\n",
            "Fold 4: {'n_estimators': 300, 'min_samples_split': 5, 'min_samples_leaf': 1, 'max_depth': 30}\n",
            "Fold 5: {'n_estimators': 300, 'min_samples_split': 5, 'min_samples_leaf': 1, 'max_depth': 50}\n",
            "Average F1 scores for all hyperparameters tried:\n",
            "Parameters: {'n_estimators': 200, 'min_samples_split': 10, 'min_samples_leaf': 4, 'max_depth': 20}, Average F1 Score: 0.36 ± 0.00\n",
            "Parameters: {'n_estimators': 250, 'min_samples_split': 5, 'min_samples_leaf': 4, 'max_depth': 30}, Average F1 Score: 0.38 ± 0.00\n",
            "Parameters: {'n_estimators': 100, 'min_samples_split': 10, 'min_samples_leaf': 4, 'max_depth': 50}, Average F1 Score: 0.38 ± 0.00\n",
            "Parameters: {'n_estimators': 100, 'min_samples_split': 2, 'min_samples_leaf': 2, 'max_depth': 30}, Average F1 Score: 0.39 ± 0.00\n",
            "Parameters: {'n_estimators': 200, 'min_samples_split': 2, 'min_samples_leaf': 4, 'max_depth': 20}, Average F1 Score: 0.36 ± 0.00\n",
            "Parameters: {'n_estimators': 100, 'min_samples_split': 2, 'min_samples_leaf': 1, 'max_depth': 50}, Average F1 Score: 0.38 ± 0.00\n",
            "Parameters: {'n_estimators': 100, 'min_samples_split': 10, 'min_samples_leaf': 2, 'max_depth': 20}, Average F1 Score: 0.36 ± 0.00\n",
            "Parameters: {'n_estimators': 250, 'min_samples_split': 5, 'min_samples_leaf': 4, 'max_depth': 20}, Average F1 Score: 0.36 ± 0.00\n",
            "Parameters: {'n_estimators': 300, 'min_samples_split': 5, 'min_samples_leaf': 4, 'max_depth': 20}, Average F1 Score: 0.36 ± 0.00\n",
            "Parameters: {'n_estimators': 300, 'min_samples_split': 10, 'min_samples_leaf': 1, 'max_depth': 50}, Average F1 Score: 0.40 ± 0.00\n",
            "Parameters: {'n_estimators': 300, 'min_samples_split': 5, 'min_samples_leaf': 1, 'max_depth': 50}, Average F1 Score: 0.40 ± 0.00\n",
            "Parameters: {'n_estimators': 300, 'min_samples_split': 2, 'min_samples_leaf': 2, 'max_depth': 50}, Average F1 Score: 0.40 ± 0.00\n",
            "Parameters: {'n_estimators': 300, 'min_samples_split': 2, 'min_samples_leaf': 4, 'max_depth': 20}, Average F1 Score: 0.36 ± 0.00\n",
            "Parameters: {'n_estimators': 300, 'min_samples_split': 10, 'min_samples_leaf': 1, 'max_depth': 40}, Average F1 Score: 0.40 ± 0.00\n",
            "Parameters: {'n_estimators': 250, 'min_samples_split': 5, 'min_samples_leaf': 2, 'max_depth': 30}, Average F1 Score: 0.39 ± 0.00\n",
            "Evaluation of best performing model:\n",
            "Training Set Performance:\n",
            "Accuracy: 0.99 ± 0.00\n",
            "Precision: 0.99 ± 0.00\n",
            "Recall: 0.99 ± 0.00\n",
            "F1 Score: 0.99 ± 0.00\n",
            "Test Set Performance:\n",
            "Accuracy: 0.41 ± 0.00\n",
            "Precision: 0.41 ± 0.00\n",
            "Recall: 0.41 ± 0.00\n",
            "F1 Score: 0.41 ± 0.00\n",
            "Parameters for the best performing model:\n",
            "{'n_estimators': 300, 'min_samples_split': 5, 'min_samples_leaf': 1, 'max_depth': 50}\n"
          ]
        },
        {
          "output_type": "execute_result",
          "data": {
            "text/plain": [
              "['/content/drive/My Drive/Thesis/Models/Baseline_RF.pkl']"
            ]
          },
          "metadata": {},
          "execution_count": 6
        }
      ]
    },
    {
      "cell_type": "markdown",
      "source": [
        "# **XGBoost baseline, met training output**"
      ],
      "metadata": {
        "id": "NBTD_7oEURTQ"
      }
    },
    {
      "cell_type": "code",
      "source": [
        "pip install xgboost"
      ],
      "metadata": {
        "id": "hXxmgFYHUQx-",
        "outputId": "777a78e0-d8ae-4295-ea2b-f2679bcdf6a1",
        "colab": {
          "base_uri": "https://localhost:8080/"
        }
      },
      "execution_count": null,
      "outputs": [
        {
          "output_type": "stream",
          "name": "stdout",
          "text": [
            "Requirement already satisfied: xgboost in /usr/local/lib/python3.10/dist-packages (2.1.2)\n",
            "Requirement already satisfied: numpy in /usr/local/lib/python3.10/dist-packages (from xgboost) (1.26.4)\n",
            "Requirement already satisfied: nvidia-nccl-cu12 in /usr/local/lib/python3.10/dist-packages (from xgboost) (2.23.4)\n",
            "Requirement already satisfied: scipy in /usr/local/lib/python3.10/dist-packages (from xgboost) (1.13.1)\n"
          ]
        }
      ]
    },
    {
      "cell_type": "code",
      "source": [
        "import pandas as pd\n",
        "import numpy as np\n",
        "import joblib\n",
        "import xgboost as xgb\n",
        "from sklearn.preprocessing import LabelEncoder\n",
        "from google.colab import drive\n",
        "from xgboost import XGBClassifier\n",
        "from sklearn.model_selection import train_test_split\n",
        "from sklearn.metrics import make_scorer, f1_score\n",
        "from sklearn.model_selection import KFold, RandomizedSearchCV, StratifiedKFold\n",
        "from sklearn.metrics import accuracy_score, precision_score, recall_score, f1_score, make_scorer"
      ],
      "metadata": {
        "id": "vlrS3QPXUXPk"
      },
      "execution_count": null,
      "outputs": []
    },
    {
      "cell_type": "code",
      "source": [
        "# Load in the data\n",
        "drive.mount('/content/drive')\n",
        "df_final = pd.read_csv('/content/drive/My Drive/Thesis/Data/df_final_2.csv')\n",
        "df_final = df_final.astype(np.int32)"
      ],
      "metadata": {
        "colab": {
          "base_uri": "https://localhost:8080/"
        },
        "id": "y0trMssKfjH4",
        "outputId": "d23489bc-3fe1-4751-d5f3-43da14d43006"
      },
      "execution_count": null,
      "outputs": [
        {
          "output_type": "stream",
          "name": "stdout",
          "text": [
            "Mounted at /content/drive\n"
          ]
        }
      ]
    },
    {
      "cell_type": "code",
      "source": [
        "# Initialize the LabelEncoder\n",
        "label_encoder = LabelEncoder()\n",
        "\n",
        "# Fit and transform the \"Rating\" column\n",
        "df_final['Rating'] = label_encoder.fit_transform(df_final['Rating'])"
      ],
      "metadata": {
        "id": "xgkDbAgmfeZU"
      },
      "execution_count": null,
      "outputs": []
    },
    {
      "cell_type": "code",
      "source": [
        "# Define feature and target\n",
        "X = df_final.drop(columns=['Rating'])\n",
        "y = df_final['Rating']\n",
        "\n",
        "# Split data 80% train, 20% test\n",
        "X_train, X_test, y_train, y_test = train_test_split(X, y, test_size=0.2,\n",
        "                                                    stratify=y, random_state=42)\n",
        "\n",
        "# Define the parameter grid for hyperparameter tuning\n",
        "param_dist = {\n",
        "    'n_estimators': [100, 200, 300, 400],\n",
        "    'learning_rate': [0.05, 0.1, 0.2],\n",
        "    'max_depth': [3, 5, 7],\n",
        "}\n",
        "\n",
        "# Define the inner and outer cross-validation strategies\n",
        "inner_cv = KFold(n_splits=3, shuffle=True, random_state=42)\n",
        "outer_cv = KFold(n_splits=5, shuffle=True, random_state=42)\n",
        "\n",
        "# Define the scoring metric\n",
        "f1_weighted_scorer = make_scorer(f1_score, average='weighted')"
      ],
      "metadata": {
        "id": "WygaPsD9fWnQ"
      },
      "execution_count": null,
      "outputs": []
    },
    {
      "cell_type": "code",
      "source": [
        "# Define evaluation functions\n",
        "def evaluate_model(model, X, y, dataset_name=\"\"):\n",
        "    predictions = model.predict(X)\n",
        "    acc = accuracy_score(y, predictions)\n",
        "    prec = precision_score(y, predictions, average='weighted')\n",
        "    rec = recall_score(y, predictions, average='weighted')\n",
        "    f1 = f1_score(y, predictions, average='weighted')\n",
        "\n",
        "    return acc, prec, rec, f1\n",
        "\n",
        "def evaluate_model_print(model, X, y, dataset_name=\"\"):\n",
        "    predictions = model.predict(X)\n",
        "    acc = accuracy_score(y, predictions)\n",
        "    prec = precision_score(y, predictions, average='weighted')\n",
        "    rec = recall_score(y, predictions, average='weighted')\n",
        "    f1 = f1_score(y, predictions, average='weighted')\n",
        "\n",
        "    print(f\"{dataset_name} Set Performance:\")\n",
        "    print(f\"Accuracy: {acc:.2f}\")\n",
        "    print(f\"Precision: {prec:.2f}\")\n",
        "    print(f\"Recall: {rec:.2f}\")\n",
        "    print(f\"F1 Score: {f1:.2f}\")\n",
        "\n",
        "    return acc, prec, rec, f1\n",
        "\n",
        "def print_average_performance(scores, dataset_name=\"\"):\n",
        "    scores = np.array(scores)\n",
        "    print(f\"{dataset_name} Set Performance (Averaged):\")\n",
        "    print(f\"Accuracy: {scores[:, 0].mean():.2f} ± {scores[:, 0].std():.2f}\")\n",
        "    print(f\"Precision: {scores[:, 1].mean():.2f} ± {scores[:, 1].std():.2f}\")\n",
        "    print(f\"Recall: {scores[:, 2].mean():.2f} ± {scores[:, 2].std():.2f}\")\n",
        "    print(f\"F1 Score: {scores[:, 3].mean():.2f} ± {scores[:, 3].std():.2f}\")\n",
        "\n",
        "def print_hyperparameter_performance(cv_results):\n",
        "    print(\"Average F1 scores for all hyperparameters tried:\")\n",
        "    for params, mean_score in zip(cv_results['params'], cv_results['mean_test_score']):\n",
        "        print(f\"Parameters: {params}, Average F1 Score: {mean_score:.2f}\")\n",
        "\n",
        "# Initialize the RandomizedSearchCV\n",
        "random_search = RandomizedSearchCV(\n",
        "    estimator=XGBClassifier(tree_method='hist', device='cuda', eval_metric='merror'),\n",
        "    param_distributions=param_dist,\n",
        "    n_iter=15,\n",
        "    cv=inner_cv,\n",
        "    scoring=f1_weighted_scorer,\n",
        "    n_jobs=-1\n",
        ")\n",
        "\n",
        "# Define output lists\n",
        "outer_scores = []\n",
        "val_scores = []\n",
        "train_scores = []\n",
        "best_params_list = []\n",
        "\n",
        "# Perform nested CV on the training data\n",
        "for train_idx, val_idx in outer_cv.split(X_train, y_train):\n",
        "    # Split the data into training and validation sets\n",
        "    X_train_fold = X_train.iloc[train_idx]\n",
        "    X_val_fold = X_train.iloc[val_idx]\n",
        "    y_train_fold = y_train.iloc[train_idx]\n",
        "    y_val_fold = y_train.iloc[val_idx]\n",
        "\n",
        "    # Fit the model on the training fold\n",
        "    random_search.fit(X_train_fold, y_train_fold)\n",
        "    best_model = random_search.best_estimator_\n",
        "\n",
        "    # Save the best parameters for this fold\n",
        "    best_params_list.append(random_search.best_params_)\n",
        "\n",
        "    # Evaluate on the training set\n",
        "    train_scores.append(evaluate_model(best_model, X_train_fold, y_train_fold, \"Training\"))\n",
        "\n",
        "    # Evaluate on the validation set\n",
        "    val_scores.append(evaluate_model(best_model, X_val_fold, y_val_fold, \"Validation\"))\n",
        "\n",
        "    # Store the outer fold score (f1_weighted)\n",
        "    outer_scores.append(random_search.best_score_)\n",
        "\n",
        "# Print the performance of the nested CV\n",
        "print(f\"Nested Cross-Validation F1 Score: {np.mean(outer_scores):.2f} ± {np.std(outer_scores):.2f}\")\n",
        "print(\"\")\n",
        "print(\"Average metrics for all folds:\")\n",
        "# Print averaged training set performance for each fold\n",
        "print_average_performance(train_scores, \"Training\")\n",
        "# Print averaged validation set performance for each fold\n",
        "print_average_performance(val_scores, \"Validation\")\n",
        "\n",
        "# Print the best parameters found during hyperparameter tuning\n",
        "print(\"Best parameters found during hyperparameter tuning:\")\n",
        "for i, params in enumerate(best_params_list):\n",
        "    print(f\"Fold {i+1}: {params}\")\n",
        "\n",
        "# Print average F1 scores for all hyperparameters tried\n",
        "print_hyperparameter_performance(random_search.cv_results_)\n",
        "\n",
        "# Define the best parameters found in nested CV\n",
        "best_params = best_params_list[np.argmax(outer_scores)]\n",
        "\n",
        "# Train best model on the entire training data\n",
        "best_model = XGBClassifier(**best_params, tree_method='hist', device='cuda', eval_metric='merror', random_state=42)\n",
        "best_model.fit(X_train, y_train)\n",
        "\n",
        "print(\"Evaluation of best performing model:\")\n",
        "# Evaluate on the training set\n",
        "evaluate_model_print(best_model, X_train, y_train, \"Training\")\n",
        "# Evaluate on the test set\n",
        "evaluate_model_print(best_model, X_test, y_test, \"Test\")\n",
        "\n",
        "# Print the parameters for the best-performing model\n",
        "print(\"Parameters for the best performing model:\")\n",
        "print(best_params)\n",
        "\n",
        "joblib.dump(best_model, \"/content/drive/My Drive/Thesis/Models/Baseline_XGB_training_info.pkl\")"
      ],
      "metadata": {
        "colab": {
          "base_uri": "https://localhost:8080/"
        },
        "id": "EvE_XJmMr7ra",
        "outputId": "aad3b599-343c-4695-f986-fb9732ad41fd"
      },
      "execution_count": null,
      "outputs": [
        {
          "output_type": "stream",
          "name": "stdout",
          "text": [
            "Nested Cross-Validation F1 Score: 0.41 ± 0.01\n",
            "\n",
            "Average metrics for all folds:\n",
            "Training Set Performance (Averaged):\n",
            "Accuracy: 0.56 ± 0.05\n",
            "Precision: 0.58 ± 0.05\n",
            "Recall: 0.56 ± 0.05\n",
            "F1 Score: 0.55 ± 0.06\n",
            "Validation Set Performance (Averaged):\n",
            "Accuracy: 0.43 ± 0.01\n",
            "Precision: 0.43 ± 0.00\n",
            "Recall: 0.43 ± 0.01\n",
            "F1 Score: 0.41 ± 0.01\n",
            "Best parameters found during hyperparameter tuning:\n",
            "Fold 1: {'n_estimators': 400, 'max_depth': 7, 'learning_rate': 0.2}\n",
            "Fold 2: {'n_estimators': 200, 'max_depth': 7, 'learning_rate': 0.2}\n",
            "Fold 3: {'n_estimators': 200, 'max_depth': 7, 'learning_rate': 0.2}\n",
            "Fold 4: {'n_estimators': 300, 'max_depth': 7, 'learning_rate': 0.2}\n",
            "Fold 5: {'n_estimators': 300, 'max_depth': 5, 'learning_rate': 0.2}\n",
            "Average F1 scores for all hyperparameters tried:\n",
            "Parameters: {'n_estimators': 100, 'max_depth': 7, 'learning_rate': 0.1}, Average F1 Score: 0.38\n",
            "Parameters: {'n_estimators': 400, 'max_depth': 3, 'learning_rate': 0.1}, Average F1 Score: 0.36\n",
            "Parameters: {'n_estimators': 200, 'max_depth': 3, 'learning_rate': 0.05}, Average F1 Score: 0.34\n",
            "Parameters: {'n_estimators': 400, 'max_depth': 3, 'learning_rate': 0.2}, Average F1 Score: 0.38\n",
            "Parameters: {'n_estimators': 200, 'max_depth': 7, 'learning_rate': 0.1}, Average F1 Score: 0.39\n",
            "Parameters: {'n_estimators': 200, 'max_depth': 7, 'learning_rate': 0.05}, Average F1 Score: 0.38\n",
            "Parameters: {'n_estimators': 400, 'max_depth': 7, 'learning_rate': 0.05}, Average F1 Score: 0.39\n",
            "Parameters: {'n_estimators': 100, 'max_depth': 3, 'learning_rate': 0.2}, Average F1 Score: 0.35\n",
            "Parameters: {'n_estimators': 200, 'max_depth': 3, 'learning_rate': 0.2}, Average F1 Score: 0.36\n",
            "Parameters: {'n_estimators': 300, 'max_depth': 5, 'learning_rate': 0.05}, Average F1 Score: 0.37\n",
            "Parameters: {'n_estimators': 300, 'max_depth': 5, 'learning_rate': 0.2}, Average F1 Score: 0.40\n",
            "Parameters: {'n_estimators': 200, 'max_depth': 5, 'learning_rate': 0.2}, Average F1 Score: 0.39\n",
            "Parameters: {'n_estimators': 300, 'max_depth': 3, 'learning_rate': 0.1}, Average F1 Score: 0.36\n",
            "Parameters: {'n_estimators': 400, 'max_depth': 5, 'learning_rate': 0.05}, Average F1 Score: 0.37\n",
            "Parameters: {'n_estimators': 400, 'max_depth': 3, 'learning_rate': 0.05}, Average F1 Score: 0.35\n",
            "Evaluation of best performing model:\n",
            "Training Set Performance:\n",
            "Accuracy: 0.61\n",
            "Precision: 0.62\n",
            "Recall: 0.61\n",
            "F1 Score: 0.60\n",
            "Test Set Performance:\n",
            "Accuracy: 0.44\n",
            "Precision: 0.44\n",
            "Recall: 0.44\n",
            "F1 Score: 0.43\n",
            "Parameters for the best performing model:\n",
            "{'n_estimators': 400, 'max_depth': 7, 'learning_rate': 0.2}\n"
          ]
        },
        {
          "output_type": "execute_result",
          "data": {
            "text/plain": [
              "['/content/drive/My Drive/Thesis/Models/Baseline_XGB_training_info.pkl']"
            ]
          },
          "metadata": {},
          "execution_count": 30
        }
      ]
    },
    {
      "cell_type": "markdown",
      "source": [
        "## XGBoost with compute_sample_weight\n",
        "\n",
        "\n"
      ],
      "metadata": {
        "id": "S0IX7MP0U2P9"
      }
    },
    {
      "cell_type": "code",
      "source": [
        "pip install xgboost"
      ],
      "metadata": {
        "colab": {
          "base_uri": "https://localhost:8080/"
        },
        "id": "neT2J5_iVbRx",
        "outputId": "175755b8-5575-414a-f3ce-bd18c3d0e16f"
      },
      "execution_count": null,
      "outputs": [
        {
          "output_type": "stream",
          "name": "stdout",
          "text": [
            "Requirement already satisfied: xgboost in /usr/local/lib/python3.10/dist-packages (2.1.2)\n",
            "Requirement already satisfied: numpy in /usr/local/lib/python3.10/dist-packages (from xgboost) (1.26.4)\n",
            "Requirement already satisfied: nvidia-nccl-cu12 in /usr/local/lib/python3.10/dist-packages (from xgboost) (2.23.4)\n",
            "Requirement already satisfied: scipy in /usr/local/lib/python3.10/dist-packages (from xgboost) (1.13.1)\n"
          ]
        }
      ]
    },
    {
      "cell_type": "code",
      "source": [
        "import pandas as pd\n",
        "import numpy as np\n",
        "import xgboost as xgb\n",
        "import joblib\n",
        "from sklearn.preprocessing import LabelEncoder\n",
        "from google.colab import drive\n",
        "from xgboost import XGBClassifier\n",
        "from sklearn.model_selection import train_test_split\n",
        "from sklearn.metrics import make_scorer, f1_score\n",
        "from sklearn.utils.class_weight import compute_sample_weight\n",
        "from sklearn.model_selection import KFold, RandomizedSearchCV, StratifiedKFold\n",
        "from sklearn.metrics import accuracy_score, precision_score, recall_score, f1_score, make_scorer"
      ],
      "metadata": {
        "id": "uBVQzo-ZVhzH"
      },
      "execution_count": null,
      "outputs": []
    },
    {
      "cell_type": "code",
      "source": [
        "# Load in the data\n",
        "drive.mount('/content/drive')\n",
        "df_final = pd.read_csv('/content/drive/My Drive/Thesis/Data/df_final_2.csv')\n",
        "\n",
        "df_final = df_final.astype(np.int32)"
      ],
      "metadata": {
        "colab": {
          "base_uri": "https://localhost:8080/"
        },
        "id": "-ucHUxgBVpT9",
        "outputId": "78746426-718e-4a04-ee3a-58a13eb42828"
      },
      "execution_count": null,
      "outputs": [
        {
          "output_type": "stream",
          "name": "stdout",
          "text": [
            "Drive already mounted at /content/drive; to attempt to forcibly remount, call drive.mount(\"/content/drive\", force_remount=True).\n"
          ]
        }
      ]
    },
    {
      "cell_type": "code",
      "source": [
        "# Initialize the LabelEncoder\n",
        "label_encoder = LabelEncoder()\n",
        "\n",
        "# Fit and transform the \"Rating\" column\n",
        "df_final['Rating'] = label_encoder.fit_transform(df_final['Rating'])"
      ],
      "metadata": {
        "id": "hN67n7ijVvN3"
      },
      "execution_count": null,
      "outputs": []
    },
    {
      "cell_type": "code",
      "source": [
        "from sklearn.model_selection import train_test_split, KFold, RandomizedSearchCV\n",
        "from sklearn.metrics import make_scorer, f1_score, accuracy_score, precision_score, recall_score\n",
        "from sklearn.utils.class_weight import compute_sample_weight\n",
        "from xgboost import XGBClassifier\n",
        "import numpy as np\n",
        "import joblib\n",
        "\n",
        "# Define feature and target\n",
        "X = df_final.drop(columns=['Rating'])\n",
        "y = df_final['Rating']\n",
        "\n",
        "# Split data 80% train, 20% test\n",
        "X_train, X_test, y_train, y_test = train_test_split(X, y, test_size=0.2, stratify=y, random_state=42)\n",
        "\n",
        "# Compute sample weights\n",
        "sample_weights = compute_sample_weight(class_weight='balanced', y=y_train)\n",
        "\n",
        "# Define the parameter grid for tuning\n",
        "param_dist = {\n",
        "    'n_estimators': [100, 200, 300, 400],\n",
        "    'learning_rate': [0.05, 0.1, 0.2],\n",
        "    'max_depth': [3, 5, 7]\n",
        "}\n",
        "\n",
        "# Define the inner and outer cross-validation strategies\n",
        "inner_cv = KFold(n_splits=3, shuffle=True, random_state=42)\n",
        "outer_cv = KFold(n_splits=5, shuffle=True, random_state=42)\n",
        "\n",
        "# Define the scoring metric\n",
        "f1_weighted_scorer = make_scorer(f1_score, average='weighted')\n",
        "\n",
        "# Initialize the RandomizedSearchCV\n",
        "random_search = RandomizedSearchCV(\n",
        "    estimator=XGBClassifier(tree_method='hist', device='cuda', eval_metric='merror'),\n",
        "    param_distributions=param_dist,\n",
        "    n_iter=15,\n",
        "    cv=inner_cv,\n",
        "    scoring=f1_weighted_scorer,\n",
        "    n_jobs=-1\n",
        ")\n",
        "\n",
        "# Define output lists\n",
        "outer_scores = []\n",
        "val_scores = []\n",
        "best_params_list = []\n",
        "\n",
        "# Perform nested CV on the training data\n",
        "for train_idx, val_idx in outer_cv.split(X_train, y_train):\n",
        "    # Split the data into training and validation sets\n",
        "    X_train_fold = X_train.iloc[train_idx]\n",
        "    X_val_fold = X_train.iloc[val_idx]\n",
        "    y_train_fold = y_train.iloc[train_idx]\n",
        "    y_val_fold = y_train.iloc[val_idx]\n",
        "    sample_weights_fold = sample_weights[train_idx]\n",
        "\n",
        "    # Fit the model on the training fold\n",
        "    random_search.fit(X_train_fold, y_train_fold, sample_weight=sample_weights_fold)\n",
        "    best_model = random_search.best_estimator_\n",
        "\n",
        "    # Save the best parameters for this fold\n",
        "    best_params_list.append(random_search.best_params_)\n",
        "\n",
        "    # Evaluate on the validation set\n",
        "    val_predictions = best_model.predict(X_val_fold)\n",
        "    val_acc = accuracy_score(y_val_fold, val_predictions)\n",
        "    val_prec = precision_score(y_val_fold, val_predictions, average='weighted')\n",
        "    val_rec = recall_score(y_val_fold, val_predictions, average='weighted')\n",
        "    val_f1 = f1_score(y_val_fold, val_predictions, average='weighted')\n",
        "\n",
        "    # Store validation metrics\n",
        "    val_scores.append((val_acc, val_prec, val_rec, val_f1))\n",
        "\n",
        "    # Store the outer fold score (f1_weighted)\n",
        "    outer_scores.append(random_search.best_score_)\n",
        "\n",
        "# Print the performance of the nested CV\n",
        "print(f\"Nested Cross-Validation F1 Score: {np.mean(outer_scores):.2f} ± {np.std(outer_scores):.2f}\")\n",
        "\n",
        "# Print validation set performance for each fold\n",
        "val_scores = np.array(val_scores)\n",
        "print(\"Validation Set Performance:\")\n",
        "print(f\"Accuracy: {val_scores[:, 0].mean():.2f} ± {val_scores[:, 0].std():.2f}\")\n",
        "print(f\"Precision: {val_scores[:, 1].mean():.2f} ± {val_scores[:, 1].std():.2f}\")\n",
        "print(f\"Recall: {val_scores[:, 2].mean():.2f} ± {val_scores[:, 2].std():.2f}\")\n",
        "print(f\"F1 Score: {val_scores[:, 3].mean():.2f} ± {val_scores[:, 3].std():.2f}\")\n",
        "\n",
        "# Print the best parameters found during hyperparameter tuning\n",
        "print(\"Best parameters found during hyperparameter tuning:\")\n",
        "for i, params in enumerate(best_params_list):\n",
        "    print(f\"Fold {i+1}: {params}\")\n",
        "\n",
        "# Define the best parameters found in nested CV\n",
        "best_params = best_params_list[np.argmax(outer_scores)]\n",
        "\n",
        "# Train best model on the entire training data with sample weights\n",
        "best_model = XGBClassifier(**best_params, tree_method='hist', device='cuda', eval_metric='merror', random_state=42)\n",
        "best_model.fit(X_train, y_train, sample_weight=compute_sample_weight(class_weight='balanced', y=y_train))\n",
        "\n",
        "# Evaluate on the test set\n",
        "test_predictions = best_model.predict(X_test)\n",
        "print(\"Test set performance for best performing model:\")\n",
        "print(f\"Accuracy: {accuracy_score(y_test, test_predictions):.2f}\")\n",
        "print(f\"Precision: {precision_score(y_test, test_predictions, average='weighted'):.2f}\")\n",
        "print(f\"Recall: {recall_score(y_test, test_predictions, average='weighted'):.2f}\")\n",
        "print(f\"F1 Score: {f1_score(y_test, test_predictions, average='weighted'):.2f}\")\n",
        "\n",
        "# Print the parameters for the best-performing model\n",
        "print(\"Parameters for the best performing model:\")\n",
        "print(best_params)\n",
        "\n",
        "# Save the best performing model\n",
        "joblib_file = \"/content/drive/My Drive/Thesis/Models/Baseline_XGB_class_imbalance.pkl\"\n",
        "joblib.dump(best_model, joblib_file)"
      ],
      "metadata": {
        "colab": {
          "base_uri": "https://localhost:8080/"
        },
        "id": "yeNaJKl2tJwU",
        "outputId": "97fbc7e1-92f6-4adf-ada3-d955fbf0855a"
      },
      "execution_count": null,
      "outputs": [
        {
          "output_type": "stream",
          "name": "stdout",
          "text": [
            "Nested Cross-Validation F1 Score: 0.38 ± 0.00\n",
            "Validation Set Performance:\n",
            "Accuracy: 0.38 ± 0.00\n",
            "Precision: 0.41 ± 0.00\n",
            "Recall: 0.38 ± 0.00\n",
            "F1 Score: 0.38 ± 0.01\n",
            "Best parameters found during hyperparameter tuning:\n",
            "Fold 1: {'n_estimators': 300, 'max_depth': 7, 'learning_rate': 0.2}\n",
            "Fold 2: {'n_estimators': 200, 'max_depth': 7, 'learning_rate': 0.2}\n",
            "Fold 3: {'n_estimators': 200, 'max_depth': 7, 'learning_rate': 0.2}\n",
            "Fold 4: {'n_estimators': 300, 'max_depth': 7, 'learning_rate': 0.2}\n",
            "Fold 5: {'n_estimators': 200, 'max_depth': 7, 'learning_rate': 0.2}\n",
            "Test set performance for best performing model:\n",
            "Accuracy: 0.39\n",
            "Precision: 0.42\n",
            "Recall: 0.39\n",
            "F1 Score: 0.39\n",
            "Parameters for the best performing model:\n",
            "{'n_estimators': 300, 'max_depth': 7, 'learning_rate': 0.2}\n"
          ]
        },
        {
          "output_type": "execute_result",
          "data": {
            "text/plain": [
              "['/content/drive/My Drive/Thesis/Models/Baseline_XGB_class_imbalance.pkl']"
            ]
          },
          "metadata": {},
          "execution_count": 11
        }
      ]
    }
  ],
  "metadata": {
    "colab": {
      "provenance": [],
      "machine_shape": "hm",
      "gpuType": "T4"
    },
    "kernelspec": {
      "display_name": "Python 3",
      "name": "python3"
    },
    "language_info": {
      "name": "python"
    },
    "accelerator": "GPU"
  },
  "nbformat": 4,
  "nbformat_minor": 0
}