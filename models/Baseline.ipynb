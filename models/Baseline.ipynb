{
  "cells": [
    {
      "cell_type": "code",
      "execution_count": 2,
      "metadata": {
        "colab": {
          "base_uri": "https://localhost:8080/"
        },
        "id": "XNjO3D1zl5iH",
        "outputId": "6ff322c0-1d06-46c1-e4c6-d15be6244f7e"
      },
      "outputs": [
        {
          "output_type": "stream",
          "name": "stdout",
          "text": [
            "Mounted at /content/drive\n"
          ]
        }
      ],
      "source": [
        "# Google colab version\n",
        "from google.colab import drive\n",
        "drive.mount('/content/drive')"
      ]
    },
    {
      "cell_type": "code",
      "execution_count": null,
      "metadata": {
        "id": "9kSro4HgmAIH"
      },
      "outputs": [],
      "source": [
        "# Load df Google Colab (feature engineered, encoded, scaled/unscaled)\n",
        "import pandas as pd\n",
        "df_sampled_unscaled = pd.read_csv(\"/content/drive/My Drive/Thesis/Data/df_sampled_unscaled.csv\")\n",
        "df_sampled_scaled = pd.read_csv(\"/content/drive/My Drive/Thesis/Data/df_sampled_scaled.csv\")"
      ]
    },
    {
      "cell_type": "code",
      "source": [
        "import pandas as pd\n",
        "df_final = pd.read_csv(\"/content/drive/My Drive/Thesis/Data/sample_df.csv\")"
      ],
      "metadata": {
        "id": "uxsZp16WHOH-"
      },
      "execution_count": null,
      "outputs": []
    },
    {
      "cell_type": "markdown",
      "metadata": {
        "id": "CSzWKAfAlmji"
      },
      "source": [
        "# RF, HPT, (-2 features) -> Accuracy 0.46 (wrong data split)\n"
      ]
    },
    {
      "cell_type": "code",
      "execution_count": null,
      "metadata": {
        "id": "ZtsjBo3n4sSN"
      },
      "outputs": [],
      "source": [
        "import pandas as pd\n",
        "from sklearn.model_selection import train_test_split, RandomizedSearchCV, KFold\n",
        "from sklearn.ensemble import RandomForestClassifier\n",
        "from sklearn.metrics import accuracy_score, precision_score, recall_score, f1_score\n",
        "import numpy as np"
      ]
    },
    {
      "cell_type": "code",
      "execution_count": null,
      "metadata": {
        "id": "yktJncD-40Fn"
      },
      "outputs": [],
      "source": [
        "# Separate features and target\n",
        "X = df_final.drop(columns=['Rating'])\n",
        "y = df_final['Rating']\n",
        "\n",
        "# Perform stratified sampling for 40% of the data for increased efficiency\n",
        "X_sampled, _, y_sampled, _ = train_test_split(X, y, test_size=0.6, stratify=y)\n"
      ]
    },
    {
      "cell_type": "code",
      "execution_count": null,
      "metadata": {
        "id": "s9loRIQ545jT"
      },
      "outputs": [],
      "source": [
        "def evaluate_performance(y_true, y_pred):\n",
        "    print(f\"Accuracy: {accuracy_score(y_true, y_pred):.2f}\")\n",
        "    print(f\"Precision: {precision_score(y_true, y_pred, average='macro'):.2f}\")\n",
        "    print(f\"Recall: {recall_score(y_true, y_pred, average='macro'):.2f}\")\n",
        "    print(f\"F1 Score: {f1_score(y_true, y_pred, average='macro'):.2f}\")\n"
      ]
    },
    {
      "cell_type": "code",
      "execution_count": null,
      "metadata": {
        "colab": {
          "base_uri": "https://localhost:8080/"
        },
        "id": "-vcNDRFB5Hz7",
        "outputId": "6d749544-8a4c-4ce0-f55d-c81a62653673"
      },
      "outputs": [
        {
          "name": "stdout",
          "output_type": "stream",
          "text": [
            "Nested Cross-Validation Accuracy: 0.46 ± 0.00\n"
          ]
        }
      ],
      "source": [
        "# Define the parameter grid for tuning\n",
        "param_dist = {\n",
        "    'n_estimators': [10, 50, 100],\n",
        "    'max_depth': [10, 20, 30],\n",
        "    'min_samples_split': [2, 5, 10],\n",
        "    'min_samples_leaf': [1, 2, 4]\n",
        "}\n",
        "\n",
        "# Define the inner and outer cross-validation strategies\n",
        "inner_cv = KFold(n_splits=3, shuffle=True, random_state=42)\n",
        "outer_cv = KFold(n_splits=5, shuffle=True, random_state=42)\n",
        "\n",
        "# Initialize the RandomizedSearchCV\n",
        "random_search = RandomizedSearchCV(estimator=RandomForestClassifier(),\n",
        "                                   param_distributions=param_dist, n_iter=10,\n",
        "                                   cv=inner_cv, scoring='accuracy',\n",
        "                                   random_state=42)\n",
        "\n",
        "# Perform nested cross-validation\n",
        "nested_scores = cross_val_score(random_search, X_sampled, y_sampled,\n",
        "                                cv=outer_cv, scoring='accuracy')\n",
        "\n",
        "# Print the performance of the nested cross-validation\n",
        "print(f\"Nested Cross-Validation Accuracy: {nested_scores.mean():.2f} ± {nested_scores.std():.2f}\")"
      ]
    },
    {
      "cell_type": "code",
      "execution_count": null,
      "metadata": {
        "colab": {
          "base_uri": "https://localhost:8080/"
        },
        "id": "vhKdMWVf5dVW",
        "outputId": "a96918c5-a614-42f3-ec27-24fd58ac0be5"
      },
      "outputs": [
        {
          "name": "stdout",
          "output_type": "stream",
          "text": [
            "Validation Set Performance:\n",
            "Accuracy: 0.46\n",
            "Precision: 0.47\n",
            "Recall: 0.38\n",
            "F1 Score: 0.40\n",
            "Test Set Performance:\n",
            "Accuracy: 0.45\n",
            "Precision: 0.47\n",
            "Recall: 0.38\n",
            "F1 Score: 0.40\n"
          ]
        }
      ],
      "source": [
        "# Split the data into training, validation, and test sets (60%, 20%, 20%)\n",
        "X_train, X_temp, y_train, y_temp = train_test_split(X_sampled, y_sampled, test_size=0.4, stratify=y_sampled)\n",
        "X_val, X_test, y_val, y_test = train_test_split(X_temp, y_temp, test_size=0.5, stratify=y_temp)\n",
        "\n",
        "# Fit the best model found by the random search on the full training set\n",
        "random_search.fit(X_train, y_train)\n",
        "best_model = random_search.best_estimator_\n",
        "\n",
        "# Evaluate the best model on the validation set\n",
        "val_predictions = best_model.predict(X_val)\n",
        "print(\"Validation Set Performance:\")\n",
        "evaluate_performance(y_val, val_predictions)\n",
        "\n",
        "# Evaluate the best model on the test set\n",
        "test_predictions = best_model.predict(X_test)\n",
        "print(\"Test Set Performance:\")\n",
        "evaluate_performance(y_test, test_predictions)\n"
      ]
    },
    {
      "cell_type": "markdown",
      "metadata": {
        "id": "zfyS-D6SF_8o"
      },
      "source": [
        "# RF, HPT, (-2 features) -> Accuracy 0.46 (no val scores)"
      ]
    },
    {
      "cell_type": "code",
      "execution_count": null,
      "metadata": {
        "id": "JL34YlYdJ4ic"
      },
      "outputs": [],
      "source": [
        "import pandas as pd\n",
        "from sklearn.model_selection import train_test_split, RandomizedSearchCV, cross_val_score, KFold\n",
        "from sklearn.ensemble import RandomForestClassifier\n",
        "from sklearn.metrics import accuracy_score, precision_score, recall_score, f1_score\n",
        "import numpy as np"
      ]
    },
    {
      "cell_type": "code",
      "execution_count": null,
      "metadata": {
        "id": "IlIo-8AaGDFK"
      },
      "outputs": [],
      "source": [
        "# Load in the dataframe\n",
        "df_final = pd.read_csv(\"/content/drive/My Drive/Thesis/Data/df_sampled_unscaled.csv\")\n",
        "df_final = df_final.drop(columns=['Dev_movie_avg',\t'Total_ratings_per_user'])"
      ]
    },
    {
      "cell_type": "code",
      "execution_count": null,
      "metadata": {
        "id": "wd17i20TxCHT"
      },
      "outputs": [],
      "source": [
        "# Separate features and target\n",
        "X = df_final.drop(columns=['Rating'])\n",
        "y = df_final['Rating']"
      ]
    },
    {
      "cell_type": "code",
      "execution_count": null,
      "metadata": {
        "id": "HXrs_N3uKTCE"
      },
      "outputs": [],
      "source": [
        "# Split sampled data into 80% training, 20% testing\n",
        "X_train, X_test, y_train, y_test = train_test_split(X, y, test_size=0.2,\n",
        "                                                    stratify=y,\n",
        "                                                    random_state=42)\n"
      ]
    },
    {
      "cell_type": "code",
      "execution_count": null,
      "metadata": {
        "id": "8lbUc57HKWmt"
      },
      "outputs": [],
      "source": [
        "# Evaluation function\n",
        "def evaluate_performance(y_true, y_pred):\n",
        "    print(f\"Accuracy: {accuracy_score(y_true, y_pred):.2f}\")\n",
        "    print(f\"Precision: {precision_score(y_true, y_pred, average='macro'):.2f}\")\n",
        "    print(f\"Recall: {recall_score(y_true, y_pred, average='macro'):.2f}\")\n",
        "    print(f\"F1 Score: {f1_score(y_true, y_pred, average='macro'):.2f}\")\n"
      ]
    },
    {
      "cell_type": "code",
      "execution_count": null,
      "metadata": {
        "id": "CekRPkcBKZIJ"
      },
      "outputs": [],
      "source": [
        "# Define the parameter grid for tuning\n",
        "\n",
        "param_dist = {\n",
        "    'n_estimators': [50, 100, 200],\n",
        "    'max_depth': [None, 10, 20, 30, 40],\n",
        "    'min_samples_split': [2, 5, 10, 15],\n",
        "    'min_samples_leaf': [1, 2, 4, 6]\n",
        "}\n",
        "\n",
        "# Define the inner and outer cross-validation strategies\n",
        "inner_cv = KFold(n_splits=3, shuffle=True, random_state=42)\n",
        "outer_cv = KFold(n_splits=5, shuffle=True, random_state=42)\n",
        "\n",
        "# Initialize the RandomizedSearchCV\n",
        "random_search = RandomizedSearchCV(estimator=RandomForestClassifier(),\n",
        "                                   param_distributions=param_dist, n_iter=15,\n",
        "                                   cv=inner_cv, scoring='accuracy',\n",
        "                                   random_state=42)\n",
        "\n",
        "# Perform nested cross-validation and store best parameters for each fold\n",
        "nested_scores = []\n",
        "best_params = []\n",
        "best_models = []\n",
        "\n",
        "for train_idx, test_idx in outer_cv.split(X_train, y_train):\n",
        "    random_search.fit(X_train.iloc[train_idx], y_train.iloc[train_idx])\n",
        "    nested_scores.append(random_search.best_score_)\n",
        "    best_params.append(random_search.best_params_)\n",
        "    best_model = random_search.best_estimator_\n",
        "    best_models.append(best_model)\n",
        "\n",
        "# Print the performance of the nested cross-validation\n",
        "print(f\"Nested Cross-Validation Accuracy: {np.mean(nested_scores):.2f} ± {np.std(nested_scores):.2f}\")\n",
        "\n",
        "# Print the best parameters found for each fold\n",
        "print(\"Best parameters for each fold:\")\n",
        "for params in best_params:\n",
        "    print(params)\n",
        "\n",
        "# Use the best model found in the outer loop\n",
        "final_best_model = best_models[-1]\n",
        "\n",
        "# Evaluate the best model on the test set\n",
        "test_predictions = final_best_model.predict(X_test)\n",
        "print(\"Test Set Performance:\")\n",
        "evaluate_performance(y_test, test_predictions)"
      ]
    },
    {
      "cell_type": "code",
      "execution_count": null,
      "metadata": {
        "colab": {
          "base_uri": "https://localhost:8080/"
        },
        "id": "TCgNzr7bxfut",
        "outputId": "1a08c302-e49f-409f-9cfc-fde584d1c0d6"
      },
      "outputs": [
        {
          "name": "stdout",
          "output_type": "stream",
          "text": [
            "Test Set Performance:\n",
            "Accuracy: 0.46\n",
            "Precision: 0.48\n",
            "Recall: 0.37\n",
            "F1 Score: 0.39\n"
          ]
        }
      ],
      "source": [
        "# Evaluate the best model on the test set\n",
        "test_predictions = final_best_model.predict(X_test)\n",
        "print(\"Test Set Performance:\")\n",
        "evaluate_performance(y_test, test_predictions)"
      ]
    },
    {
      "cell_type": "markdown",
      "source": [
        "#  29/10 Random Forest with hyperparameter tuning (new sample_df)"
      ],
      "metadata": {
        "id": "eCVUmX5Oweh7"
      }
    },
    {
      "cell_type": "code",
      "source": [
        "import numpy as np\n",
        "import pandas as pd\n",
        "from sklearn.model_selection import KFold, train_test_split, RandomizedSearchCV\n",
        "from sklearn.ensemble import RandomForestClassifier\n",
        "from sklearn.metrics import accuracy_score, precision_score, recall_score, f1_score"
      ],
      "metadata": {
        "id": "fucRqTrmx86U"
      },
      "execution_count": null,
      "outputs": []
    },
    {
      "cell_type": "code",
      "source": [
        "# Define feature and target\n",
        "X = df_final.drop('Rating', axis=1)\n",
        "y = df_final['Rating']"
      ],
      "metadata": {
        "id": "bLvFWFIbx8Wt"
      },
      "execution_count": null,
      "outputs": []
    },
    {
      "cell_type": "code",
      "source": [
        "# Split data 80% train, 20% test\n",
        "X_train, X_test, y_train, y_test = train_test_split(X, y, test_size=0.2, stratify=y, random_state=42)"
      ],
      "metadata": {
        "id": "PP3Yin5oyF-9"
      },
      "execution_count": null,
      "outputs": []
    },
    {
      "cell_type": "code",
      "source": [
        "# Define the parameter grid for hyperparameter optimization\n",
        "param_dist = {\n",
        "    'n_estimators': [50, 100, 200],\n",
        "    'max_depth': [None, 10, 20, 30],\n",
        "    'min_samples_split': [2, 5, 10],\n",
        "    'min_samples_leaf': [1, 2, 4]\n",
        "}"
      ],
      "metadata": {
        "id": "eiTdzgQb2Kkb"
      },
      "execution_count": null,
      "outputs": []
    },
    {
      "cell_type": "code",
      "source": [
        "# Define the inner and outer cross-validation strategies\n",
        "inner_cv = KFold(n_splits=3, shuffle=True, random_state=42)\n",
        "outer_cv = KFold(n_splits=5, shuffle=True, random_state=42)"
      ],
      "metadata": {
        "id": "v_VB5FI32MhB"
      },
      "execution_count": null,
      "outputs": []
    },
    {
      "cell_type": "code",
      "source": [
        "# Initialize the RandomizedSearchCV\n",
        "random_search = RandomizedSearchCV(estimator=RandomForestClassifier(),\n",
        "                                   param_distributions=param_dist, n_iter=15,\n",
        "                                   cv=inner_cv, scoring='accuracy',\n",
        "                                   random_state=42)\n",
        "\n",
        "# Perform nested cross-validation\n",
        "outer_scores = []\n",
        "val_scores = []\n",
        "\n",
        "for train_idx, val_idx in outer_cv.split(X_train, y_train):\n",
        "    # Split the data into training and validation sets\n",
        "    X_train_fold = X_train.iloc[train_idx]\n",
        "    X_val_fold = X_train.iloc[val_idx]\n",
        "    y_train_fold = y_train.iloc[train_idx]\n",
        "    y_val_fold = y_train.iloc[val_idx]\n",
        "\n",
        "    # Fit the model on the training fold\n",
        "    random_search.fit(X_train_fold, y_train_fold)\n",
        "    best_model = random_search.best_estimator_\n",
        "\n",
        "    # Evaluate on the validation set\n",
        "    val_predictions = best_model.predict(X_val_fold)\n",
        "    val_acc = accuracy_score(y_val_fold, val_predictions)\n",
        "    val_prec = precision_score(y_val_fold, val_predictions, average='weighted')\n",
        "    val_rec = recall_score(y_val_fold, val_predictions, average='weighted')\n",
        "    val_f1 = f1_score(y_val_fold, val_predictions, average='weighted')\n",
        "\n",
        "    # Append validation metrics\n",
        "    val_scores.append((val_acc, val_prec, val_rec, val_f1))\n",
        "\n",
        "    # Store the outer fold score (accuracy)\n",
        "    outer_scores.append(random_search.best_score_)\n",
        "\n",
        "# Print the performance of the nested cross-validation\n",
        "print(f\"Nested Cross-Validation Accuracy: {np.mean(outer_scores):.2f} ± {np.std(outer_scores):.2f}\")\n",
        "\n",
        "# Print validation set performance for each fold\n",
        "val_scores = np.array(val_scores)\n",
        "print(\"Validation Set Performance:\")\n",
        "print(f\"Accuracy: {val_scores[:, 0].mean():.2f} ± {val_scores[:, 0].std():.2f}\")\n",
        "print(f\"Precision: {val_scores[:, 1].mean():.2f} ± {val_scores[:, 1].std():.2f}\")\n",
        "print(f\"Recall: {val_scores[:, 2].mean():.2f} ± {val_scores[:, 2].std():.2f}\")\n",
        "print(f\"F1 Score: {val_scores[:, 3].mean():.2f} ± {val_scores[:, 3].std():.2f}\")\n",
        "\n",
        "# Fit the best model found on the entire training set\n",
        "random_search.fit(X_train, y_train)\n",
        "best_model = random_search.best_estimator_\n",
        "\n",
        "# Evaluate on the test set\n",
        "test_predictions = best_model.predict(X_test)\n",
        "print(\"Test Set Performance:\")\n",
        "print(f\"Accuracy: {accuracy_score(y_test, test_predictions):.2f}\")\n",
        "print(f\"Precision: {precision_score(y_test, test_predictions, average='weighted'):.2f}\")\n",
        "print(f\"Recall: {recall_score(y_test, test_predictions, average='weighted'):.2f}\")\n",
        "print(f\"F1 Score: {f1_score(y_test, test_predictions, average='weighted'):.2f}\")\n"
      ],
      "metadata": {
        "colab": {
          "base_uri": "https://localhost:8080/"
        },
        "id": "oGqRKHnS1IpG",
        "outputId": "2d7de325-8216-4e49-bb85-ec9c505ae543"
      },
      "execution_count": null,
      "outputs": [
        {
          "metadata": {
            "tags": null
          },
          "name": "stderr",
          "output_type": "stream",
          "text": [
            "/usr/local/lib/python3.10/dist-packages/numpy/ma/core.py:2820: RuntimeWarning: invalid value encountered in cast\n",
            "  _data = np.array(data, dtype=dtype, copy=copy,\n"
          ]
        },
        {
          "output_type": "stream",
          "name": "stdout",
          "text": [
            "Nested Cross-Validation Accuracy: 0.41 ± 0.00\n",
            "Validation Set Performance:\n",
            "Accuracy: 0.41 ± 0.00\n",
            "Precision: 0.42 ± 0.00\n",
            "Recall: 0.41 ± 0.00\n",
            "F1 Score: 0.38 ± 0.00\n",
            "Test Set Performance:\n",
            "Accuracy: 0.42\n",
            "Precision: 0.43\n",
            "Recall: 0.42\n",
            "F1 Score: 0.39\n"
          ]
        }
      ]
    },
    {
      "cell_type": "markdown",
      "source": [
        "# **30/10 Random Forest with hyperparameter tuning, sample_df_3010**"
      ],
      "metadata": {
        "id": "zZrrOYIsKdMf"
      }
    },
    {
      "cell_type": "code",
      "source": [
        "import numpy as np\n",
        "import pandas as pd\n",
        "from sklearn.model_selection import KFold, train_test_split, RandomizedSearchCV\n",
        "from sklearn.ensemble import RandomForestClassifier\n",
        "from sklearn.metrics import accuracy_score, precision_score, recall_score, f1_score"
      ],
      "metadata": {
        "id": "8CXJEMGrGBUH"
      },
      "execution_count": 4,
      "outputs": []
    },
    {
      "cell_type": "code",
      "source": [
        "import pandas as pd\n",
        "df_final = pd.read_csv(\"/content/drive/My Drive/Thesis/Data/sample_df_3010.csv\")"
      ],
      "metadata": {
        "id": "-YN_M1q-KrPp"
      },
      "execution_count": 5,
      "outputs": []
    },
    {
      "cell_type": "code",
      "source": [
        "# Define feature and target\n",
        "X = df_final.drop('Rating', axis=1)\n",
        "y = df_final['Rating']"
      ],
      "metadata": {
        "id": "dXQf_r3EKwdI"
      },
      "execution_count": 6,
      "outputs": []
    },
    {
      "cell_type": "code",
      "source": [
        "# Split data 80% train, 20% test\n",
        "X_train, X_test, y_train, y_test = train_test_split(X, y, test_size=0.2,\n",
        "                                                    stratify=y, random_state=42)"
      ],
      "metadata": {
        "id": "IsZuQxQBK2yZ"
      },
      "execution_count": 7,
      "outputs": []
    },
    {
      "cell_type": "code",
      "source": [
        "# Define the parameter grid for hyperparameter optimization\n",
        "param_dist = {\n",
        "    'n_estimators': [50, 100, 200],\n",
        "    'max_depth': [None, 10, 20, 30],\n",
        "    'min_samples_split': [2, 5, 10],\n",
        "    'min_samples_leaf': [1, 2, 4]\n",
        "}"
      ],
      "metadata": {
        "id": "swRSySiMK8-o"
      },
      "execution_count": 8,
      "outputs": []
    },
    {
      "cell_type": "code",
      "source": [
        "# Define the inner and outer cross-validation strategies\n",
        "inner_cv = KFold(n_splits=3, shuffle=True, random_state=42)\n",
        "outer_cv = KFold(n_splits=5, shuffle=True, random_state=42)"
      ],
      "metadata": {
        "id": "8EqtE9QCLA8j"
      },
      "execution_count": 9,
      "outputs": []
    },
    {
      "cell_type": "code",
      "source": [
        "# Initialize the RandomizedSearchCV\n",
        "random_search = RandomizedSearchCV(estimator=RandomForestClassifier(),\n",
        "                                   param_distributions=param_dist, n_iter=15,\n",
        "                                   cv=inner_cv, scoring='accuracy',\n",
        "                                   random_state=42)\n",
        "\n",
        "\n",
        "\n",
        "# Perform nested cross-validation\n",
        "outer_scores = []\n",
        "val_scores = []\n",
        "\n",
        "for train_idx, val_idx in outer_cv.split(X_train, y_train):\n",
        "    # Split the data into training and validation sets\n",
        "    X_train_fold = X_train.iloc[train_idx]\n",
        "    X_val_fold = X_train.iloc[val_idx]\n",
        "    y_train_fold = y_train.iloc[train_idx]\n",
        "    y_val_fold = y_train.iloc[val_idx]\n",
        "\n",
        "    # Fit the model on the training fold\n",
        "    random_search.fit(X_train_fold, y_train_fold)\n",
        "    best_model = random_search.best_estimator_\n",
        "\n",
        "    # Evaluate on the validation set\n",
        "    val_predictions = best_model.predict(X_val_fold)\n",
        "    val_acc = accuracy_score(y_val_fold, val_predictions)\n",
        "    val_prec = precision_score(y_val_fold, val_predictions, average='weighted')\n",
        "    val_rec = recall_score(y_val_fold, val_predictions, average='weighted')\n",
        "    val_f1 = f1_score(y_val_fold, val_predictions, average='weighted')\n",
        "\n",
        "    # Append validation metrics\n",
        "    val_scores.append((val_acc, val_prec, val_rec, val_f1))\n",
        "\n",
        "    # Store the outer fold score (accuracy)\n",
        "    outer_scores.append(random_search.best_score_)\n",
        "\n",
        "# Print the performance of the nested cross-validation\n",
        "print(f\"Nested Cross-Validation Accuracy: {np.mean(outer_scores):.2f} ± {np.std(outer_scores):.2f}\")\n",
        "\n",
        "# Print validation set performance for each fold\n",
        "val_scores = np.array(val_scores)\n",
        "print(\"Validation Set Performance:\")\n",
        "print(f\"Accuracy: {val_scores[:, 0].mean():.2f} ± {val_scores[:, 0].std():.2f}\")\n",
        "print(f\"Precision: {val_scores[:, 1].mean():.2f} ± {val_scores[:, 1].std():.2f}\")\n",
        "print(f\"Recall: {val_scores[:, 2].mean():.2f} ± {val_scores[:, 2].std():.2f}\")\n",
        "print(f\"F1 Score: {val_scores[:, 3].mean():.2f} ± {val_scores[:, 3].std():.2f}\")\n",
        "\n",
        "# Fit the best model found on the entire training set\n",
        "random_search.fit(X_train, y_train)\n",
        "best_model = random_search.best_estimator_\n",
        "\n",
        "# Evaluate on the test set\n",
        "test_predictions = best_model.predict(X_test)\n",
        "print(\"Test Set Performance:\")\n",
        "print(f\"Accuracy: {accuracy_score(y_test, test_predictions):.2f}\")\n",
        "print(f\"Precision: {precision_score(y_test, test_predictions, average='weighted'):.2f}\")\n",
        "print(f\"Recall: {recall_score(y_test, test_predictions, average='weighted'):.2f}\")\n",
        "print(f\"F1 Score: {f1_score(y_test, test_predictions, average='weighted'):.2f}\")\n"
      ],
      "metadata": {
        "colab": {
          "base_uri": "https://localhost:8080/"
        },
        "id": "f1OnqhvyLJtI",
        "outputId": "54768b1c-1f0d-487f-a47f-8903d40490bb"
      },
      "execution_count": 10,
      "outputs": [
        {
          "output_type": "stream",
          "name": "stderr",
          "text": [
            "/usr/local/lib/python3.10/dist-packages/numpy/ma/core.py:2820: RuntimeWarning: invalid value encountered in cast\n",
            "  _data = np.array(data, dtype=dtype, copy=copy,\n"
          ]
        },
        {
          "output_type": "stream",
          "name": "stdout",
          "text": [
            "Nested Cross-Validation Accuracy: 0.40 ± 0.00\n",
            "Validation Set Performance:\n",
            "Accuracy: 0.41 ± 0.00\n",
            "Precision: 0.42 ± 0.00\n",
            "Recall: 0.41 ± 0.00\n",
            "F1 Score: 0.38 ± 0.00\n",
            "Test Set Performance:\n",
            "Accuracy: 0.41\n",
            "Precision: 0.42\n",
            "Recall: 0.41\n",
            "F1 Score: 0.38\n"
          ]
        }
      ]
    },
    {
      "cell_type": "markdown",
      "source": [
        "#  27/10 Random Forest with hyperparameter tuning (-2 features) -> Accuracy ?"
      ],
      "metadata": {
        "id": "QlzlLlOU2oyr"
      }
    },
    {
      "cell_type": "markdown",
      "source": [
        "Nog runnen zodat het dezelfde code is!!!"
      ],
      "metadata": {
        "id": "RzGIEKZC2rjx"
      }
    },
    {
      "cell_type": "code",
      "source": [
        "import numpy as np\n",
        "import pandas as pd\n",
        "from sklearn.model_selection import KFold, train_test_split, RandomizedSearchCV\n",
        "from sklearn.ensemble import RandomForestClassifier\n",
        "from sklearn.metrics import accuracy_score, precision_score, recall_score, f1_score"
      ],
      "metadata": {
        "id": "GdkmEXbM2oPE"
      },
      "execution_count": null,
      "outputs": []
    },
    {
      "cell_type": "code",
      "source": [
        "# Load df Google Colab (feature engineered, encoded, scaled/unscaled)\n",
        "df_final = pd.read_csv(\"/content/drive/My Drive/Thesis/Data/df_sampled_unscaled.csv\")\n",
        "df_final = df_final.drop(columns=['Dev_movie_avg',\t'Total_ratings_per_user'])"
      ],
      "metadata": {
        "id": "44d_4d7X2z24"
      },
      "execution_count": null,
      "outputs": []
    },
    {
      "cell_type": "code",
      "source": [
        "# Define feature and target\n",
        "X = df_final.drop('Rating', axis=1)\n",
        "y = df_final['Rating']"
      ],
      "metadata": {
        "id": "TkvdFdID29gC"
      },
      "execution_count": null,
      "outputs": []
    },
    {
      "cell_type": "code",
      "source": [
        "# Split data 80% train, 20% test\n",
        "X_train, X_test, y_train, y_test = train_test_split(X, y, test_size=0.2, stratify=y, random_state=42)"
      ],
      "metadata": {
        "id": "8BnvCm5U3AZY"
      },
      "execution_count": null,
      "outputs": []
    },
    {
      "cell_type": "code",
      "source": [
        "# Define the parameter grid for hyperparameter optimization\n",
        "param_dist = {\n",
        "    'n_estimators': [50, 100, 200],\n",
        "    'max_depth': [None, 10, 20, 30],\n",
        "    'min_samples_split': [2, 5, 10],\n",
        "    'min_samples_leaf': [1, 2, 4]\n",
        "}"
      ],
      "metadata": {
        "id": "YP9qpqb43Dax"
      },
      "execution_count": null,
      "outputs": []
    },
    {
      "cell_type": "code",
      "source": [
        "# Define the inner and outer cross-validation strategies\n",
        "inner_cv = KFold(n_splits=3, shuffle=True, random_state=42)\n",
        "outer_cv = KFold(n_splits=5, shuffle=True, random_state=42)"
      ],
      "metadata": {
        "id": "Iir4h6xM3Gz2"
      },
      "execution_count": null,
      "outputs": []
    },
    {
      "cell_type": "code",
      "source": [
        "# Initialize the RandomizedSearchCV\n",
        "random_search = RandomizedSearchCV(estimator=RandomForestClassifier(),\n",
        "                                   param_distributions=param_dist, n_iter=15,\n",
        "                                   cv=inner_cv, scoring='accuracy',\n",
        "                                   random_state=42)\n",
        "\n",
        "# Perform nested cross-validation\n",
        "outer_scores = []\n",
        "val_scores = []\n",
        "\n",
        "for train_idx, val_idx in outer_cv.split(X_train, y_train):\n",
        "    # Split the data into training and validation sets\n",
        "    X_train_fold = X_train.iloc[train_idx]\n",
        "    X_val_fold = X_train.iloc[val_idx]\n",
        "    y_train_fold = y_train.iloc[train_idx]\n",
        "    y_val_fold = y_train.iloc[val_idx]\n",
        "\n",
        "    # Fit the model on the training fold\n",
        "    random_search.fit(X_train_fold, y_train_fold)\n",
        "    best_model = random_search.best_estimator_\n",
        "\n",
        "    # Evaluate on the validation set\n",
        "    val_predictions = best_model.predict(X_val_fold)\n",
        "    val_acc = accuracy_score(y_val_fold, val_predictions)\n",
        "    val_prec = precision_score(y_val_fold, val_predictions, average='weighted')\n",
        "    val_rec = recall_score(y_val_fold, val_predictions, average='weighted')\n",
        "    val_f1 = f1_score(y_val_fold, val_predictions, average='weighted')\n",
        "\n",
        "    # Append validation metrics\n",
        "    val_scores.append((val_acc, val_prec, val_rec, val_f1))\n",
        "\n",
        "    # Store the outer fold score (accuracy)\n",
        "    outer_scores.append(random_search.best_score_)\n",
        "\n",
        "# Print the performance of the nested cross-validation\n",
        "print(f\"Nested Cross-Validation Accuracy: {np.mean(outer_scores):.2f} ± {np.std(outer_scores):.2f}\")\n",
        "\n",
        "# Print validation set performance for each fold\n",
        "val_scores = np.array(val_scores)\n",
        "print(\"Validation Set Performance:\")\n",
        "print(f\"Accuracy: {val_scores[:, 0].mean():.2f} ± {val_scores[:, 0].std():.2f}\")\n",
        "print(f\"Precision: {val_scores[:, 1].mean():.2f} ± {val_scores[:, 1].std():.2f}\")\n",
        "print(f\"Recall: {val_scores[:, 2].mean():.2f} ± {val_scores[:, 2].std():.2f}\")\n",
        "print(f\"F1 Score: {val_scores[:, 3].mean():.2f} ± {val_scores[:, 3].std():.2f}\")\n",
        "\n",
        "# Fit the best model found on the entire training set\n",
        "random_search.fit(X_train, y_train)\n",
        "best_model = random_search.best_estimator_\n",
        "\n",
        "# Evaluate on the test set\n",
        "test_predictions = best_model.predict(X_test)\n",
        "print(\"Test Set Performance:\")\n",
        "print(f\"Accuracy: {accuracy_score(y_test, test_predictions):.2f}\")\n",
        "print(f\"Precision: {precision_score(y_test, test_predictions, average='weighted'):.2f}\")\n",
        "print(f\"Recall: {recall_score(y_test, test_predictions, average='weighted'):.2f}\")\n",
        "print(f\"F1 Score: {f1_score(y_test, test_predictions, average='weighted'):.2f}\")"
      ],
      "metadata": {
        "colab": {
          "base_uri": "https://localhost:8080/"
        },
        "id": "sAT99scw3LUc",
        "outputId": "01fad123-0bb3-4347-8852-96e12bdeeedb"
      },
      "execution_count": null,
      "outputs": [
        {
          "output_type": "stream",
          "name": "stdout",
          "text": [
            "Nested Cross-Validation Accuracy: 0.46 ± 0.00\n",
            "Validation Set Performance:\n",
            "Accuracy: 0.46 ± 0.00\n",
            "Precision: 0.47 ± 0.00\n",
            "Recall: 0.46 ± 0.00\n",
            "F1 Score: 0.44 ± 0.00\n",
            "Test Set Performance:\n",
            "Accuracy: 0.46\n",
            "Precision: 0.47\n",
            "Recall: 0.46\n",
            "F1 Score: 0.45\n"
          ]
        }
      ]
    },
    {
      "cell_type": "markdown",
      "metadata": {
        "id": "v-WU8GkXlmjo"
      },
      "source": [
        "# Gradient boosting, no hyperparameter tuning (old) -> Accuracy 0.37"
      ]
    },
    {
      "cell_type": "code",
      "source": [
        "# Load df Google Colab (feature engineered, encoded, scaled/unscaled)\n",
        "import pandas as pd\n",
        "df_sampled_unscaled = pd.read_csv(\"/content/drive/My Drive/Thesis/Data/df_sampled_unscaled.csv\")\n",
        "df_sampled_scaled = pd.read_csv(\"/content/drive/My Drive/Thesis/Data/df_sampled_scaled.csv\")"
      ],
      "metadata": {
        "id": "UivNjwhXre-a"
      },
      "execution_count": null,
      "outputs": []
    },
    {
      "cell_type": "code",
      "source": [
        "df_final = df_sampled_unscaled.copy()\n",
        "df_final = df_final.drop(columns=['Dev_movie_avg',\t'Total_ratings_per_user'])"
      ],
      "metadata": {
        "id": "kX8NAv6Trlqh"
      },
      "execution_count": null,
      "outputs": []
    },
    {
      "cell_type": "code",
      "execution_count": null,
      "metadata": {
        "id": "9WI8_KUXlmjp",
        "outputId": "454f5221-8792-4f5a-c856-646ff348a880"
      },
      "outputs": [
        {
          "name": "stdout",
          "output_type": "stream",
          "text": [
            "Accuracy: 0.3740\n",
            "Precision: 0.3846\n",
            "Recall: 0.3740\n",
            "F1 Score: 0.2983\n"
          ]
        }
      ],
      "source": [
        "# Gradient boosting without hyperparameter tuning\n",
        "import pandas as pd\n",
        "from sklearn.model_selection import train_test_split\n",
        "from sklearn.ensemble import GradientBoostingClassifier\n",
        "from sklearn.metrics import accuracy_score, precision_score, recall_score, f1_score\n",
        "\n",
        "# Assuming df_final is your dataframe and 'Rating' is the target variable\n",
        "X = df_final.drop(columns=['Rating'])\n",
        "y = df_final['Rating']\n",
        "\n",
        "# Splitting the data into training and testing sets (80-20 split)\n",
        "X_train, X_test, y_train, y_test = train_test_split(X, y, test_size=0.2, random_state=42)\n",
        "\n",
        "# Creating the Gradient Boosting model\n",
        "gb_baseline = GradientBoostingClassifier(random_state=42)\n",
        "gb_baseline.fit(X_train, y_train)\n",
        "\n",
        "# Making predictions\n",
        "y_pred = gb_baseline.predict(X_test)\n",
        "\n",
        "# Evaluating the model\n",
        "accuracy = accuracy_score(y_test, y_pred)\n",
        "precision = precision_score(y_test, y_pred, average='weighted')\n",
        "recall = recall_score(y_test, y_pred, average='weighted')\n",
        "f1 = f1_score(y_test, y_pred, average='weighted')\n",
        "\n",
        "print(f\"Accuracy: {accuracy:.4f}\")\n",
        "print(f\"Precision: {precision:.4f}\")\n",
        "print(f\"Recall: {recall:.4f}\")\n",
        "print(f\"F1 Score: {f1:.4f}\")"
      ]
    },
    {
      "cell_type": "markdown",
      "metadata": {
        "id": "2slKv5PUb61g"
      },
      "source": [
        "# Gradient boosting with hyperparameter tuning (-2 features) -> Accuracy 0.46\n"
      ]
    },
    {
      "cell_type": "code",
      "execution_count": null,
      "metadata": {
        "id": "HfOwssYDb_On"
      },
      "outputs": [],
      "source": [
        "import pandas as pd\n",
        "from sklearn.model_selection import train_test_split, RandomizedSearchCV, KFold\n",
        "from sklearn.ensemble import GradientBoostingClassifier\n",
        "from sklearn.metrics import accuracy_score, precision_score, recall_score, f1_score\n",
        "import numpy as np"
      ]
    },
    {
      "cell_type": "code",
      "source": [
        "# Load df Google Colab (feature engineered, encoded, scaled/unscaled)\n",
        "df_sampled_unscaled = pd.read_csv(\"/content/drive/My Drive/Thesis/Data/df_sampled_unscaled.csv\")\n",
        "df_sampled_scaled = pd.read_csv(\"/content/drive/My Drive/Thesis/Data/df_sampled_scaled.csv\")"
      ],
      "metadata": {
        "id": "SAevHd6ZrOc3"
      },
      "execution_count": null,
      "outputs": []
    },
    {
      "cell_type": "code",
      "source": [
        "df_final = df_sampled_unscaled.copy()\n",
        "df_final = df_final.drop(columns=['Dev_movie_avg',\t'Total_ratings_per_user'])"
      ],
      "metadata": {
        "id": "5sn4jTkhrN5a"
      },
      "execution_count": null,
      "outputs": []
    },
    {
      "cell_type": "code",
      "execution_count": null,
      "metadata": {
        "id": "OhzrjZYSR-Nu"
      },
      "outputs": [],
      "source": [
        "# Separate features and target\n",
        "X = df_final.drop(columns=['Rating'])\n",
        "y = df_final['Rating']"
      ]
    },
    {
      "cell_type": "code",
      "execution_count": null,
      "metadata": {
        "id": "GP55Vcv9cGXH"
      },
      "outputs": [],
      "source": [
        "# Split data into 80% training, 20% testing\n",
        "X_train, X_test, y_train, y_test = train_test_split(X, y, test_size=0.2, stratify=y)"
      ]
    },
    {
      "cell_type": "code",
      "execution_count": null,
      "metadata": {
        "id": "gTVqY2_bcIUT"
      },
      "outputs": [],
      "source": [
        "# Define evaluation function\n",
        "def evaluate_performance(y_true, y_pred):\n",
        "    print(f\"Accuracy: {accuracy_score(y_true, y_pred):.2f}\")\n",
        "    print(f\"Precision: {precision_score(y_true, y_pred, average='macro'):.2f}\")\n",
        "    print(f\"Recall: {recall_score(y_true, y_pred, average='macro'):.2f}\")\n",
        "    print(f\"F1 Score: {f1_score(y_true, y_pred, average='macro'):.2f}\")"
      ]
    },
    {
      "cell_type": "code",
      "execution_count": null,
      "metadata": {
        "id": "kZ8nSvgNcJUj",
        "colab": {
          "base_uri": "https://localhost:8080/"
        },
        "outputId": "c911d2fe-726e-439e-b8b7-f71ebafca7d3"
      },
      "outputs": [
        {
          "output_type": "stream",
          "name": "stdout",
          "text": [
            "Nested Cross-Validation Accuracy: 0.46 ± 0.00\n",
            "Best parameters for each fold:\n",
            "{'n_estimators': 50, 'max_depth': 7, 'learning_rate': 0.1}\n",
            "{'n_estimators': 50, 'max_depth': 7, 'learning_rate': 0.1}\n",
            "{'n_estimators': 50, 'max_depth': 7, 'learning_rate': 0.1}\n",
            "{'n_estimators': 50, 'max_depth': 7, 'learning_rate': 0.1}\n",
            "{'n_estimators': 50, 'max_depth': 7, 'learning_rate': 0.1}\n",
            "Test Set Performance:\n",
            "Accuracy: 0.46\n",
            "Precision: 0.46\n",
            "Recall: 0.38\n",
            "F1 Score: 0.40\n"
          ]
        }
      ],
      "source": [
        "from joblib import Parallel, delayed\n",
        "\n",
        "# Define the parameter grid for tuning\n",
        "param_dist = {\n",
        "    'n_estimators': [50, 100, 150, 200],\n",
        "    'learning_rate': [0.01, 0.05, 0.1, 0.2],\n",
        "    'max_depth': [3, 7, 10, 20]\n",
        "}\n",
        "\n",
        "# Define the inner and outer cross-validation strategies\n",
        "inner_cv = KFold(n_splits=3, shuffle=True, random_state=42)\n",
        "outer_cv = KFold(n_splits=5, shuffle=True, random_state=42)\n",
        "\n",
        "# Initialize the RandomizedSearchCV\n",
        "random_search = RandomizedSearchCV(\n",
        "    estimator=GradientBoostingClassifier(),\n",
        "    param_distributions=param_dist,\n",
        "    n_iter=15,\n",
        "    cv=inner_cv,\n",
        "    scoring='accuracy',\n",
        "    random_state=42,\n",
        "    n_jobs=-1  # Utilize all available cores for parallel processing\n",
        ")\n",
        "\n",
        "# Perform nested cross-validation and store best parameters for each fold\n",
        "nested_scores = []\n",
        "best_params = []\n",
        "best_models = []\n",
        "\n",
        "def fit_and_evaluate(train_idx, test_idx):\n",
        "    random_search.fit(X_train.iloc[train_idx], y_train.iloc[train_idx])\n",
        "    best_model = random_search.best_estimator_\n",
        "    return random_search.best_score_, random_search.best_params_, best_model\n",
        "\n",
        "results = Parallel(n_jobs=-1)(delayed(fit_and_evaluate)(train_idx, test_idx) for train_idx, test_idx in outer_cv.split(X_train, y_train))\n",
        "\n",
        "for score, params, model in results:\n",
        "    nested_scores.append(score)\n",
        "    best_params.append(params)\n",
        "    best_models.append(model)\n",
        "\n",
        "# Print the performance of the nested cross-validation\n",
        "print(f\"Nested Cross-Validation Accuracy: {np.mean(nested_scores):.2f} ± {np.std(nested_scores):.2f}\")\n",
        "\n",
        "# Print the best parameters found for each fold\n",
        "print(\"Best parameters for each fold:\")\n",
        "for params in best_params:\n",
        "    print(params)\n",
        "\n",
        "# Use the best model found in the outer loop\n",
        "final_best_model = best_models[-1]\n",
        "\n",
        "# Evaluate the best model on the test set\n",
        "test_predictions = final_best_model.predict(X_test)\n",
        "print(\"Test Set Performance:\")\n",
        "evaluate_performance(y_test, test_predictions)\n"
      ]
    },
    {
      "cell_type": "markdown",
      "source": [
        "# Gradient Boosting with hyperparameter tuning (all features) -> Accuracy 1"
      ],
      "metadata": {
        "id": "Pfy8ruSqY_vm"
      }
    },
    {
      "cell_type": "code",
      "source": [
        "import pandas as pd\n",
        "from sklearn.model_selection import train_test_split, RandomizedSearchCV, KFold\n",
        "from sklearn.ensemble import GradientBoostingClassifier\n",
        "from sklearn.metrics import accuracy_score, precision_score, recall_score, f1_score\n",
        "import numpy as np"
      ],
      "metadata": {
        "id": "Y3w4cdrLY_GO"
      },
      "execution_count": null,
      "outputs": []
    },
    {
      "cell_type": "code",
      "source": [
        "# Load df Google Colab (feature engineered, encoded, scaled/unscaled)\n",
        "df_sampled_unscaled = pd.read_csv(\"/content/drive/My Drive/Thesis/Data/df_sampled_unscaled.csv\")\n",
        "df_sampled_scaled = pd.read_csv(\"/content/drive/My Drive/Thesis/Data/df_sampled_scaled.csv\")"
      ],
      "metadata": {
        "id": "E7kT2jdsZoeJ"
      },
      "execution_count": null,
      "outputs": []
    },
    {
      "cell_type": "code",
      "source": [
        "df_final = df_sampled_unscaled.copy()"
      ],
      "metadata": {
        "id": "Qf64BYZCZwBY"
      },
      "execution_count": null,
      "outputs": []
    },
    {
      "cell_type": "code",
      "source": [
        "# Separate features and target\n",
        "X = df_final.drop(columns=['Rating'])\n",
        "y = df_final['Rating']"
      ],
      "metadata": {
        "id": "ibCoQMkxZJzU"
      },
      "execution_count": null,
      "outputs": []
    },
    {
      "cell_type": "code",
      "source": [
        "# Split data into 80% training, 20% testing\n",
        "X_train, X_test, y_train, y_test = train_test_split(X, y, test_size=0.2, stratify=y)"
      ],
      "metadata": {
        "id": "UR4a4KXxZMyo"
      },
      "execution_count": null,
      "outputs": []
    },
    {
      "cell_type": "code",
      "source": [
        "# Define evaluation function\n",
        "def evaluate_performance(y_true, y_pred):\n",
        "    print(f\"Accuracy: {accuracy_score(y_true, y_pred):.2f}\")\n",
        "    print(f\"Precision: {precision_score(y_true, y_pred, average='macro'):.2f}\")\n",
        "    print(f\"Recall: {recall_score(y_true, y_pred, average='macro'):.2f}\")\n",
        "    print(f\"F1 Score: {f1_score(y_true, y_pred, average='macro'):.2f}\")"
      ],
      "metadata": {
        "id": "Rq3Gi4meZPTU"
      },
      "execution_count": null,
      "outputs": []
    },
    {
      "cell_type": "code",
      "source": [
        "from joblib import Parallel, delayed\n",
        "\n",
        "# Define the parameter grid for tuning\n",
        "param_dist = {\n",
        "    'n_estimators': [50, 100, 150, 200],\n",
        "    'learning_rate': [0.01, 0.05, 0.1, 0.2],\n",
        "    'max_depth': [3, 7, 10, 20]\n",
        "}\n",
        "\n",
        "# Define the inner and outer cross-validation strategies\n",
        "inner_cv = KFold(n_splits=3, shuffle=True, random_state=42)\n",
        "outer_cv = KFold(n_splits=5, shuffle=True, random_state=42)\n",
        "\n",
        "# Initialize the RandomizedSearchCV\n",
        "random_search = RandomizedSearchCV(\n",
        "    estimator=GradientBoostingClassifier(),\n",
        "    param_distributions=param_dist,\n",
        "    n_iter=15,\n",
        "    cv=inner_cv,\n",
        "    scoring='accuracy',\n",
        "    random_state=42,\n",
        "    n_jobs=-1  # Utilize all available cores for parallel processing\n",
        ")\n",
        "\n",
        "# Perform nested cross-validation and store best parameters for each fold\n",
        "nested_scores = []\n",
        "best_params = []\n",
        "best_models = []\n",
        "\n",
        "def fit_and_evaluate(train_idx, test_idx):\n",
        "    random_search.fit(X_train.iloc[train_idx], y_train.iloc[train_idx])\n",
        "    best_model = random_search.best_estimator_\n",
        "    return random_search.best_score_, random_search.best_params_, best_model\n",
        "\n",
        "results = Parallel(n_jobs=-1)(delayed(fit_and_evaluate)(train_idx, test_idx) for train_idx, test_idx in outer_cv.split(X_train, y_train))\n",
        "\n",
        "for score, params, model in results:\n",
        "    nested_scores.append(score)\n",
        "    best_params.append(params)\n",
        "    best_models.append(model)\n",
        "\n",
        "# Print the performance of the nested cross-validation\n",
        "print(f\"Nested Cross-Validation Accuracy: {np.mean(nested_scores):.2f} ± {np.std(nested_scores):.2f}\")\n",
        "\n",
        "# Print the best parameters found for each fold\n",
        "print(\"Best parameters for each fold:\")\n",
        "for params in best_params:\n",
        "    print(params)\n",
        "\n",
        "# Use the best model found in the outer loop\n",
        "final_best_model = best_models[-1]\n",
        "\n",
        "# Evaluate the best model on the test set\n",
        "test_predictions = final_best_model.predict(X_test)\n",
        "print(\"Test Set Performance:\")\n",
        "evaluate_performance(y_test, test_predictions)"
      ],
      "metadata": {
        "colab": {
          "base_uri": "https://localhost:8080/"
        },
        "id": "0xibaF3UZTKY",
        "outputId": "b4fa315e-5c84-4c50-af1a-c76a99093718"
      },
      "execution_count": null,
      "outputs": [
        {
          "output_type": "stream",
          "name": "stdout",
          "text": [
            "Nested Cross-Validation Accuracy: 1.00 ± 0.00\n",
            "Best parameters for each fold:\n",
            "{'n_estimators': 150, 'max_depth': 10, 'learning_rate': 0.2}\n",
            "{'n_estimators': 50, 'max_depth': 7, 'learning_rate': 0.2}\n",
            "{'n_estimators': 50, 'max_depth': 7, 'learning_rate': 0.2}\n",
            "{'n_estimators': 50, 'max_depth': 7, 'learning_rate': 0.2}\n",
            "{'n_estimators': 50, 'max_depth': 7, 'learning_rate': 0.2}\n",
            "Test Set Performance:\n",
            "Accuracy: 1.00\n",
            "Precision: 1.00\n",
            "Recall: 1.00\n",
            "F1 Score: 1.00\n"
          ]
        }
      ]
    }
  ],
  "metadata": {
    "colab": {
      "provenance": [],
      "machine_shape": "hm",
      "gpuType": "V28"
    },
    "kernelspec": {
      "display_name": "Python 3",
      "name": "python3"
    },
    "language_info": {
      "name": "python"
    },
    "accelerator": "TPU"
  },
  "nbformat": 4,
  "nbformat_minor": 0
}