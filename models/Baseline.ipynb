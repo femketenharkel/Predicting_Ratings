{
 "cells": [
  {
   "cell_type": "code",
   "execution_count": 2,
   "metadata": {},
   "outputs": [],
   "source": [
    "import pandas as pd"
   ]
  },
  {
   "cell_type": "code",
   "execution_count": 3,
   "metadata": {},
   "outputs": [],
   "source": [
    "# Load file with time component\n",
    "df = pd.read_csv(\"/Users/femke/Documents/Uni/DSS/Thesis/Data/ml1m_df.csv\")\n",
    "\n",
    "# Load file with time component, categories renamed\n",
    "df_category = pd.read_csv(\"/Users/femke/Documents/Uni/DSS/Thesis/Data/ml1m_df_category.csv\")\n",
    "\n",
    "# Load file with time component, movie dummy\n",
    "df_expanded_movies = pd.read_csv(\"/Users/femke/Documents/Uni/DSS/Thesis/Data/ml1m_df_expanded_movies.csv\")\n",
    "\n",
    "# Load file with time component, categories renamed, movie dummy\n",
    "df_expanded_movies_category = pd.read_csv(\"/Users/femke/Documents/Uni/DSS/Thesis/Data/ml1m_df_expanded_movies_category.csv\")"
   ]
  },
  {
   "cell_type": "markdown",
   "metadata": {},
   "source": [
    "# Random forest"
   ]
  },
  {
   "cell_type": "markdown",
   "metadata": {},
   "source": []
  }
 ],
 "metadata": {
  "kernelspec": {
   "display_name": "DLASSKERNEL",
   "language": "python",
   "name": "dlasskernel"
  },
  "language_info": {
   "codemirror_mode": {
    "name": "ipython",
    "version": 3
   },
   "file_extension": ".py",
   "mimetype": "text/x-python",
   "name": "python",
   "nbconvert_exporter": "python",
   "pygments_lexer": "ipython3",
   "version": "3.11.5"
  }
 },
 "nbformat": 4,
 "nbformat_minor": 2
}
