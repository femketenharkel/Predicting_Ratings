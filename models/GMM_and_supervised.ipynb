{
  "nbformat": 4,
  "nbformat_minor": 0,
  "metadata": {
    "colab": {
      "provenance": [],
      "authorship_tag": "ABX9TyM+C7hXXbsKGukrvGSjFIqK",
      "include_colab_link": true
    },
    "kernelspec": {
      "name": "python3",
      "display_name": "Python 3"
    },
    "language_info": {
      "name": "python"
    }
  },
  "cells": [
    {
      "cell_type": "markdown",
      "metadata": {
        "id": "view-in-github",
        "colab_type": "text"
      },
      "source": [
        "<a href=\"https://colab.research.google.com/github/femketenharkel/Predicting_Ratings/blob/main/models/GMM_and_supervised.ipynb\" target=\"_parent\"><img src=\"https://colab.research.google.com/assets/colab-badge.svg\" alt=\"Open In Colab\"/></a>"
      ]
    },
    {
      "cell_type": "markdown",
      "source": [
        "# **GMM clustering and supervised learning algorithms**"
      ],
      "metadata": {
        "id": "qz0LZbFSpAUu"
      }
    },
    {
      "cell_type": "markdown",
      "source": [
        "The output of the GMM clustering algorithm (together with the original dataset) is used as input for a Random Forest and a Gradient Boosting algorithm."
      ],
      "metadata": {
        "id": "smVcU2BjqXkx"
      }
    },
    {
      "cell_type": "markdown",
      "source": [
        "## Random Forest"
      ],
      "metadata": {
        "id": "_cfdCiKHpkl_"
      }
    },
    {
      "cell_type": "code",
      "source": [
        "import numpy as np\n",
        "import pandas as pd\n",
        "from google.colab import drive\n",
        "from sklearn.model_selection import KFold, train_test_split, RandomizedSearchCV\n",
        "from sklearn.ensemble import RandomForestClassifier\n",
        "from sklearn.metrics import accuracy_score, precision_score, recall_score, f1_score"
      ],
      "metadata": {
        "id": "_7ekflrCpl2-"
      },
      "execution_count": null,
      "outputs": []
    },
    {
      "cell_type": "code",
      "source": [
        "# Loading in the data\n",
        "drive.mount('/content/drive')\n",
        "df_final = pd.read_csv('/content/drive/My Drive/Thesis/Data/df_final_GMM_Clustering.csv')"
      ],
      "metadata": {
        "id": "2EbKmVCCqdhy"
      },
      "execution_count": null,
      "outputs": []
    },
    {
      "cell_type": "code",
      "source": [
        "# Might be needed?? for error at the bottom\n",
        "df_final = np.nan_to_num(df_final)\n",
        "df_final.astype(np.int32)"
      ],
      "metadata": {
        "id": "Lj1kVPHvqpgX"
      },
      "execution_count": null,
      "outputs": []
    },
    {
      "cell_type": "code",
      "source": [
        "# Define feature and target\n",
        "X = df_final.drop('Rating', axis=1)\n",
        "y = df_final['Rating']\n",
        "\n",
        "# Split data 80% train, 20% test\n",
        "X_train, X_test, y_train, y_test = train_test_split(X, y, test_size=0.2,\n",
        "                                                    stratify=y, random_state=42)\n",
        "\n",
        "# Define the parameter grid\n",
        "param_dist = {\n",
        "    'n_estimators': [100, 200, 250, 300],\n",
        "    'max_depth': [20, 30, 40, 50],\n",
        "    'min_samples_split': [2,5,10],\n",
        "    'min_samples_leaf': [1, 2, 4]\n",
        "}\n",
        "\n",
        "# Define the inner and outer cross-validation strategies\n",
        "inner_cv = KFold(n_splits=3, shuffle=True, random_state=42)\n",
        "outer_cv = KFold(n_splits=5, shuffle=True, random_state=42)"
      ],
      "metadata": {
        "id": "-JcX11T2potA"
      },
      "execution_count": null,
      "outputs": []
    },
    {
      "cell_type": "code",
      "source": [
        "# Initialize the Ranodom Search\n",
        "random_search = RandomizedSearchCV(estimator=RandomForestClassifier(),\n",
        "                                   param_distributions=param_dist, n_iter=15,\n",
        "                                   cv=inner_cv, scoring='accuracy',\n",
        "                                   random_state=42)\n",
        "\n",
        "# Define output lists\n",
        "outer_scores = []\n",
        "val_scores = []\n",
        "best_params_list = []\n",
        "\n",
        "# Perform nested cross-validation\n",
        "for train_idx, val_idx in outer_cv.split(X_train, y_train):\n",
        "    # Split the data into training and validation sets\n",
        "    X_train_fold = X_train.iloc[train_idx]\n",
        "    X_val_fold = X_train.iloc[val_idx]\n",
        "    y_train_fold = y_train.iloc[train_idx]\n",
        "    y_val_fold = y_train.iloc[val_idx]\n",
        "\n",
        "    # Fit the model on the training fold\n",
        "    random_search.fit(X_train_fold, y_train_fold)\n",
        "    best_model = random_search.best_estimator_\n",
        "\n",
        "    # Save the best parameters for this fold\n",
        "    best_params_list.append(random_search.best_params_)\n",
        "\n",
        "    # Evaluate on the validation set\n",
        "    val_predictions = best_model.predict(X_val_fold)\n",
        "    val_acc = accuracy_score(y_val_fold, val_predictions)\n",
        "    val_prec = precision_score(y_val_fold, val_predictions, average='weighted')\n",
        "    val_rec = recall_score(y_val_fold, val_predictions, average='weighted')\n",
        "    val_f1 = f1_score(y_val_fold, val_predictions, average='weighted')\n",
        "\n",
        "    # Append validation metrics\n",
        "    val_scores.append((val_acc, val_prec, val_rec, val_f1))\n",
        "\n",
        "    # Store the outer fold score (accuracy)\n",
        "    outer_scores.append(random_search.best_score_)\n",
        "\n",
        "# Print the performance of the nested cross-validation\n",
        "print(f\"Nested Cross-Validation Accuracy: {np.mean(outer_scores):.2f} ± {np.std(outer_scores):.2f}\")\n",
        "\n",
        "# Print validation set performance for each fold\n",
        "val_scores = np.array(val_scores)\n",
        "print(\"Validation Set Performance:\")\n",
        "print(f\"Accuracy: {val_scores[:, 0].mean():.2f} ± {val_scores[:, 0].std():.2f}\")\n",
        "print(f\"Precision: {val_scores[:, 1].mean():.2f} ± {val_scores[:, 1].std():.2f}\")\n",
        "print(f\"Recall: {val_scores[:, 2].mean():.2f} ± {val_scores[:, 2].std():.2f}\")\n",
        "print(f\"F1 Score: {val_scores[:, 3].mean():.2f} ± {val_scores[:, 3].std():.2f}\")\n",
        "\n",
        "# Print the best parameters found during hyperparameter tuning\n",
        "print(\"Best parameters found during hyperparameter tuning:\")\n",
        "for i, params in enumerate(best_params_list):\n",
        "    print(f\"Fold {i+1}: {params}\")\n",
        "\n",
        "# Fit the best model found on the entire training set\n",
        "random_search.fit(X_train, y_train)\n",
        "best_model = random_search.best_estimator_\n",
        "\n",
        "# Evaluate on the test set\n",
        "test_predictions = best_model.predict(X_test)\n",
        "print(\"Test Set Performance:\")\n",
        "print(f\"Accuracy: {accuracy_score(y_test, test_predictions):.2f}\")\n",
        "print(f\"Precision: {precision_score(y_test, test_predictions, average='weighted'):.2f}\")\n",
        "print(f\"Recall: {recall_score(y_test, test_predictions, average='weighted'):.2f}\")\n",
        "print(f\"F1 Score: {f1_score(y_test, test_predictions, average='weighted'):.2f}\")\n",
        "\n",
        "# Print the best parameters of the best-performing model\n",
        "print(\"Best Parameters of the Best-Performing Model:\")\n",
        "print(random_search.best_params_)"
      ],
      "metadata": {
        "id": "GslcosJCprM-"
      },
      "execution_count": null,
      "outputs": []
    },
    {
      "cell_type": "markdown",
      "source": [
        "## Gradient Boosting"
      ],
      "metadata": {
        "id": "apTA5VxXpwFe"
      }
    },
    {
      "cell_type": "code",
      "source": [
        "import numpy as np\n",
        "import pandas as pd\n",
        "from google.colab import drive\n",
        "from sklearn.ensemble import GradientBoostingClassifier\n",
        "from sklearn.metrics import accuracy_score, precision_score, recall_score, f1_score\n",
        "from sklearn.model_selection import KFold, RandomizedSearchCV\n",
        "from sklearn.model_selection import KFold, train_test_split, RandomizedSearchCV"
      ],
      "metadata": {
        "id": "y18kO2Wxpxw5"
      },
      "execution_count": null,
      "outputs": []
    },
    {
      "cell_type": "code",
      "source": [
        "# Loading in the data\n",
        "drive.mount('/content/drive')\n",
        "df_final = pd.read_csv('/content/drive/My Drive/Thesis/Data/df_final_GMM_Clustering.csv')"
      ],
      "metadata": {
        "id": "aOtz4lQTqxSF"
      },
      "execution_count": null,
      "outputs": []
    },
    {
      "cell_type": "code",
      "source": [
        "# Might be needed?? for error at the bottom\n",
        "df_final = np.nan_to_num(df_final)\n",
        "df_final.astype(np.int32)"
      ],
      "metadata": {
        "id": "94zf-j3Pq1Sm"
      },
      "execution_count": null,
      "outputs": []
    },
    {
      "cell_type": "code",
      "source": [
        "# Define feature and target\n",
        "X = df_final.drop('Rating', axis=1)\n",
        "y = df_final['Rating']\n",
        "\n",
        "# Split data 80% train, 20% test\n",
        "X_train, X_test, y_train, y_test = train_test_split(X, y, test_size=0.2,\n",
        "                                                    stratify=y, random_state=42)\n",
        "# Define the parameter grid for tuning\n",
        "param_dist = {\n",
        "    'n_estimators': [50, 100, 150, 200],\n",
        "    'learning_rate': [0.01, 0.05, 0.1, 0.2],\n",
        "    'max_depth': [3, 7, 10, 20]\n",
        "}\n",
        "\n",
        "# Define the inner and outer cross-validation strategies\n",
        "inner_cv = KFold(n_splits=3, shuffle=True, random_state=42)\n",
        "outer_cv = KFold(n_splits=5, shuffle=True, random_state=42)"
      ],
      "metadata": {
        "id": "pJzasOYlp0lU"
      },
      "execution_count": null,
      "outputs": []
    },
    {
      "cell_type": "code",
      "source": [
        "# Initialize the RandomizedSearchCV\n",
        "random_search = RandomizedSearchCV(\n",
        "    estimator=GradientBoostingClassifier(),\n",
        "    param_distributions=param_dist,\n",
        "    n_iter=15,\n",
        "    cv=inner_cv,\n",
        "    scoring='accuracy',\n",
        "    random_state=42,\n",
        "    n_jobs=-1  # Utilize all available cores for parallel processing\n",
        ")\n",
        "\n",
        "# Perform nested cross-validation\n",
        "outer_scores = []\n",
        "val_scores = []\n",
        "best_params_list = []\n",
        "\n",
        "for train_idx, val_idx in outer_cv.split(X_train, y_train):\n",
        "    # Split the data into training and validation sets\n",
        "    X_train_fold = X_train.iloc[train_idx]\n",
        "    X_val_fold = X_train.iloc[val_idx]\n",
        "    y_train_fold = y_train.iloc[train_idx]\n",
        "    y_val_fold = y_train.iloc[val_idx]\n",
        "\n",
        "    # Fit the model on the training fold\n",
        "    random_search.fit(X_train_fold, y_train_fold)\n",
        "    best_model = random_search.best_estimator_\n",
        "\n",
        "    # Save the best parameters for this fold\n",
        "    best_params_list.append(random_search.best_params_)\n",
        "\n",
        "    # Evaluate on the validation set\n",
        "    val_predictions = best_model.predict(X_val_fold)\n",
        "    val_acc = accuracy_score(y_val_fold, val_predictions)\n",
        "    val_prec = precision_score(y_val_fold, val_predictions, average='weighted')\n",
        "    val_rec = recall_score(y_val_fold, val_predictions, average='weighted')\n",
        "    val_f1 = f1_score(y_val_fold, val_predictions, average='weighted')\n",
        "\n",
        "    # Append validation metrics\n",
        "    val_scores.append((val_acc, val_prec, val_rec, val_f1))\n",
        "\n",
        "    # Store the outer fold score (accuracy)\n",
        "    outer_scores.append(random_search.best_score_)\n",
        "\n",
        "# Print the performance of the nested cross-validation\n",
        "print(f\"Nested Cross-Validation Accuracy: {np.mean(outer_scores):.2f} ± {np.std(outer_scores):.2f}\")\n",
        "\n",
        "# Print validation set performance for each fold\n",
        "val_scores = np.array(val_scores)\n",
        "print(\"Validation Set Performance:\")\n",
        "print(f\"Accuracy: {val_scores[:, 0].mean():.2f} ± {val_scores[:, 0].std():.2f}\")\n",
        "print(f\"Precision: {val_scores[:, 1].mean():.2f} ± {val_scores[:, 1].std():.2f}\")\n",
        "print(f\"Recall: {val_scores[:, 2].mean():.2f} ± {val_scores[:, 2].std():.2f}\")\n",
        "print(f\"F1 Score: {val_scores[:, 3].mean():.2f} ± {val_scores[:, 3].std():.2f}\")\n",
        "\n",
        "# Print the best parameters found during hyperparameter tuning\n",
        "print(\"Best parameters found during hyperparameter tuning:\")\n",
        "for i, params in enumerate(best_params_list):\n",
        "    print(f\"Fold {i+1}: {params}\")\n",
        "\n",
        "# Fit the best model found on the entire training set\n",
        "random_search.fit(X_train, y_train)\n",
        "best_model = random_search.best_estimator_\n",
        "\n",
        "# Evaluate on the test set\n",
        "test_predictions = best_model.predict(X_test)\n",
        "print(\"Test Set Performance:\")\n",
        "print(f\"Accuracy: {accuracy_score(y_test, test_predictions):.2f}\")\n",
        "print(f\"Precision: {precision_score(y_test, test_predictions, average='weighted'):.2f}\")\n",
        "print(f\"Recall: {recall_score(y_test, test_predictions, average='weighted'):.2f}\")\n",
        "print(f\"F1 Score: {f1_score(y_test, test_predictions, average='weighted'):.2f}\")\n",
        "\n",
        "# Print the best parameters of the best-performing model\n",
        "print(\"Best Parameters of the Best-Performing Model:\")\n",
        "print(random_search.best_params_)"
      ],
      "metadata": {
        "id": "CHmOm6H0p1Sk"
      },
      "execution_count": null,
      "outputs": []
    }
  ]
}