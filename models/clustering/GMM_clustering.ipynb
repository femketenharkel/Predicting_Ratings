{
  "nbformat": 4,
  "nbformat_minor": 0,
  "metadata": {
    "colab": {
      "provenance": [],
      "authorship_tag": "ABX9TyOrBbcjvhr0ni/TmF8l9tcA",
      "include_colab_link": true
    },
    "kernelspec": {
      "name": "python3",
      "display_name": "Python 3"
    },
    "language_info": {
      "name": "python"
    }
  },
  "cells": [
    {
      "cell_type": "markdown",
      "metadata": {
        "id": "view-in-github",
        "colab_type": "text"
      },
      "source": [
        "<a href=\"https://colab.research.google.com/github/femketenharkel/Predicting_Ratings/blob/main/models/clustering/GMM_clustering.ipynb\" target=\"_parent\"><img src=\"https://colab.research.google.com/assets/colab-badge.svg\" alt=\"Open In Colab\"/></a>"
      ]
    },
    {
      "cell_type": "markdown",
      "source": [
        "# GMM clustering"
      ],
      "metadata": {
        "id": "kN_yATx_DiUQ"
      }
    },
    {
      "cell_type": "code",
      "source": [
        "import numpy as np\n",
        "import pandas as pd\n",
        "from google.colab import drive\n",
        "from sklearn.preprocessing import MinMaxScaler\n",
        "from sklearn.mixture import GaussianMixture\n",
        "import matplotlib.pyplot as plt"
      ],
      "metadata": {
        "id": "J0EBu2tADmml"
      },
      "execution_count": null,
      "outputs": []
    },
    {
      "cell_type": "code",
      "source": [
        "# Loading in the data\n",
        "drive.mount('/content/drive')\n",
        "df_final = pd.read_csv('/content/drive/My Drive/Thesis/Data/df_final.csv')"
      ],
      "metadata": {
        "id": "HpqgPaqXDs7F"
      },
      "execution_count": null,
      "outputs": []
    },
    {
      "cell_type": "code",
      "source": [
        "# Exclude target variable and unique identifiers for clustering.\n",
        "df = df_final.drop(columns= ['Rating', 'MovieID', 'UserID'])"
      ],
      "metadata": {
        "id": "Y4BuCckoDybL"
      },
      "execution_count": null,
      "outputs": []
    },
    {
      "cell_type": "code",
      "source": [
        "# Normalizing the variables\n",
        "scaler = MinMaxScaler()\n",
        "features_to_scale = ['Year', 'Month', 'Day', 'Hour', 'Age', 'Release_year',\n",
        "                       'Time_release_to_rating', 'Total_ratings_per_movie',\n",
        "                       'Total_ratings_per_user' ]\n",
        "df[features_to_scale] = scaler.fit_transform(df[features_to_scale])"
      ],
      "metadata": {
        "id": "2Rew9KeMD1-o"
      },
      "execution_count": null,
      "outputs": []
    },
    {
      "cell_type": "code",
      "source": [
        "# Define the range for number of clusters\n",
        "n_components_range = range(1, 11)\n",
        "bic_values = []\n",
        "\n",
        "for n_components in n_components_range:\n",
        "    gmm = GaussianMixture(n_components=n_components, random_state=42)\n",
        "    gmm.fit(features_normalized)\n",
        "    bic_values.append(gmm.bic(features_normalized))\n",
        "\n",
        "# Plotting the elbow graph\n",
        "plt.figure(figsize=(8, 6))\n",
        "plt.plot(n_components_range, bic_values, marker='o')\n",
        "plt.title('Elbow Method for Optimal Number of Clusters (BIC)')\n",
        "plt.xlabel('Number of Clusters')\n",
        "plt.ylabel('BIC')\n",
        "plt.show()"
      ],
      "metadata": {
        "id": "rLObu-L0D4B7"
      },
      "execution_count": null,
      "outputs": []
    },
    {
      "cell_type": "code",
      "execution_count": null,
      "metadata": {
        "id": "AH0trUg-DhlL"
      },
      "outputs": [],
      "source": [
        "# Choose optimal number of clusters based on the plot\n",
        "optimal_n_components = n_components_range[np.argmin(bic_values)]\n",
        "print(f\"Optimal number of clusters: {optimal_n_components}\")\n",
        "\n",
        "# Apply GMM with the optimal number of clusters\n",
        "gmm = GaussianMixture(n_components=optimal_n_components, random_state=42)\n",
        "clusters = gmm.fit_predict(features_normalized)\n",
        "\n",
        "# Add cluster labels back to the DataFrame\n",
        "df['Cluster'] = clusters\n",
        "\n",
        "# Display the DataFrame with clusters\n",
        "print(df)"
      ]
    },
    {
      "cell_type": "markdown",
      "source": [
        " Poging 2"
      ],
      "metadata": {
        "id": "xj5cZqT-anK7"
      }
    },
    {
      "cell_type": "code",
      "source": [
        "\n",
        "# 2. Apply GMM clustering and determine the optimal number of clusters using the elbow method\n",
        "cluster_range = range(1, 11)\n",
        "bic_scores = []\n",
        "\n",
        "for k in cluster_range:\n",
        "    gmm = GaussianMixture(n_components=k, covariance_type='full', random_state=42)\n",
        "    gmm.fit(df_scaled)\n",
        "    bic_scores.append(gmm.bic(df_scaled))\n",
        "\n",
        "# Plot the BIC scores to find the elbow point\n",
        "plt.figure(figsize=(8, 6))\n",
        "plt.plot(cluster_range, bic_scores, marker='o')\n",
        "plt.title('Elbow Method For Optimal k using BIC')\n",
        "plt.xlabel('Number of clusters')\n",
        "plt.ylabel('BIC Score')\n",
        "plt.show()\n",
        "\n",
        "# From this plot, determine the optimal number of clusters\n",
        "optimal_clusters = cluster_range[np.argmin(bic_scores)]\n",
        "\n",
        "# 3. Perform clustering again with the optimal number of clusters\n",
        "gmm_optimal = GaussianMixture(n_components=optimal_clusters, covariance_type='full', random_state=42)\n",
        "gmm_optimal.fit(df_scaled)\n",
        "clusters = gmm_optimal.predict(df_scaled)\n",
        "\n",
        "# 4. Evaluate the clustering with the silhouette score\n",
        "silhouette_avg = silhouette_score(df_scaled, clusters)\n",
        "\n",
        "print(f\"Optimal number of clusters: {optimal_clusters}\")\n",
        "print(f\"Silhouette Score: {silhouette_avg}\")\n",
        "\n",
        "# Add the cluster labels to the original dataframe\n",
        "df['Cluster'] = clusters\n",
        "\n",
        "# Print the first few rows of the dataframe with cluster labels\n",
        "print(df.head())\n"
      ],
      "metadata": {
        "id": "yXmrMcPfali7"
      },
      "execution_count": null,
      "outputs": []
    }
  ]
}