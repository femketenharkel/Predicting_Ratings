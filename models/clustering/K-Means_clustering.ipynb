{
  "nbformat": 4,
  "nbformat_minor": 0,
  "metadata": {
    "colab": {
      "provenance": [],
      "machine_shape": "hm",
      "gpuType": "V28",
      "authorship_tag": "ABX9TyMZ0tjP5FMLsh9jNtSWk3ER",
      "include_colab_link": true
    },
    "kernelspec": {
      "name": "python3",
      "display_name": "Python 3"
    },
    "language_info": {
      "name": "python"
    },
    "accelerator": "TPU"
  },
  "cells": [
    {
      "cell_type": "markdown",
      "metadata": {
        "id": "view-in-github",
        "colab_type": "text"
      },
      "source": [
        "<a href=\"https://colab.research.google.com/github/femketenharkel/Predicting_Ratings/blob/main/models/clustering/K-Means_clustering.ipynb\" target=\"_parent\"><img src=\"https://colab.research.google.com/assets/colab-badge.svg\" alt=\"Open In Colab\"/></a>"
      ]
    },
    {
      "cell_type": "markdown",
      "source": [
        "# K-Means Clustering\n",
        "\n"
      ],
      "metadata": {
        "id": "hmDE_aZ7mtVI"
      }
    },
    {
      "cell_type": "code",
      "source": [
        "import pandas as pd\n",
        "from sklearn.cluster import KMeans\n",
        "from google.colab import drive\n",
        "from sklearn.preprocessing import MinMaxScaler\n",
        "from sklearn.metrics import silhouette_score\n",
        "import matplotlib.pyplot as plt\n",
        "from sklearn.utils import shuffle\n",
        "from joblib import Parallel, delayed\n",
        "import joblib\n"
      ],
      "metadata": {
        "id": "U9p81xzcmvxy"
      },
      "execution_count": 1,
      "outputs": []
    },
    {
      "cell_type": "code",
      "source": [
        "# Load in the data\n",
        "drive.mount('/content/drive')\n",
        "df_final = pd.read_csv('/content/drive/My Drive/Thesis/Data/df_final_2.csv')"
      ],
      "metadata": {
        "id": "5i0NxDdgm45R",
        "outputId": "9efff405-fb67-4f3a-9aa6-288ac937899d",
        "colab": {
          "base_uri": "https://localhost:8080/"
        }
      },
      "execution_count": 2,
      "outputs": [
        {
          "output_type": "stream",
          "name": "stdout",
          "text": [
            "Mounted at /content/drive\n"
          ]
        }
      ]
    },
    {
      "cell_type": "code",
      "source": [
        "# Exclude target variable and unique identifiers for clustering\n",
        "df = df_final.drop(columns= ['Rating', 'MovieID', 'UserID'])"
      ],
      "metadata": {
        "id": "OdUs_A-Pm7Su"
      },
      "execution_count": 3,
      "outputs": []
    },
    {
      "cell_type": "code",
      "source": [
        "# Normalize the numerical features\n",
        "scaler = MinMaxScaler()\n",
        "features_to_scale = ['Year', 'Month', 'Day', 'Hour', 'Age', 'Release_year',\n",
        "                       'Time_release_to_rating', 'Total_ratings_per_movie',\n",
        "                       'Total_ratings_per_user' ]\n",
        "df[features_to_scale] = scaler.fit_transform(df[features_to_scale])"
      ],
      "metadata": {
        "id": "QiR7Rwlvm9kA"
      },
      "execution_count": 4,
      "outputs": []
    },
    {
      "cell_type": "code",
      "source": [
        "df.head()"
      ],
      "metadata": {
        "colab": {
          "base_uri": "https://localhost:8080/",
          "height": 273
        },
        "id": "1AwjItLFQ6N3",
        "outputId": "55fd1a1a-9612-4a4a-b521-e793bcd05ff0"
      },
      "execution_count": 5,
      "outputs": [
        {
          "output_type": "execute_result",
          "data": {
            "text/plain": [
              "        Age  Year     Month       Day      Hour  Release_year  \\\n",
              "0  0.666667   0.0  0.363636  0.766667  0.086957      0.679012   \n",
              "1  0.333333   0.0  0.636364  0.133333  0.652174      0.938272   \n",
              "2  0.166667   0.0  0.909091  0.700000  0.695652      1.000000   \n",
              "3  0.500000   0.0  0.636364  0.866667  0.956522      0.938272   \n",
              "4  0.500000   0.0  0.636364  0.466667  0.782609      0.777778   \n",
              "\n",
              "   Time_release_to_rating  Total_ratings_per_movie  Total_ratings_per_user  \\\n",
              "0                0.317073                 0.024511                0.047951   \n",
              "1                0.060976                 0.395390                0.102877   \n",
              "2                0.000000                 0.168077                0.244115   \n",
              "3                0.060976                 0.121681                0.309939   \n",
              "4                0.219512                 0.422235                0.361378   \n",
              "\n",
              "   Female  ...  Favourite_Fantasy  Favourite_Film-Noir  Favourite_Horror  \\\n",
              "0   False  ...              False                False             False   \n",
              "1   False  ...              False                False             False   \n",
              "2    True  ...              False                 True             False   \n",
              "3   False  ...              False                 True             False   \n",
              "4   False  ...              False                 True             False   \n",
              "\n",
              "   Favourite_Musical  Favourite_Mystery  Favourite_Romance  Favourite_Sci-Fi  \\\n",
              "0              False              False              False             False   \n",
              "1              False              False              False             False   \n",
              "2              False              False              False             False   \n",
              "3              False              False              False             False   \n",
              "4              False              False              False             False   \n",
              "\n",
              "   Favourite_Thriller  Favourite_War  Favourite_Western  \n",
              "0               False          False               True  \n",
              "1               False          False               True  \n",
              "2               False          False              False  \n",
              "3               False          False              False  \n",
              "4               False          False              False  \n",
              "\n",
              "[5 rows x 68 columns]"
            ],
            "text/html": [
              "\n",
              "  <div id=\"df-75cd0cc5-efcc-44c4-8180-49fed3d121a5\" class=\"colab-df-container\">\n",
              "    <div>\n",
              "<style scoped>\n",
              "    .dataframe tbody tr th:only-of-type {\n",
              "        vertical-align: middle;\n",
              "    }\n",
              "\n",
              "    .dataframe tbody tr th {\n",
              "        vertical-align: top;\n",
              "    }\n",
              "\n",
              "    .dataframe thead th {\n",
              "        text-align: right;\n",
              "    }\n",
              "</style>\n",
              "<table border=\"1\" class=\"dataframe\">\n",
              "  <thead>\n",
              "    <tr style=\"text-align: right;\">\n",
              "      <th></th>\n",
              "      <th>Age</th>\n",
              "      <th>Year</th>\n",
              "      <th>Month</th>\n",
              "      <th>Day</th>\n",
              "      <th>Hour</th>\n",
              "      <th>Release_year</th>\n",
              "      <th>Time_release_to_rating</th>\n",
              "      <th>Total_ratings_per_movie</th>\n",
              "      <th>Total_ratings_per_user</th>\n",
              "      <th>Female</th>\n",
              "      <th>...</th>\n",
              "      <th>Favourite_Fantasy</th>\n",
              "      <th>Favourite_Film-Noir</th>\n",
              "      <th>Favourite_Horror</th>\n",
              "      <th>Favourite_Musical</th>\n",
              "      <th>Favourite_Mystery</th>\n",
              "      <th>Favourite_Romance</th>\n",
              "      <th>Favourite_Sci-Fi</th>\n",
              "      <th>Favourite_Thriller</th>\n",
              "      <th>Favourite_War</th>\n",
              "      <th>Favourite_Western</th>\n",
              "    </tr>\n",
              "  </thead>\n",
              "  <tbody>\n",
              "    <tr>\n",
              "      <th>0</th>\n",
              "      <td>0.666667</td>\n",
              "      <td>0.0</td>\n",
              "      <td>0.363636</td>\n",
              "      <td>0.766667</td>\n",
              "      <td>0.086957</td>\n",
              "      <td>0.679012</td>\n",
              "      <td>0.317073</td>\n",
              "      <td>0.024511</td>\n",
              "      <td>0.047951</td>\n",
              "      <td>False</td>\n",
              "      <td>...</td>\n",
              "      <td>False</td>\n",
              "      <td>False</td>\n",
              "      <td>False</td>\n",
              "      <td>False</td>\n",
              "      <td>False</td>\n",
              "      <td>False</td>\n",
              "      <td>False</td>\n",
              "      <td>False</td>\n",
              "      <td>False</td>\n",
              "      <td>True</td>\n",
              "    </tr>\n",
              "    <tr>\n",
              "      <th>1</th>\n",
              "      <td>0.333333</td>\n",
              "      <td>0.0</td>\n",
              "      <td>0.636364</td>\n",
              "      <td>0.133333</td>\n",
              "      <td>0.652174</td>\n",
              "      <td>0.938272</td>\n",
              "      <td>0.060976</td>\n",
              "      <td>0.395390</td>\n",
              "      <td>0.102877</td>\n",
              "      <td>False</td>\n",
              "      <td>...</td>\n",
              "      <td>False</td>\n",
              "      <td>False</td>\n",
              "      <td>False</td>\n",
              "      <td>False</td>\n",
              "      <td>False</td>\n",
              "      <td>False</td>\n",
              "      <td>False</td>\n",
              "      <td>False</td>\n",
              "      <td>False</td>\n",
              "      <td>True</td>\n",
              "    </tr>\n",
              "    <tr>\n",
              "      <th>2</th>\n",
              "      <td>0.166667</td>\n",
              "      <td>0.0</td>\n",
              "      <td>0.909091</td>\n",
              "      <td>0.700000</td>\n",
              "      <td>0.695652</td>\n",
              "      <td>1.000000</td>\n",
              "      <td>0.000000</td>\n",
              "      <td>0.168077</td>\n",
              "      <td>0.244115</td>\n",
              "      <td>True</td>\n",
              "      <td>...</td>\n",
              "      <td>False</td>\n",
              "      <td>True</td>\n",
              "      <td>False</td>\n",
              "      <td>False</td>\n",
              "      <td>False</td>\n",
              "      <td>False</td>\n",
              "      <td>False</td>\n",
              "      <td>False</td>\n",
              "      <td>False</td>\n",
              "      <td>False</td>\n",
              "    </tr>\n",
              "    <tr>\n",
              "      <th>3</th>\n",
              "      <td>0.500000</td>\n",
              "      <td>0.0</td>\n",
              "      <td>0.636364</td>\n",
              "      <td>0.866667</td>\n",
              "      <td>0.956522</td>\n",
              "      <td>0.938272</td>\n",
              "      <td>0.060976</td>\n",
              "      <td>0.121681</td>\n",
              "      <td>0.309939</td>\n",
              "      <td>False</td>\n",
              "      <td>...</td>\n",
              "      <td>False</td>\n",
              "      <td>True</td>\n",
              "      <td>False</td>\n",
              "      <td>False</td>\n",
              "      <td>False</td>\n",
              "      <td>False</td>\n",
              "      <td>False</td>\n",
              "      <td>False</td>\n",
              "      <td>False</td>\n",
              "      <td>False</td>\n",
              "    </tr>\n",
              "    <tr>\n",
              "      <th>4</th>\n",
              "      <td>0.500000</td>\n",
              "      <td>0.0</td>\n",
              "      <td>0.636364</td>\n",
              "      <td>0.466667</td>\n",
              "      <td>0.782609</td>\n",
              "      <td>0.777778</td>\n",
              "      <td>0.219512</td>\n",
              "      <td>0.422235</td>\n",
              "      <td>0.361378</td>\n",
              "      <td>False</td>\n",
              "      <td>...</td>\n",
              "      <td>False</td>\n",
              "      <td>True</td>\n",
              "      <td>False</td>\n",
              "      <td>False</td>\n",
              "      <td>False</td>\n",
              "      <td>False</td>\n",
              "      <td>False</td>\n",
              "      <td>False</td>\n",
              "      <td>False</td>\n",
              "      <td>False</td>\n",
              "    </tr>\n",
              "  </tbody>\n",
              "</table>\n",
              "<p>5 rows × 68 columns</p>\n",
              "</div>\n",
              "    <div class=\"colab-df-buttons\">\n",
              "\n",
              "  <div class=\"colab-df-container\">\n",
              "    <button class=\"colab-df-convert\" onclick=\"convertToInteractive('df-75cd0cc5-efcc-44c4-8180-49fed3d121a5')\"\n",
              "            title=\"Convert this dataframe to an interactive table.\"\n",
              "            style=\"display:none;\">\n",
              "\n",
              "  <svg xmlns=\"http://www.w3.org/2000/svg\" height=\"24px\" viewBox=\"0 -960 960 960\">\n",
              "    <path d=\"M120-120v-720h720v720H120Zm60-500h600v-160H180v160Zm220 220h160v-160H400v160Zm0 220h160v-160H400v160ZM180-400h160v-160H180v160Zm440 0h160v-160H620v160ZM180-180h160v-160H180v160Zm440 0h160v-160H620v160Z\"/>\n",
              "  </svg>\n",
              "    </button>\n",
              "\n",
              "  <style>\n",
              "    .colab-df-container {\n",
              "      display:flex;\n",
              "      gap: 12px;\n",
              "    }\n",
              "\n",
              "    .colab-df-convert {\n",
              "      background-color: #E8F0FE;\n",
              "      border: none;\n",
              "      border-radius: 50%;\n",
              "      cursor: pointer;\n",
              "      display: none;\n",
              "      fill: #1967D2;\n",
              "      height: 32px;\n",
              "      padding: 0 0 0 0;\n",
              "      width: 32px;\n",
              "    }\n",
              "\n",
              "    .colab-df-convert:hover {\n",
              "      background-color: #E2EBFA;\n",
              "      box-shadow: 0px 1px 2px rgba(60, 64, 67, 0.3), 0px 1px 3px 1px rgba(60, 64, 67, 0.15);\n",
              "      fill: #174EA6;\n",
              "    }\n",
              "\n",
              "    .colab-df-buttons div {\n",
              "      margin-bottom: 4px;\n",
              "    }\n",
              "\n",
              "    [theme=dark] .colab-df-convert {\n",
              "      background-color: #3B4455;\n",
              "      fill: #D2E3FC;\n",
              "    }\n",
              "\n",
              "    [theme=dark] .colab-df-convert:hover {\n",
              "      background-color: #434B5C;\n",
              "      box-shadow: 0px 1px 3px 1px rgba(0, 0, 0, 0.15);\n",
              "      filter: drop-shadow(0px 1px 2px rgba(0, 0, 0, 0.3));\n",
              "      fill: #FFFFFF;\n",
              "    }\n",
              "  </style>\n",
              "\n",
              "    <script>\n",
              "      const buttonEl =\n",
              "        document.querySelector('#df-75cd0cc5-efcc-44c4-8180-49fed3d121a5 button.colab-df-convert');\n",
              "      buttonEl.style.display =\n",
              "        google.colab.kernel.accessAllowed ? 'block' : 'none';\n",
              "\n",
              "      async function convertToInteractive(key) {\n",
              "        const element = document.querySelector('#df-75cd0cc5-efcc-44c4-8180-49fed3d121a5');\n",
              "        const dataTable =\n",
              "          await google.colab.kernel.invokeFunction('convertToInteractive',\n",
              "                                                    [key], {});\n",
              "        if (!dataTable) return;\n",
              "\n",
              "        const docLinkHtml = 'Like what you see? Visit the ' +\n",
              "          '<a target=\"_blank\" href=https://colab.research.google.com/notebooks/data_table.ipynb>data table notebook</a>'\n",
              "          + ' to learn more about interactive tables.';\n",
              "        element.innerHTML = '';\n",
              "        dataTable['output_type'] = 'display_data';\n",
              "        await google.colab.output.renderOutput(dataTable, element);\n",
              "        const docLink = document.createElement('div');\n",
              "        docLink.innerHTML = docLinkHtml;\n",
              "        element.appendChild(docLink);\n",
              "      }\n",
              "    </script>\n",
              "  </div>\n",
              "\n",
              "\n",
              "<div id=\"df-ab9ba72c-48a6-4646-9044-7c60388449ea\">\n",
              "  <button class=\"colab-df-quickchart\" onclick=\"quickchart('df-ab9ba72c-48a6-4646-9044-7c60388449ea')\"\n",
              "            title=\"Suggest charts\"\n",
              "            style=\"display:none;\">\n",
              "\n",
              "<svg xmlns=\"http://www.w3.org/2000/svg\" height=\"24px\"viewBox=\"0 0 24 24\"\n",
              "     width=\"24px\">\n",
              "    <g>\n",
              "        <path d=\"M19 3H5c-1.1 0-2 .9-2 2v14c0 1.1.9 2 2 2h14c1.1 0 2-.9 2-2V5c0-1.1-.9-2-2-2zM9 17H7v-7h2v7zm4 0h-2V7h2v10zm4 0h-2v-4h2v4z\"/>\n",
              "    </g>\n",
              "</svg>\n",
              "  </button>\n",
              "\n",
              "<style>\n",
              "  .colab-df-quickchart {\n",
              "      --bg-color: #E8F0FE;\n",
              "      --fill-color: #1967D2;\n",
              "      --hover-bg-color: #E2EBFA;\n",
              "      --hover-fill-color: #174EA6;\n",
              "      --disabled-fill-color: #AAA;\n",
              "      --disabled-bg-color: #DDD;\n",
              "  }\n",
              "\n",
              "  [theme=dark] .colab-df-quickchart {\n",
              "      --bg-color: #3B4455;\n",
              "      --fill-color: #D2E3FC;\n",
              "      --hover-bg-color: #434B5C;\n",
              "      --hover-fill-color: #FFFFFF;\n",
              "      --disabled-bg-color: #3B4455;\n",
              "      --disabled-fill-color: #666;\n",
              "  }\n",
              "\n",
              "  .colab-df-quickchart {\n",
              "    background-color: var(--bg-color);\n",
              "    border: none;\n",
              "    border-radius: 50%;\n",
              "    cursor: pointer;\n",
              "    display: none;\n",
              "    fill: var(--fill-color);\n",
              "    height: 32px;\n",
              "    padding: 0;\n",
              "    width: 32px;\n",
              "  }\n",
              "\n",
              "  .colab-df-quickchart:hover {\n",
              "    background-color: var(--hover-bg-color);\n",
              "    box-shadow: 0 1px 2px rgba(60, 64, 67, 0.3), 0 1px 3px 1px rgba(60, 64, 67, 0.15);\n",
              "    fill: var(--button-hover-fill-color);\n",
              "  }\n",
              "\n",
              "  .colab-df-quickchart-complete:disabled,\n",
              "  .colab-df-quickchart-complete:disabled:hover {\n",
              "    background-color: var(--disabled-bg-color);\n",
              "    fill: var(--disabled-fill-color);\n",
              "    box-shadow: none;\n",
              "  }\n",
              "\n",
              "  .colab-df-spinner {\n",
              "    border: 2px solid var(--fill-color);\n",
              "    border-color: transparent;\n",
              "    border-bottom-color: var(--fill-color);\n",
              "    animation:\n",
              "      spin 1s steps(1) infinite;\n",
              "  }\n",
              "\n",
              "  @keyframes spin {\n",
              "    0% {\n",
              "      border-color: transparent;\n",
              "      border-bottom-color: var(--fill-color);\n",
              "      border-left-color: var(--fill-color);\n",
              "    }\n",
              "    20% {\n",
              "      border-color: transparent;\n",
              "      border-left-color: var(--fill-color);\n",
              "      border-top-color: var(--fill-color);\n",
              "    }\n",
              "    30% {\n",
              "      border-color: transparent;\n",
              "      border-left-color: var(--fill-color);\n",
              "      border-top-color: var(--fill-color);\n",
              "      border-right-color: var(--fill-color);\n",
              "    }\n",
              "    40% {\n",
              "      border-color: transparent;\n",
              "      border-right-color: var(--fill-color);\n",
              "      border-top-color: var(--fill-color);\n",
              "    }\n",
              "    60% {\n",
              "      border-color: transparent;\n",
              "      border-right-color: var(--fill-color);\n",
              "    }\n",
              "    80% {\n",
              "      border-color: transparent;\n",
              "      border-right-color: var(--fill-color);\n",
              "      border-bottom-color: var(--fill-color);\n",
              "    }\n",
              "    90% {\n",
              "      border-color: transparent;\n",
              "      border-bottom-color: var(--fill-color);\n",
              "    }\n",
              "  }\n",
              "</style>\n",
              "\n",
              "  <script>\n",
              "    async function quickchart(key) {\n",
              "      const quickchartButtonEl =\n",
              "        document.querySelector('#' + key + ' button');\n",
              "      quickchartButtonEl.disabled = true;  // To prevent multiple clicks.\n",
              "      quickchartButtonEl.classList.add('colab-df-spinner');\n",
              "      try {\n",
              "        const charts = await google.colab.kernel.invokeFunction(\n",
              "            'suggestCharts', [key], {});\n",
              "      } catch (error) {\n",
              "        console.error('Error during call to suggestCharts:', error);\n",
              "      }\n",
              "      quickchartButtonEl.classList.remove('colab-df-spinner');\n",
              "      quickchartButtonEl.classList.add('colab-df-quickchart-complete');\n",
              "    }\n",
              "    (() => {\n",
              "      let quickchartButtonEl =\n",
              "        document.querySelector('#df-ab9ba72c-48a6-4646-9044-7c60388449ea button');\n",
              "      quickchartButtonEl.style.display =\n",
              "        google.colab.kernel.accessAllowed ? 'block' : 'none';\n",
              "    })();\n",
              "  </script>\n",
              "</div>\n",
              "\n",
              "    </div>\n",
              "  </div>\n"
            ],
            "application/vnd.google.colaboratory.intrinsic+json": {
              "type": "dataframe",
              "variable_name": "df"
            }
          },
          "metadata": {},
          "execution_count": 5
        }
      ]
    },
    {
      "cell_type": "code",
      "source": [
        "# Decide on cluster size using the Elbow method -> up to 60 clusters\n",
        "# Ensure the sample size is at least 2 times the number of clusters\n",
        "cluster_range = range(40000, 90001, 10000)\n",
        "WCSS = []\n",
        "\n",
        "# Calculate the within-cluster sum of squares for each number of clusters\n",
        "for k in cluster_range:\n",
        "    if k <= len(df) // 2:\n",
        "        kmeans = KMeans(n_clusters=k, random_state=42)\n",
        "        kmeans.fit(df)\n",
        "        WCSS.append(kmeans.inertia_)\n",
        "\n",
        "# Plot the results to find the elbow point\n",
        "plt.figure(figsize=(15, 6))\n",
        "plt.plot(cluster_range, WCSS, marker='o')\n",
        "plt.grid(axis='y', linewidth=0.5)\n",
        "plt.title('Elbow Method For Optimal k')\n",
        "plt.xlabel('Number of clusters')\n",
        "plt.ylabel('WCSS')\n",
        "plt.axvline(x=80000, color='r', linestyle='--')  # Highlight 70000 clusters\n",
        "plt.show()"
      ],
      "metadata": {
        "id": "adOJVq9ApPqS",
        "outputId": "09693718-f244-44f8-e5a0-99f0f60c0c33",
        "colab": {
          "base_uri": "https://localhost:8080/",
          "height": 356
        }
      },
      "execution_count": 6,
      "outputs": [
        {
          "output_type": "error",
          "ename": "KeyboardInterrupt",
          "evalue": "",
          "traceback": [
            "\u001b[0;31m---------------------------------------------------------------------------\u001b[0m",
            "\u001b[0;31mKeyboardInterrupt\u001b[0m                         Traceback (most recent call last)",
            "\u001b[0;32m<ipython-input-6-ff89ff86aedd>\u001b[0m in \u001b[0;36m<cell line: 7>\u001b[0;34m()\u001b[0m\n\u001b[1;32m      8\u001b[0m     \u001b[0;32mif\u001b[0m \u001b[0mk\u001b[0m \u001b[0;34m<=\u001b[0m \u001b[0mlen\u001b[0m\u001b[0;34m(\u001b[0m\u001b[0mdf\u001b[0m\u001b[0;34m)\u001b[0m \u001b[0;34m//\u001b[0m \u001b[0;36m2\u001b[0m\u001b[0;34m:\u001b[0m\u001b[0;34m\u001b[0m\u001b[0;34m\u001b[0m\u001b[0m\n\u001b[1;32m      9\u001b[0m         \u001b[0mkmeans\u001b[0m \u001b[0;34m=\u001b[0m \u001b[0mKMeans\u001b[0m\u001b[0;34m(\u001b[0m\u001b[0mn_clusters\u001b[0m\u001b[0;34m=\u001b[0m\u001b[0mk\u001b[0m\u001b[0;34m,\u001b[0m \u001b[0mrandom_state\u001b[0m\u001b[0;34m=\u001b[0m\u001b[0;36m42\u001b[0m\u001b[0;34m)\u001b[0m\u001b[0;34m\u001b[0m\u001b[0;34m\u001b[0m\u001b[0m\n\u001b[0;32m---> 10\u001b[0;31m         \u001b[0mkmeans\u001b[0m\u001b[0;34m.\u001b[0m\u001b[0mfit\u001b[0m\u001b[0;34m(\u001b[0m\u001b[0mdf\u001b[0m\u001b[0;34m)\u001b[0m\u001b[0;34m\u001b[0m\u001b[0;34m\u001b[0m\u001b[0m\n\u001b[0m\u001b[1;32m     11\u001b[0m         \u001b[0mWCSS\u001b[0m\u001b[0;34m.\u001b[0m\u001b[0mappend\u001b[0m\u001b[0;34m(\u001b[0m\u001b[0mkmeans\u001b[0m\u001b[0;34m.\u001b[0m\u001b[0minertia_\u001b[0m\u001b[0;34m)\u001b[0m\u001b[0;34m\u001b[0m\u001b[0;34m\u001b[0m\u001b[0m\n\u001b[1;32m     12\u001b[0m \u001b[0;34m\u001b[0m\u001b[0m\n",
            "\u001b[0;32m/usr/local/lib/python3.10/dist-packages/sklearn/base.py\u001b[0m in \u001b[0;36mwrapper\u001b[0;34m(estimator, *args, **kwargs)\u001b[0m\n\u001b[1;32m   1471\u001b[0m                 )\n\u001b[1;32m   1472\u001b[0m             ):\n\u001b[0;32m-> 1473\u001b[0;31m                 \u001b[0;32mreturn\u001b[0m \u001b[0mfit_method\u001b[0m\u001b[0;34m(\u001b[0m\u001b[0mestimator\u001b[0m\u001b[0;34m,\u001b[0m \u001b[0;34m*\u001b[0m\u001b[0margs\u001b[0m\u001b[0;34m,\u001b[0m \u001b[0;34m**\u001b[0m\u001b[0mkwargs\u001b[0m\u001b[0;34m)\u001b[0m\u001b[0;34m\u001b[0m\u001b[0;34m\u001b[0m\u001b[0m\n\u001b[0m\u001b[1;32m   1474\u001b[0m \u001b[0;34m\u001b[0m\u001b[0m\n\u001b[1;32m   1475\u001b[0m         \u001b[0;32mreturn\u001b[0m \u001b[0mwrapper\u001b[0m\u001b[0;34m\u001b[0m\u001b[0;34m\u001b[0m\u001b[0m\n",
            "\u001b[0;32m/usr/local/lib/python3.10/dist-packages/sklearn/cluster/_kmeans.py\u001b[0m in \u001b[0;36mfit\u001b[0;34m(self, X, y, sample_weight)\u001b[0m\n\u001b[1;32m   1506\u001b[0m         \u001b[0;32mfor\u001b[0m \u001b[0mi\u001b[0m \u001b[0;32min\u001b[0m \u001b[0mrange\u001b[0m\u001b[0;34m(\u001b[0m\u001b[0mself\u001b[0m\u001b[0;34m.\u001b[0m\u001b[0m_n_init\u001b[0m\u001b[0;34m)\u001b[0m\u001b[0;34m:\u001b[0m\u001b[0;34m\u001b[0m\u001b[0;34m\u001b[0m\u001b[0m\n\u001b[1;32m   1507\u001b[0m             \u001b[0;31m# Initialize centers\u001b[0m\u001b[0;34m\u001b[0m\u001b[0;34m\u001b[0m\u001b[0m\n\u001b[0;32m-> 1508\u001b[0;31m             centers_init = self._init_centroids(\n\u001b[0m\u001b[1;32m   1509\u001b[0m                 \u001b[0mX\u001b[0m\u001b[0;34m,\u001b[0m\u001b[0;34m\u001b[0m\u001b[0;34m\u001b[0m\u001b[0m\n\u001b[1;32m   1510\u001b[0m                 \u001b[0mx_squared_norms\u001b[0m\u001b[0;34m=\u001b[0m\u001b[0mx_squared_norms\u001b[0m\u001b[0;34m,\u001b[0m\u001b[0;34m\u001b[0m\u001b[0;34m\u001b[0m\u001b[0m\n",
            "\u001b[0;32m/usr/local/lib/python3.10/dist-packages/sklearn/cluster/_kmeans.py\u001b[0m in \u001b[0;36m_init_centroids\u001b[0;34m(self, X, x_squared_norms, init, random_state, sample_weight, init_size, n_centroids)\u001b[0m\n\u001b[1;32m   1018\u001b[0m \u001b[0;34m\u001b[0m\u001b[0m\n\u001b[1;32m   1019\u001b[0m         \u001b[0;32mif\u001b[0m \u001b[0misinstance\u001b[0m\u001b[0;34m(\u001b[0m\u001b[0minit\u001b[0m\u001b[0;34m,\u001b[0m \u001b[0mstr\u001b[0m\u001b[0;34m)\u001b[0m \u001b[0;32mand\u001b[0m \u001b[0minit\u001b[0m \u001b[0;34m==\u001b[0m \u001b[0;34m\"k-means++\"\u001b[0m\u001b[0;34m:\u001b[0m\u001b[0;34m\u001b[0m\u001b[0;34m\u001b[0m\u001b[0m\n\u001b[0;32m-> 1020\u001b[0;31m             centers, _ = _kmeans_plusplus(\n\u001b[0m\u001b[1;32m   1021\u001b[0m                 \u001b[0mX\u001b[0m\u001b[0;34m,\u001b[0m\u001b[0;34m\u001b[0m\u001b[0;34m\u001b[0m\u001b[0m\n\u001b[1;32m   1022\u001b[0m                 \u001b[0mn_clusters\u001b[0m\u001b[0;34m,\u001b[0m\u001b[0;34m\u001b[0m\u001b[0;34m\u001b[0m\u001b[0m\n",
            "\u001b[0;32m/usr/local/lib/python3.10/dist-packages/sklearn/cluster/_kmeans.py\u001b[0m in \u001b[0;36m_kmeans_plusplus\u001b[0;34m(X, n_clusters, x_squared_norms, sample_weight, random_state, n_local_trials)\u001b[0m\n\u001b[1;32m    271\u001b[0m \u001b[0;34m\u001b[0m\u001b[0m\n\u001b[1;32m    272\u001b[0m         \u001b[0;31m# Permanently add best center candidate found in local tries\u001b[0m\u001b[0;34m\u001b[0m\u001b[0;34m\u001b[0m\u001b[0m\n\u001b[0;32m--> 273\u001b[0;31m         \u001b[0;32mif\u001b[0m \u001b[0msp\u001b[0m\u001b[0;34m.\u001b[0m\u001b[0missparse\u001b[0m\u001b[0;34m(\u001b[0m\u001b[0mX\u001b[0m\u001b[0;34m)\u001b[0m\u001b[0;34m:\u001b[0m\u001b[0;34m\u001b[0m\u001b[0;34m\u001b[0m\u001b[0m\n\u001b[0m\u001b[1;32m    274\u001b[0m             \u001b[0mcenters\u001b[0m\u001b[0;34m[\u001b[0m\u001b[0mc\u001b[0m\u001b[0;34m]\u001b[0m \u001b[0;34m=\u001b[0m \u001b[0mX\u001b[0m\u001b[0;34m[\u001b[0m\u001b[0;34m[\u001b[0m\u001b[0mbest_candidate\u001b[0m\u001b[0;34m]\u001b[0m\u001b[0;34m]\u001b[0m\u001b[0;34m.\u001b[0m\u001b[0mtoarray\u001b[0m\u001b[0;34m(\u001b[0m\u001b[0;34m)\u001b[0m\u001b[0;34m\u001b[0m\u001b[0;34m\u001b[0m\u001b[0m\n\u001b[1;32m    275\u001b[0m         \u001b[0;32melse\u001b[0m\u001b[0;34m:\u001b[0m\u001b[0;34m\u001b[0m\u001b[0;34m\u001b[0m\u001b[0m\n",
            "\u001b[0;32m/usr/local/lib/python3.10/dist-packages/scipy/sparse/_base.py\u001b[0m in \u001b[0;36missparse\u001b[0;34m(x)\u001b[0m\n\u001b[1;32m   1511\u001b[0m \u001b[0;34m\u001b[0m\u001b[0m\n\u001b[1;32m   1512\u001b[0m \u001b[0;34m\u001b[0m\u001b[0m\n\u001b[0;32m-> 1513\u001b[0;31m \u001b[0;32mdef\u001b[0m \u001b[0missparse\u001b[0m\u001b[0;34m(\u001b[0m\u001b[0mx\u001b[0m\u001b[0;34m)\u001b[0m\u001b[0;34m:\u001b[0m\u001b[0;34m\u001b[0m\u001b[0;34m\u001b[0m\u001b[0m\n\u001b[0m\u001b[1;32m   1514\u001b[0m     \"\"\"Is `x` of a sparse array or sparse matrix type?\n\u001b[1;32m   1515\u001b[0m \u001b[0;34m\u001b[0m\u001b[0m\n",
            "\u001b[0;31mKeyboardInterrupt\u001b[0m: "
          ]
        }
      ]
    },
    {
      "cell_type": "code",
      "source": [
        "# df_final_K-Means_clustering4 -> 80 k\n",
        "# Determine Silhouette score for optimal k\n",
        "optimal_k = 80000\n",
        "\n",
        "# Create and fit the KMeans model\n",
        "kmeans = KMeans(n_clusters=optimal_k, random_state=42)\n",
        "kmeans.fit(df)\n",
        "\n",
        "# Assign cluster labels\n",
        "labels = kmeans.labels_\n",
        "df['Cluster'] = labels\n",
        "\n",
        "# Calculate silhouette score\n",
        "silhouette_avg = silhouette_score(df, labels)\n",
        "\n",
        "print(f'Silhouette Score for {optimal_k} clusters: {silhouette_avg}')\n",
        "\n",
        "# Assign cluster labels to df_final (not normalized, as input for RF and GB)\n",
        "df_final['Cluster'] = df['Cluster']\n",
        "df_final.to_csv('/content/drive/My Drive/Thesis/Data/df_final_K-Means_clustering4.csv', index=False)"
      ],
      "metadata": {
        "id": "d9r7WfTiSKqz",
        "colab": {
          "base_uri": "https://localhost:8080/"
        },
        "outputId": "5a43826e-f2c3-4696-c10b-d6bbe599d07d"
      },
      "execution_count": null,
      "outputs": [
        {
          "output_type": "stream",
          "name": "stdout",
          "text": [
            "Silhouette Score for 80000 clusters: 0.7918929406970499\n"
          ]
        }
      ]
    },
    {
      "cell_type": "markdown",
      "source": [
        "# OLD CODE"
      ],
      "metadata": {
        "id": "HY4g48M0jtGu"
      }
    },
    {
      "cell_type": "code",
      "source": [
        "# Decide on cluster size using the Elbow method\n",
        "\n",
        "# Range of clusters to evaluate\n",
        "cluster_range = range(1, 1000, 20)\n",
        "inertia = []\n",
        "\n",
        "# Calculate the within-cluster sum of squares for each number of clusters\n",
        "for k in cluster_range:\n",
        "    kmeans = KMeans(n_clusters=k, random_state=42)\n",
        "    kmeans.fit(df)\n",
        "    inertia.append(kmeans.inertia_)\n",
        "\n",
        "# Plot the results to find the elbow point\n",
        "plt.figure(figsize=(12, 6))\n",
        "plt.plot(cluster_range, inertia, marker='o')\n",
        "plt.title('Elbow Method For Optimal k')\n",
        "plt.xlabel('Number of clusters')\n",
        "plt.ylabel('Inertia')\n",
        "plt.show()"
      ],
      "metadata": {
        "colab": {
          "base_uri": "https://localhost:8080/",
          "height": 564
        },
        "id": "ycnSXU9ZQZ8o",
        "outputId": "fbd54bbe-dfc7-4854-8df4-a11632e0bd3e"
      },
      "execution_count": null,
      "outputs": [
        {
          "output_type": "display_data",
          "data": {
            "text/plain": [
              "<Figure size 1200x600 with 1 Axes>"
            ],
            "image/png": "[encoded data removed]"
          },
          "metadata": {}
        }
      ]
    },
    {
      "cell_type": "code",
      "source": [
        "# df_final_K-Means_clustering2 -> 50K\n",
        "# Determine Silhouette score for optimal k\n",
        "optimal_k = 50000\n",
        "\n",
        "# Create and fit the KMeans model\n",
        "kmeans = KMeans(n_clusters=optimal_k, random_state=42)\n",
        "kmeans.fit(df)\n",
        "\n",
        "# Assign cluster labels to df_final (not normalized, as input for\n",
        "# supervised learning)\n",
        "labels = kmeans.labels_\n",
        "df['cluster'] = labels\n",
        "\n",
        "# Calculate silhouette score\n",
        "silhouette_avg = silhouette_score(df, labels)\n",
        "\n",
        "print(f'Silhouette Score for {optimal_k} clusters: {silhouette_avg}')\n",
        "\n",
        "df_final['Cluster'] = df['cluster']\n",
        "df_final.to_csv('/content/drive/My Drive/Thesis/Data/df_final_K-Means_clustering2.csv', index=False)"
      ],
      "metadata": {
        "id": "Gy38gftsWbA7",
        "colab": {
          "base_uri": "https://localhost:8080/"
        },
        "outputId": "20539f7f-16ea-4ca4-f1fa-a61a92fb5503"
      },
      "execution_count": null,
      "outputs": [
        {
          "output_type": "stream",
          "name": "stdout",
          "text": [
            "Silhouette Score for 50000 clusters: 0.7780499291216083\n"
          ]
        }
      ]
    },
    {
      "cell_type": "code",
      "source": [
        "# df_final_K-Means_clustering3 -> 55 k\n",
        "# Determine Silhouette score for optimal k\n",
        "optimal_k = 55000\n",
        "\n",
        "# Create and fit the KMeans model\n",
        "kmeans = KMeans(n_clusters=optimal_k, random_state=42)\n",
        "kmeans.fit(df)\n",
        "\n",
        "# Assign cluster labels to df_final (not normalized, as input for\n",
        "# supervised learning)\n",
        "labels = kmeans.labels_\n",
        "df['cluster'] = labels\n",
        "\n",
        "# Calculate silhouette score\n",
        "silhouette_avg = silhouette_score(df, labels)\n",
        "\n",
        "print(f'Silhouette Score for {optimal_k} clusters: {silhouette_avg}')\n",
        "\n",
        "df_final['Cluster'] = df['cluster']\n",
        "df_final.to_csv('/content/drive/My Drive/Thesis/Data/df_final_K-Means_clustering3.csv', index=False)"
      ],
      "metadata": {
        "colab": {
          "base_uri": "https://localhost:8080/"
        },
        "id": "8IFOLej5ZnL9",
        "outputId": "097be4ab-6028-403b-d359-d030127340bf"
      },
      "execution_count": null,
      "outputs": [
        {
          "output_type": "stream",
          "name": "stdout",
          "text": [
            "Silhouette Score for 55000 clusters: 0.7828517946700235\n"
          ]
        }
      ]
    },
    {
      "cell_type": "code",
      "source": [
        "# Sample df for improved efficiency\n",
        "sample_fraction = 0.5\n",
        "df_sampled = shuffle(df).sample(frac=sample_fraction, random_state=42)\n",
        "\n",
        "# Decide on cluster size using the Elbow method -> up to 60 clusters\n",
        "# Ensure the sample size is at least 2 times the number of clusters\n",
        "cluster_range = range(40000, 90001, 10000)\n",
        "WCSS = []\n",
        "\n",
        "# Calculate the within-cluster sum of squares for each number of clusters\n",
        "for k in cluster_range:\n",
        "    if k <= len(df_sampled) // 2:\n",
        "        kmeans = KMeans(n_clusters=k, random_state=42)\n",
        "        kmeans.fit(df_sampled)\n",
        "        WCSS.append(kmeans.inertia_)\n",
        "\n",
        "# Plot the results to find the elbow point\n",
        "plt.figure(figsize=(15, 6))\n",
        "plt.plot(cluster_range, WCSS, marker='o')\n",
        "plt.grid(axis='y', linewidth=0.5)\n",
        "plt.title('Elbow Method For Optimal k')\n",
        "plt.xlabel('Number of clusters')\n",
        "plt.ylabel('WCSS')\n",
        "plt.axvline(x=70000, color='r', linestyle='--')  # Highlight 70000 clusters\n",
        "plt.show()"
      ],
      "metadata": {
        "colab": {
          "base_uri": "https://localhost:8080/",
          "height": 564
        },
        "id": "gduysj6TobeF",
        "outputId": "dc01063e-0429-4f9c-99af-5dcd227d467e"
      },
      "execution_count": null,
      "outputs": [
        {
          "output_type": "display_data",
          "data": {
            "text/plain": [
              "<Figure size 1500x600 with 1 Axes>"
            ],
            "image/png": "[encoded data removed]"
          },
          "metadata": {}
        }
      ]
    },
    {
      "cell_type": "code",
      "source": [
        "# df_final_K-Means_clustering5 -> 70 k\n",
        "# Determine Silhouette score for optimal k\n",
        "optimal_k = 70000\n",
        "\n",
        "# Create and fit the KMeans model\n",
        "kmeans = KMeans(n_clusters=optimal_k, random_state=42)\n",
        "kmeans.fit(df)\n",
        "\n",
        "# Assign cluster labels\n",
        "labels = kmeans.labels_\n",
        "df['Cluster'] = labels\n",
        "\n",
        "# Calculate silhouette score\n",
        "silhouette_avg = silhouette_score(df, labels)\n",
        "\n",
        "print(f'Silhouette Score for {optimal_k} clusters: {silhouette_avg}')\n",
        "\n",
        "# Assign cluster labels to df_final (not normalized, as input for RF and GB)\n",
        "df_final['Cluster'] = df['Cluster']\n",
        "df_final.to_csv('/content/drive/My Drive/Thesis/Data/df_final_K-Means_clustering5.csv', index=False)"
      ],
      "metadata": {
        "colab": {
          "base_uri": "https://localhost:8080/"
        },
        "id": "5Ew5iDCPoyIh",
        "outputId": "668ad3fd-2e96-4024-b0a0-f04b0289e5d0"
      },
      "execution_count": null,
      "outputs": [
        {
          "output_type": "stream",
          "name": "stdout",
          "text": [
            "Silhouette Score for 70000 clusters: 0.7756139486340581\n"
          ]
        }
      ]
    },
    {
      "cell_type": "code",
      "source": [
        "# Decide on cluster size using the Elbow method -> up to 60 clusters\n",
        "# Ensure the sample size is at least 2 times the number of clusters\n",
        "cluster_range = range(40000, 90001, 10000)\n",
        "WCSS = []\n",
        "\n",
        "# Calculate the within-cluster sum of squares for each number of clusters\n",
        "for k in cluster_range:\n",
        "    if k <= len(df) // 2:\n",
        "        kmeans = KMeans(n_clusters=k, random_state=42)\n",
        "        kmeans.fit(df)\n",
        "        WCSS.append(kmeans.inertia_)\n",
        "\n",
        "# Plot the results to find the elbow point\n",
        "plt.figure(figsize=(15, 6))\n",
        "plt.plot(cluster_range, WCSS, marker='o')\n",
        "plt.grid(axis='y', linewidth=0.5)\n",
        "plt.title('Elbow Method For Optimal k')\n",
        "plt.xlabel('Number of clusters')\n",
        "plt.ylabel('WCSS')\n",
        "plt.axvline(x=70000, color='r', linestyle='--')  # Highlight 70000 clusters\n",
        "plt.show()"
      ],
      "metadata": {
        "id": "S_GDqWfPk8bQ",
        "outputId": "6a0f42e1-0cab-432f-846c-796c91eb951e",
        "colab": {
          "base_uri": "https://localhost:8080/",
          "height": 564
        }
      },
      "execution_count": null,
      "outputs": [
        {
          "output_type": "display_data",
          "data": {
            "text/plain": [
              "<Figure size 1500x600 with 1 Axes>"
            ],
            "image/png": "[encoded data removed]"
          },
          "metadata": {}
        }
      ]
    }
  ]
}