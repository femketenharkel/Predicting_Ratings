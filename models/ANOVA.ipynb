{
  "nbformat": 4,
  "nbformat_minor": 0,
  "metadata": {
    "colab": {
      "provenance": [],
      "authorship_tag": "ABX9TyMR5iSWhz7gTcjljgKsX/NP",
      "include_colab_link": true
    },
    "kernelspec": {
      "name": "python3",
      "display_name": "Python 3"
    },
    "language_info": {
      "name": "python"
    }
  },
  "cells": [
    {
      "cell_type": "markdown",
      "metadata": {
        "id": "view-in-github",
        "colab_type": "text"
      },
      "source": [
        "<a href=\"https://colab.research.google.com/github/femketenharkel/Predicting_Ratings/blob/main/models/ANOVA.ipynb\" target=\"_parent\"><img src=\"https://colab.research.google.com/assets/colab-badge.svg\" alt=\"Open In Colab\"/></a>"
      ]
    },
    {
      "cell_type": "markdown",
      "source": [
        "# ANOVA"
      ],
      "metadata": {
        "id": "plzeGp-_XwNJ"
      }
    },
    {
      "cell_type": "code",
      "source": [
        "pip install pandas statsmodels scipy"
      ],
      "metadata": {
        "colab": {
          "base_uri": "https://localhost:8080/"
        },
        "id": "31nlgVHjY7v5",
        "outputId": "4402c360-3c79-43dc-a708-9f861e7ab17e"
      },
      "execution_count": 5,
      "outputs": [
        {
          "output_type": "stream",
          "name": "stdout",
          "text": [
            "Requirement already satisfied: pandas in /usr/local/lib/python3.10/dist-packages (2.2.2)\n",
            "Requirement already satisfied: statsmodels in /usr/local/lib/python3.10/dist-packages (0.14.4)\n",
            "Requirement already satisfied: scipy in /usr/local/lib/python3.10/dist-packages (1.13.1)\n",
            "Requirement already satisfied: numpy>=1.22.4 in /usr/local/lib/python3.10/dist-packages (from pandas) (1.26.4)\n",
            "Requirement already satisfied: python-dateutil>=2.8.2 in /usr/local/lib/python3.10/dist-packages (from pandas) (2.8.2)\n",
            "Requirement already satisfied: pytz>=2020.1 in /usr/local/lib/python3.10/dist-packages (from pandas) (2024.2)\n",
            "Requirement already satisfied: tzdata>=2022.7 in /usr/local/lib/python3.10/dist-packages (from pandas) (2024.2)\n",
            "Requirement already satisfied: patsy>=0.5.6 in /usr/local/lib/python3.10/dist-packages (from statsmodels) (1.0.1)\n",
            "Requirement already satisfied: packaging>=21.3 in /usr/local/lib/python3.10/dist-packages (from statsmodels) (24.2)\n",
            "Requirement already satisfied: six>=1.5 in /usr/local/lib/python3.10/dist-packages (from python-dateutil>=2.8.2->pandas) (1.16.0)\n"
          ]
        }
      ]
    },
    {
      "cell_type": "code",
      "execution_count": 6,
      "metadata": {
        "id": "CNopgTDdXvOp"
      },
      "outputs": [],
      "source": [
        "import pandas as pd\n",
        "\n",
        "# Example data\n",
        "data = {\n",
        "    'Model': ['Baseline_RF', 'K-Means_RF', 'Hierarchical_RF', 'DBSCAN_RF',\n",
        "              'Baseline_XGBoost', 'K_Means_XGBoost', 'Hierarchical_XGBoost', 'DBSCAN_XGBoost'],\n",
        "    'Accuracy': [0.41, 0.41, 0.41, 0.41, 0.44, 0.44, 0.44, 0.44],\n",
        "    'Precision': [0.41, 0.41, 0.40, 0.41, 0.44, 0.44, 0.44, 0.44],\n",
        "    'Recall': [0.41, 0.41, 0.41, 0.41, 0.44, 0.44, 0.44, 0.44],\n",
        "    'F-1_Score': [0.41, 0.41, 0.41, 0.41, 0.43, 0.43, 0.43, 0.43]\n",
        "}\n",
        "df = pd.DataFrame(data)"
      ]
    },
    {
      "cell_type": "code",
      "source": [
        "import pandas as pd\n",
        "\n",
        "# Example data\n",
        "data = {\n",
        "    'Model': ['RandomForest', 'RandomForest', 'RandomForest', 'RandomForest',\n",
        "              'XGBoost', 'XGBoost', 'XGBoost', 'XGBoost'],\n",
        "    'Accuracy': [0.41, 0.41, 0.41, 0.41, 0.44, 0.44, 0.44, 0.44],\n",
        "    'Precision': [0.41, 0.41, 0.40, 0.41, 0.44, 0.44, 0.44, 0.44],\n",
        "    'Recall': [0.41, 0.41, 0.41, 0.41, 0.44, 0.44, 0.44, 0.44],\n",
        "    'F-1_Score': [0.41, 0.41, 0.41, 0.41, 0.43, 0.43, 0.43, 0.43]\n",
        "}\n",
        "df = pd.DataFrame(data)"
      ],
      "metadata": {
        "id": "CqURN18QZDta"
      },
      "execution_count": 9,
      "outputs": []
    },
    {
      "cell_type": "code",
      "source": [
        "import statsmodels.api as sm\n",
        "from statsmodels.formula.api import ols\n",
        "\n",
        "# Fit the model\n",
        "model = ols('Accuracy ~ C(Model)', data=df).fit()\n",
        "\n",
        "# Perform ANOVA\n",
        "anova_table = sm.stats.anova_lm(model, typ=2)\n",
        "print(anova_table)"
      ],
      "metadata": {
        "colab": {
          "base_uri": "https://localhost:8080/"
        },
        "id": "Cl4yfPhaaZ-Q",
        "outputId": "5493e75b-53cf-4196-e7ba-8264bec607fd"
      },
      "execution_count": 10,
      "outputs": [
        {
          "output_type": "stream",
          "name": "stdout",
          "text": [
            "                sum_sq   df             F        PR(>F)\n",
            "C(Model)  1.800000e-03  1.0  8.762001e+29  1.003446e-88\n",
            "Residual  1.232595e-32  6.0           NaN           NaN\n"
          ]
        }
      ]
    },
    {
      "cell_type": "code",
      "source": [
        "from statsmodels.stats.multicomp import pairwise_tukeyhsd\n",
        "\n",
        "# Perform Tukey's HSD test\n",
        "tukey = pairwise_tukeyhsd(endog=df['Accuracy'], groups=df['Model'], alpha=0.05)\n",
        "print(tukey)"
      ],
      "metadata": {
        "colab": {
          "base_uri": "https://localhost:8080/"
        },
        "id": "65i1gj9sa2ol",
        "outputId": "2d9ec841-9462-4945-a744-73744e96b735"
      },
      "execution_count": 11,
      "outputs": [
        {
          "output_type": "stream",
          "name": "stderr",
          "text": [
            "/usr/local/lib/python3.10/dist-packages/statsmodels/sandbox/stats/multicomp.py:1300: RuntimeWarning: divide by zero encountered in divide\n",
            "  st_range = np.abs(meandiffs) / std_pairs #studentized range statistic\n"
          ]
        },
        {
          "output_type": "stream",
          "name": "stdout",
          "text": [
            " Multiple Comparison of Means - Tukey HSD, FWER=0.05  \n",
            "======================================================\n",
            "   group1     group2 meandiff p-adj lower upper reject\n",
            "------------------------------------------------------\n",
            "RandomForest XGBoost     0.03   0.0  0.03  0.03   True\n",
            "------------------------------------------------------\n"
          ]
        }
      ]
    }
  ]
}