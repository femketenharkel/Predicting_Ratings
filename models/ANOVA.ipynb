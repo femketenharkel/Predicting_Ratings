{
  "nbformat": 4,
  "nbformat_minor": 0,
  "metadata": {
    "colab": {
      "provenance": [],
      "authorship_tag": "ABX9TyMUpBzBK2+5W9CY5VvqyFZw",
      "include_colab_link": true
    },
    "kernelspec": {
      "name": "python3",
      "display_name": "Python 3"
    },
    "language_info": {
      "name": "python"
    }
  },
  "cells": [
    {
      "cell_type": "markdown",
      "metadata": {
        "id": "view-in-github",
        "colab_type": "text"
      },
      "source": [
        "<a href=\"https://colab.research.google.com/github/femketenharkel/Predicting_Ratings/blob/main/models/ANOVA.ipynb\" target=\"_parent\"><img src=\"https://colab.research.google.com/assets/colab-badge.svg\" alt=\"Open In Colab\"/></a>"
      ]
    },
    {
      "cell_type": "markdown",
      "source": [
        "# ANOVA"
      ],
      "metadata": {
        "id": "plzeGp-_XwNJ"
      }
    },
    {
      "cell_type": "code",
      "source": [
        "pip install pandas statsmodels scipy"
      ],
      "metadata": {
        "colab": {
          "base_uri": "https://localhost:8080/"
        },
        "id": "31nlgVHjY7v5",
        "outputId": "4402c360-3c79-43dc-a708-9f861e7ab17e"
      },
      "execution_count": 5,
      "outputs": [
        {
          "output_type": "stream",
          "name": "stdout",
          "text": [
            "Requirement already satisfied: pandas in /usr/local/lib/python3.10/dist-packages (2.2.2)\n",
            "Requirement already satisfied: statsmodels in /usr/local/lib/python3.10/dist-packages (0.14.4)\n",
            "Requirement already satisfied: scipy in /usr/local/lib/python3.10/dist-packages (1.13.1)\n",
            "Requirement already satisfied: numpy>=1.22.4 in /usr/local/lib/python3.10/dist-packages (from pandas) (1.26.4)\n",
            "Requirement already satisfied: python-dateutil>=2.8.2 in /usr/local/lib/python3.10/dist-packages (from pandas) (2.8.2)\n",
            "Requirement already satisfied: pytz>=2020.1 in /usr/local/lib/python3.10/dist-packages (from pandas) (2024.2)\n",
            "Requirement already satisfied: tzdata>=2022.7 in /usr/local/lib/python3.10/dist-packages (from pandas) (2024.2)\n",
            "Requirement already satisfied: patsy>=0.5.6 in /usr/local/lib/python3.10/dist-packages (from statsmodels) (1.0.1)\n",
            "Requirement already satisfied: packaging>=21.3 in /usr/local/lib/python3.10/dist-packages (from statsmodels) (24.2)\n",
            "Requirement already satisfied: six>=1.5 in /usr/local/lib/python3.10/dist-packages (from python-dateutil>=2.8.2->pandas) (1.16.0)\n"
          ]
        }
      ]
    },
    {
      "cell_type": "code",
      "source": [
        "import pandas as pd\n",
        "\n",
        "# Example data\n",
        "data = {\n",
        "    'Model': ['RandomForest', 'RandomForest', 'RandomForest', 'RandomForest',\n",
        "              'XGBoost', 'XGBoost', 'XGBoost', 'XGBoost'],\n",
        "    'Accuracy': [0.41, 0.41, 0.41, 0.41, 0.44, 0.44, 0.44, 0.44],\n",
        "    'Precision': [0.41, 0.41, 0.40, 0.41, 0.44, 0.44, 0.44, 0.44],\n",
        "    'Recall': [0.41, 0.41, 0.41, 0.41, 0.44, 0.44, 0.44, 0.44],\n",
        "    'F-1_Score': [0.41, 0.41, 0.41, 0.41, 0.43, 0.43, 0.43, 0.43]\n",
        "}\n",
        "df = pd.DataFrame(data)"
      ],
      "metadata": {
        "id": "CqURN18QZDta"
      },
      "execution_count": 9,
      "outputs": []
    },
    {
      "cell_type": "code",
      "source": [
        "import statsmodels.api as sm\n",
        "from statsmodels.formula.api import ols\n",
        "\n",
        "# Fit the model\n",
        "model = ols('Accuracy ~ C(Model)', data=df).fit()\n",
        "\n",
        "# Perform ANOVA\n",
        "anova_table = sm.stats.anova_lm(model, typ=2)\n",
        "print(anova_table)"
      ],
      "metadata": {
        "colab": {
          "base_uri": "https://localhost:8080/"
        },
        "id": "Cl4yfPhaaZ-Q",
        "outputId": "5493e75b-53cf-4196-e7ba-8264bec607fd"
      },
      "execution_count": 10,
      "outputs": [
        {
          "output_type": "stream",
          "name": "stdout",
          "text": [
            "                sum_sq   df             F        PR(>F)\n",
            "C(Model)  1.800000e-03  1.0  8.762001e+29  1.003446e-88\n",
            "Residual  1.232595e-32  6.0           NaN           NaN\n"
          ]
        }
      ]
    },
    {
      "cell_type": "code",
      "source": [
        "from statsmodels.stats.multicomp import pairwise_tukeyhsd\n",
        "\n",
        "# Perform Tukey's HSD test\n",
        "tukey = pairwise_tukeyhsd(endog=df['Accuracy'], groups=df['Model'], alpha=0.05)\n",
        "print(tukey)"
      ],
      "metadata": {
        "colab": {
          "base_uri": "https://localhost:8080/"
        },
        "id": "65i1gj9sa2ol",
        "outputId": "2d9ec841-9462-4945-a744-73744e96b735"
      },
      "execution_count": 11,
      "outputs": [
        {
          "output_type": "stream",
          "name": "stderr",
          "text": [
            "/usr/local/lib/python3.10/dist-packages/statsmodels/sandbox/stats/multicomp.py:1300: RuntimeWarning: divide by zero encountered in divide\n",
            "  st_range = np.abs(meandiffs) / std_pairs #studentized range statistic\n"
          ]
        },
        {
          "output_type": "stream",
          "name": "stdout",
          "text": [
            " Multiple Comparison of Means - Tukey HSD, FWER=0.05  \n",
            "======================================================\n",
            "   group1     group2 meandiff p-adj lower upper reject\n",
            "------------------------------------------------------\n",
            "RandomForest XGBoost     0.03   0.0  0.03  0.03   True\n",
            "------------------------------------------------------\n"
          ]
        }
      ]
    },
    {
      "cell_type": "markdown",
      "source": [
        "# Full models"
      ],
      "metadata": {
        "id": "9m1cxI8OdPdU"
      }
    },
    {
      "cell_type": "code",
      "source": [
        "import pandas as pd\n",
        "import statsmodels.api as sm\n",
        "from statsmodels.formula.api import ols\n",
        "from statsmodels.stats.multicomp import pairwise_tukeyhsd\n",
        "\n",
        "# Example data\n",
        "data = {\n",
        "    'Model': ['Baseline', 'Clustering', 'Clustering', 'Clustering',\n",
        "              'Baseline', 'Clustering', 'Clustering', 'Clustering'],\n",
        "    'Accuracy': [0.41, 0.41, 0.41, 0.41, 0.44, 0.44, 0.44, 0.44],\n",
        "    'Precision': [0.41, 0.41, 0.40, 0.41, 0.44, 0.44, 0.44, 0.44],\n",
        "    'Recall': [0.41, 0.41, 0.41, 0.41, 0.44, 0.44, 0.44, 0.44],\n",
        "    'F_1_Score': [0.41, 0.41, 0.41, 0.41, 0.43, 0.43, 0.43, 0.43]\n",
        "}\n",
        "df = pd.DataFrame(data)\n",
        "\n",
        "# Perform ANOVA for Accuracy\n",
        "model_accuracy = ols('Accuracy ~ C(Model)', data=df).fit()\n",
        "anova_table_accuracy = sm.stats.anova_lm(model_accuracy, typ=2)\n",
        "print(\"ANOVA Table for Accuracy:\")\n",
        "print(anova_table_accuracy)\n",
        "\n",
        "# Perform Tukey's HSD test for Accuracy\n",
        "tukey_accuracy = pairwise_tukeyhsd(endog=df['Accuracy'], groups=df['Model'], alpha=0.05)\n",
        "print(\"\\nTukey's HSD Test for Accuracy:\")\n",
        "print(tukey_accuracy)\n",
        "\n",
        "# Perform ANOVA for Precision\n",
        "model_precision = ols('Precision ~ C(Model)', data=df).fit()\n",
        "anova_table_precision = sm.stats.anova_lm(model_precision, typ=2)\n",
        "print(\"\\nANOVA Table for Precision:\")\n",
        "print(anova_table_precision)\n",
        "\n",
        "# Perform Tukey's HSD test for Precision\n",
        "tukey_precision = pairwise_tukeyhsd(endog=df['Precision'], groups=df['Model'], alpha=0.05)\n",
        "print(\"\\nTukey's HSD Test for Precision:\")\n",
        "print(tukey_precision)\n",
        "\n",
        "# Perform ANOVA for Recall\n",
        "model_recall = ols('Recall ~ C(Model)', data=df).fit()\n",
        "anova_table_recall = sm.stats.anova_lm(model_recall, typ=2)\n",
        "print(\"\\nANOVA Table for Recall:\")\n",
        "print(anova_table_recall)\n",
        "\n",
        "# Perform Tukey's HSD test for Recall\n",
        "tukey_recall = pairwise_tukeyhsd(endog=df['Recall'], groups=df['Model'], alpha=0.05)\n",
        "print(\"\\nTukey's HSD Test for Recall:\")\n",
        "print(tukey_recall)\n",
        "\n",
        "# Perform ANOVA for F-1 Score\n",
        "model_f1_score = ols('F_1_Score ~ C(Model)', data=df).fit()\n",
        "anova_table_f1_score = sm.stats.anova_lm(model_f1_score, typ=2)\n",
        "print(\"\\nANOVA Table for F-1 Score:\")\n",
        "print(anova_table_f1_score)\n",
        "\n",
        "# Perform Tukey's HSD test for F-1 Score\n",
        "tukey_f1_score = pairwise_tukeyhsd(endog=df['F_1_Score'], groups=df['Model'], alpha=0.05)\n",
        "print(\"\\nTukey's HSD Test for F-1 Score:\")\n",
        "print(tukey_f1_score)"
      ],
      "metadata": {
        "colab": {
          "base_uri": "https://localhost:8080/"
        },
        "id": "Qqogg1wddMzm",
        "outputId": "a48429c8-9723-4dcf-8243-cc278aa2059b"
      },
      "execution_count": 14,
      "outputs": [
        {
          "output_type": "stream",
          "name": "stdout",
          "text": [
            "ANOVA Table for Accuracy:\n",
            "                sum_sq   df             F  PR(>F)\n",
            "C(Model)  1.848893e-32  1.0  6.162976e-29     1.0\n",
            "Residual  1.800000e-03  6.0           NaN     NaN\n",
            "\n",
            "Tukey's HSD Test for Accuracy:\n",
            "  Multiple Comparison of Means - Tukey HSD, FWER=0.05   \n",
            "========================================================\n",
            " group1    group2   meandiff p-adj  lower  upper  reject\n",
            "--------------------------------------------------------\n",
            "Baseline Clustering      0.0   1.0 -0.0346 0.0346  False\n",
            "--------------------------------------------------------\n",
            "\n",
            "ANOVA Table for Precision:\n",
            "            sum_sq   df        F    PR(>F)\n",
            "C(Model)  0.000004  1.0  0.01145  0.918272\n",
            "Residual  0.002183  6.0      NaN       NaN\n",
            "\n",
            "Tukey's HSD Test for Precision:\n",
            "   Multiple Comparison of Means - Tukey HSD, FWER=0.05   \n",
            "=========================================================\n",
            " group1    group2   meandiff p-adj   lower  upper  reject\n",
            "---------------------------------------------------------\n",
            "Baseline Clustering  -0.0017 0.9183 -0.0398 0.0364  False\n",
            "---------------------------------------------------------\n",
            "\n",
            "ANOVA Table for Recall:\n",
            "                sum_sq   df             F  PR(>F)\n",
            "C(Model)  1.848893e-32  1.0  6.162976e-29     1.0\n",
            "Residual  1.800000e-03  6.0           NaN     NaN\n",
            "\n",
            "Tukey's HSD Test for Recall:\n",
            "  Multiple Comparison of Means - Tukey HSD, FWER=0.05   \n",
            "========================================================\n",
            " group1    group2   meandiff p-adj  lower  upper  reject\n",
            "--------------------------------------------------------\n",
            "Baseline Clustering      0.0   1.0 -0.0346 0.0346  False\n",
            "--------------------------------------------------------\n",
            "\n",
            "ANOVA Table for F-1 Score:\n",
            "                sum_sq   df             F  PR(>F)\n",
            "C(Model)  4.160009e-32  1.0  3.120007e-28     1.0\n",
            "Residual  8.000000e-04  6.0           NaN     NaN\n",
            "\n",
            "Tukey's HSD Test for F-1 Score:\n",
            "  Multiple Comparison of Means - Tukey HSD, FWER=0.05   \n",
            "========================================================\n",
            " group1    group2   meandiff p-adj  lower  upper  reject\n",
            "--------------------------------------------------------\n",
            "Baseline Clustering      0.0   1.0 -0.0231 0.0231  False\n",
            "--------------------------------------------------------\n"
          ]
        }
      ]
    }
  ]
}