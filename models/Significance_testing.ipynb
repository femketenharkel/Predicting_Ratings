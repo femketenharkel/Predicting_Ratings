{
  "nbformat": 4,
  "nbformat_minor": 0,
  "metadata": {
    "colab": {
      "provenance": [],
      "authorship_tag": "ABX9TyN/2gUdmwE/3h0EIf9Of4rV",
      "include_colab_link": true
    },
    "kernelspec": {
      "name": "python3",
      "display_name": "Python 3"
    },
    "language_info": {
      "name": "python"
    }
  },
  "cells": [
    {
      "cell_type": "markdown",
      "metadata": {
        "id": "view-in-github",
        "colab_type": "text"
      },
      "source": [
        "<a href=\"https://colab.research.google.com/github/femketenharkel/Predicting_Ratings/blob/main/models/Significance_testing.ipynb\" target=\"_parent\"><img src=\"https://colab.research.google.com/assets/colab-badge.svg\" alt=\"Open In Colab\"/></a>"
      ]
    },
    {
      "cell_type": "markdown",
      "source": [
        "# Significance testing"
      ],
      "metadata": {
        "id": "CNcfPvKYoxcm"
      }
    },
    {
      "cell_type": "code",
      "source": [
        "import pandas as pd\n",
        "from scipy.stats import kruskal\n",
        "import scikit_posthocs as sp"
      ],
      "metadata": {
        "id": "8kUuywUzgsoY"
      },
      "execution_count": null,
      "outputs": []
    },
    {
      "cell_type": "code",
      "source": [
        "pip install scikit-posthocs"
      ],
      "metadata": {
        "colab": {
          "base_uri": "https://localhost:8080/"
        },
        "id": "IcZfkLBotoUO",
        "outputId": "9a22e419-138b-426e-8791-25392c810231"
      },
      "execution_count": null,
      "outputs": [
        {
          "output_type": "stream",
          "name": "stdout",
          "text": [
            "Collecting scikit-posthocs\n",
            "  Downloading scikit_posthocs-0.11.0-py3-none-any.whl.metadata (5.8 kB)\n",
            "Requirement already satisfied: numpy in /usr/local/lib/python3.10/dist-packages (from scikit-posthocs) (1.26.4)\n",
            "Requirement already satisfied: scipy>=1.9.0 in /usr/local/lib/python3.10/dist-packages (from scikit-posthocs) (1.13.1)\n",
            "Requirement already satisfied: statsmodels in /usr/local/lib/python3.10/dist-packages (from scikit-posthocs) (0.14.4)\n",
            "Requirement already satisfied: pandas>=0.20.0 in /usr/local/lib/python3.10/dist-packages (from scikit-posthocs) (2.2.2)\n",
            "Requirement already satisfied: seaborn in /usr/local/lib/python3.10/dist-packages (from scikit-posthocs) (0.13.2)\n",
            "Requirement already satisfied: matplotlib in /usr/local/lib/python3.10/dist-packages (from scikit-posthocs) (3.8.0)\n",
            "Requirement already satisfied: python-dateutil>=2.8.2 in /usr/local/lib/python3.10/dist-packages (from pandas>=0.20.0->scikit-posthocs) (2.8.2)\n",
            "Requirement already satisfied: pytz>=2020.1 in /usr/local/lib/python3.10/dist-packages (from pandas>=0.20.0->scikit-posthocs) (2024.2)\n",
            "Requirement already satisfied: tzdata>=2022.7 in /usr/local/lib/python3.10/dist-packages (from pandas>=0.20.0->scikit-posthocs) (2024.2)\n",
            "Requirement already satisfied: contourpy>=1.0.1 in /usr/local/lib/python3.10/dist-packages (from matplotlib->scikit-posthocs) (1.3.1)\n",
            "Requirement already satisfied: cycler>=0.10 in /usr/local/lib/python3.10/dist-packages (from matplotlib->scikit-posthocs) (0.12.1)\n",
            "Requirement already satisfied: fonttools>=4.22.0 in /usr/local/lib/python3.10/dist-packages (from matplotlib->scikit-posthocs) (4.55.0)\n",
            "Requirement already satisfied: kiwisolver>=1.0.1 in /usr/local/lib/python3.10/dist-packages (from matplotlib->scikit-posthocs) (1.4.7)\n",
            "Requirement already satisfied: packaging>=20.0 in /usr/local/lib/python3.10/dist-packages (from matplotlib->scikit-posthocs) (24.2)\n",
            "Requirement already satisfied: pillow>=6.2.0 in /usr/local/lib/python3.10/dist-packages (from matplotlib->scikit-posthocs) (11.0.0)\n",
            "Requirement already satisfied: pyparsing>=2.3.1 in /usr/local/lib/python3.10/dist-packages (from matplotlib->scikit-posthocs) (3.2.0)\n",
            "Requirement already satisfied: patsy>=0.5.6 in /usr/local/lib/python3.10/dist-packages (from statsmodels->scikit-posthocs) (1.0.1)\n",
            "Requirement already satisfied: six>=1.5 in /usr/local/lib/python3.10/dist-packages (from python-dateutil>=2.8.2->pandas>=0.20.0->scikit-posthocs) (1.16.0)\n",
            "Downloading scikit_posthocs-0.11.0-py3-none-any.whl (33 kB)\n",
            "Installing collected packages: scikit-posthocs\n",
            "Successfully installed scikit-posthocs-0.11.0\n"
          ]
        }
      ]
    },
    {
      "cell_type": "code",
      "source": [
        "# Create dataframe\n",
        "data = {\n",
        "    'Supervised': ['RandomForest', 'RandomForest', 'RandomForest', 'RandomForest',\n",
        "                   'XGBoost', 'XGBoost', 'XGBoost', 'XGBoost'],\n",
        "    'clustering': ['Baseline', 'KMeans', 'Hierarchical', 'DBSCAN',\n",
        "                   'Baseline', 'KMeans', 'Hierarchical', 'DBSCAN'],\n",
        "    'F1_Score': [0.41, 0.41, 0.41, 0.41, 0.43, 0.43, 0.43, 0.43]\n",
        "}\n",
        "df = pd.DataFrame(data)\n",
        "\n",
        "# Perform Kruskal-Wallis test for F1 score\n",
        "kruskal_result = kruskal(*[df[df['Supervised'] == model]['F1_Score'] for model in df['Supervised'].unique()])\n",
        "\n",
        "# Print the Kruskal-Wallis test result for F1 score\n",
        "print(f\"Kruskal-Wallis Test for F1 Score:\")\n",
        "print(f\"Statistic: {kruskal_result.statistic}, p-value: {kruskal_result.pvalue}\")\n",
        "\n",
        "# Perform Dunn's test as a post-hoc analysis\n",
        "dunn_result = sp.posthoc_dunn(df, val_col='F1_Score', group_col='Supervised', p_adjust='bonferroni')\n",
        "\n",
        "# Print Dunn's test results\n",
        "print(\"\\nDunn's Test Results (p-values):\")\n",
        "print(dunn_result)"
      ],
      "metadata": {
        "colab": {
          "base_uri": "https://localhost:8080/"
        },
        "id": "2kTZ9VlJtmi7",
        "outputId": "54539a52-aa51-49ce-bc90-a16c8da8a1ca"
      },
      "execution_count": null,
      "outputs": [
        {
          "output_type": "stream",
          "name": "stdout",
          "text": [
            "Kruskal-Wallis Test for F1 Score:\n",
            "Statistic: 6.999999999999994, p-value: 0.00815097159350273\n",
            "\n",
            "Dunn's Test Results (p-values):\n",
            "              RandomForest   XGBoost\n",
            "RandomForest      1.000000  0.008151\n",
            "XGBoost           0.008151  1.000000\n"
          ]
        }
      ]
    },
    {
      "cell_type": "code",
      "source": [
        "# Dataframe\n",
        "data = {\n",
        "    'Supervised': ['RandomForest', 'RandomForest', 'RandomForest', 'RandomForest',\n",
        "                   'XGBoost', 'XGBoost', 'XGBoost', 'XGBoost'],\n",
        "    'clustering': ['Baseline', 'KMeans', 'Hierarchical', 'DBSCAN',\n",
        "                   'Baseline', 'KMeans', 'Hierarchical', 'DBSCAN'],\n",
        "    'F1_Score': [0.41, 0.41, 0.41, 0.41, 0.43, 0.43, 0.43, 0.43]\n",
        "}\n",
        "df = pd.DataFrame(data)\n",
        "\n",
        "# Perform Kruskal-Wallis test for F1 score\n",
        "kruskal_result = kruskal(*[df[df['clustering'] == method]['F1_Score'] for method in df['clustering'].unique()])\n",
        "\n",
        "# Print the Kruskal-Wallis test result for F1 score\n",
        "print(f\"Kruskal-Wallis Test for F1 Score:\")\n",
        "print(f\"Statistic: {kruskal_result.statistic}, p-value: {kruskal_result.pvalue}\")\n",
        "\n",
        "# Perform Dunn's test as a post-hoc analysis\n",
        "dunn_result = sp.posthoc_dunn(df, val_col='F1_Score', group_col='clustering', p_adjust='bonferroni')\n",
        "\n",
        "# Print Dunn's test results\n",
        "print(\"\\nDunn's Test Results (p-values):\")\n",
        "print(dunn_result)"
      ],
      "metadata": {
        "colab": {
          "base_uri": "https://localhost:8080/"
        },
        "id": "I9DjIZsMt6YI",
        "outputId": "4b31c4eb-b404-48de-e96a-88a07bdceb61"
      },
      "execution_count": null,
      "outputs": [
        {
          "output_type": "stream",
          "name": "stdout",
          "text": [
            "Kruskal-Wallis Test for F1 Score:\n",
            "Statistic: 0.0, p-value: 1.0\n",
            "\n",
            "Dunn's Test Results (p-values):\n",
            "              Baseline  DBSCAN  Hierarchical  KMeans\n",
            "Baseline           1.0     1.0           1.0     1.0\n",
            "DBSCAN             1.0     1.0           1.0     1.0\n",
            "Hierarchical       1.0     1.0           1.0     1.0\n",
            "KMeans             1.0     1.0           1.0     1.0\n"
          ]
        }
      ]
    }
  ]
}