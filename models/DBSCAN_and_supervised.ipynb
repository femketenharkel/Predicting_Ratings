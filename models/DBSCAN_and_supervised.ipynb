{
  "nbformat": 4,
  "nbformat_minor": 0,
  "metadata": {
    "colab": {
      "provenance": [],
      "authorship_tag": "ABX9TyOk0EZuE+ovCLohIA9TyWX6",
      "include_colab_link": true
    },
    "kernelspec": {
      "name": "python3",
      "display_name": "Python 3"
    },
    "language_info": {
      "name": "python"
    }
  },
  "cells": [
    {
      "cell_type": "markdown",
      "metadata": {
        "id": "view-in-github",
        "colab_type": "text"
      },
      "source": [
        "<a href=\"https://colab.research.google.com/github/femketenharkel/Predicting_Ratings/blob/main/models/DBSCAN_and_supervised.ipynb\" target=\"_parent\"><img src=\"https://colab.research.google.com/assets/colab-badge.svg\" alt=\"Open In Colab\"/></a>"
      ]
    },
    {
      "cell_type": "markdown",
      "source": [
        "# **DBSCAN and supervised**"
      ],
      "metadata": {
        "id": "qz0LZbFSpAUu"
      }
    },
    {
      "cell_type": "code",
      "execution_count": 1,
      "metadata": {
        "id": "bd0TnzXUo_Uv"
      },
      "outputs": [],
      "source": [
        "#test"
      ]
    },
    {
      "cell_type": "code",
      "source": [],
      "metadata": {
        "id": "9YreSML6pH3r"
      },
      "execution_count": null,
      "outputs": []
    }
  ]
}