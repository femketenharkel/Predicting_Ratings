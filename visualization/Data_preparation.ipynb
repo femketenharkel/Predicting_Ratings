{
 "cells": [
  {
   "cell_type": "code",
   "execution_count": 2,
   "metadata": {},
   "outputs": [],
   "source": [
    "import pandas as pd"
   ]
  },
  {
   "cell_type": "markdown",
   "metadata": {},
   "source": [
    "## Loading in the data"
   ]
  },
  {
   "cell_type": "code",
   "execution_count": 3,
   "metadata": {},
   "outputs": [],
   "source": [
    "# Loading seperate datasets\n",
    "\n",
    "# Define file paths\n",
    "ratings_file = '/Users/femke/Documents/Uni/DSS/Thesis/Data/ml-1m/ratings.dat'\n",
    "users_file = '/Users/femke/Documents/Uni/DSS/Thesis/Data/ml-1m/users.dat'\n",
    "movies_file = '/Users/femke/Documents/Uni/DSS/Thesis/Data/ml-1m/movies.dat'\n",
    "\n",
    "# Load datasets\n",
    "ratings = pd.read_csv(ratings_file, sep='::', header=None, names=['UserID', 'MovieID', 'Rating', 'Timestamp'], engine='python')\n",
    "users = pd.read_csv(users_file, sep='::', header=None, names=['UserID', 'Gender', 'Age', 'Occupation', 'Zip-code'], engine='python')\n",
    "movies = pd.read_csv(movies_file, sep='::', header=None, names=['MovieID', 'Title', 'Genres'], engine='python', encoding='ISO-8859-1')"
   ]
  },
  {
   "cell_type": "code",
   "execution_count": 4,
   "metadata": {},
   "outputs": [],
   "source": [
    "# Loading in the merged datasets\n",
    "\n",
    "# Load file with time component\n",
    "df = pd.read_csv(\"/Users/femke/Documents/Uni/DSS/Thesis/Data/ml1m_df.csv\")\n",
    "\n",
    "# Load file with time component, categories renamed\n",
    "df_category = pd.read_csv(\"/Users/femke/Documents/Uni/DSS/Thesis/Data/ml1m_df_category.csv\")\n",
    "\n",
    "# Load file with time component, movie dummy\n",
    "df_expanded_movies = pd.read_csv(\"/Users/femke/Documents/Uni/DSS/Thesis/Data/ml1m_df_expanded_movies.csv\")\n",
    "\n",
    "# Load file with time component, categories renamed, movie dummy\n",
    "df_expanded_movies_category = pd.read_csv(\"/Users/femke/Documents/Uni/DSS/Thesis/Data/ml1m_df_expanded_movies_category.csv\")\n",
    "\n",
    "# Load FINAL file with time component, categories renamed, movie dummy, ordered right\n",
    "#df_final = pd.read_csv(\"/Users/femke/Documents/Uni/DSS/Thesis/Data/ml1m_df_final.csv\")"
   ]
  },
  {
   "cell_type": "code",
   "execution_count": null,
   "metadata": {},
   "outputs": [],
   "source": []
  }
 ],
 "metadata": {
  "kernelspec": {
   "display_name": "DLASSKERNEL",
   "language": "python",
   "name": "dlasskernel"
  },
  "language_info": {
   "codemirror_mode": {
    "name": "ipython",
    "version": 3
   },
   "file_extension": ".py",
   "mimetype": "text/x-python",
   "name": "python",
   "nbconvert_exporter": "python",
   "pygments_lexer": "ipython3",
   "version": "3.11.5"
  }
 },
 "nbformat": 4,
 "nbformat_minor": 2
}
