{
 "cells": [
  {
   "cell_type": "code",
   "execution_count": 8,
   "metadata": {},
   "outputs": [],
   "source": [
    "import pandas as pd\n",
    "from datetime import datetime"
   ]
  },
  {
   "cell_type": "markdown",
   "metadata": {},
   "source": [
    "# Loading in the data"
   ]
  },
  {
   "cell_type": "code",
   "execution_count": 18,
   "metadata": {},
   "outputs": [],
   "source": [
    "# Loading seperate datasets\n",
    "\n",
    "# Define file paths\n",
    "ratings_file = '/Users/femke/Documents/Uni/DSS/Thesis/Data/ml-1m/ratings.dat'\n",
    "users_file = '/Users/femke/Documents/Uni/DSS/Thesis/Data/ml-1m/users.dat'\n",
    "movies_file = '/Users/femke/Documents/Uni/DSS/Thesis/Data/ml-1m/movies.dat'\n",
    "\n",
    "# Load datasets\n",
    "ratings = pd.read_csv(ratings_file, sep='::', header=None, names=['UserID', 'MovieID', 'Rating', 'Timestamp'], engine='python')\n",
    "users = pd.read_csv(users_file, sep='::', header=None, names=['UserID', 'Gender', 'Age', 'Occupation', 'Zip-code'], engine='python')\n",
    "movies = pd.read_csv(movies_file, sep='::', header=None, names=['MovieID', 'Title', 'Genres'], engine='python', encoding='ISO-8859-1')"
   ]
  },
  {
   "cell_type": "code",
   "execution_count": 4,
   "metadata": {},
   "outputs": [],
   "source": [
    "# Loading in the merged datasets\n",
    "\n",
    "# Load file with time component\n",
    "df = pd.read_csv(\"/Users/femke/Documents/Uni/DSS/Thesis/Data/ml1m_df.csv\")\n",
    "\n",
    "# Load file with time component, categories renamed\n",
    "df_category = pd.read_csv(\"/Users/femke/Documents/Uni/DSS/Thesis/Data/ml1m_df_category.csv\")\n",
    "\n",
    "# Load file with time component, movie dummy\n",
    "df_expanded_movies = pd.read_csv(\"/Users/femke/Documents/Uni/DSS/Thesis/Data/ml1m_df_expanded_movies.csv\")\n",
    "\n",
    "# Load file with time component, categories renamed, movie dummy\n",
    "df_expanded_movies_category = pd.read_csv(\"/Users/femke/Documents/Uni/DSS/Thesis/Data/ml1m_df_expanded_movies_category.csv\")\n",
    "\n",
    "# Load FINAL file with time component, categories renamed, movie dummy, ordered right\n",
    "df_final = pd.read_csv(\"/Users/femke/Documents/Uni/DSS/Thesis/Data/ml1m_df_final.csv\")"
   ]
  },
  {
   "cell_type": "code",
   "execution_count": 13,
   "metadata": {},
   "outputs": [],
   "source": [
    "# Merging the seperate datasets\n",
    "ratings_plus_users = pd.merge(ratings, users, on='UserID')\n",
    "\n",
    "# Merge the result with movies\n",
    "df = pd.merge(ratings_plus_users, movies, on='MovieID')"
   ]
  },
  {
   "cell_type": "markdown",
   "metadata": {},
   "source": [
    "# First data handling"
   ]
  },
  {
   "cell_type": "code",
   "execution_count": 14,
   "metadata": {},
   "outputs": [],
   "source": [
    "# Splitting 'Timestamp'\n",
    "df['Timestamp'] = df['Timestamp'].apply(datetime.fromtimestamp)\n",
    "df['Year'] = df['Timestamp'].dt.year\n",
    "df['Month'] = df['Timestamp'].dt.month\n",
    "df['Day'] = df['Timestamp'].dt.day\n",
    "df['Hour'] = df['Timestamp'].dt.hour\n",
    "df['Minute'] = df['Timestamp'].dt.minute\n",
    "df['Second'] = df['Timestamp'].dt.second"
   ]
  },
  {
   "cell_type": "code",
   "execution_count": 16,
   "metadata": {},
   "outputs": [],
   "source": [
    "# Creating df_category (Occupation and Age in full)\n",
    "\n",
    "# Create a copy of the dataframe\n",
    "df_category = df.copy()\n",
    "\n",
    "# Change the names of the categories for the Age feature\n",
    "age_mapping = {\n",
    "    1: \"Under 18\", 18: \"18-24\", 25: \"25-34\", 35: \"35-44\",\n",
    "    45: \"45-49\", 50: \"50-55\", 56: \"56+\"\n",
    "}\n",
    "df_category['Age'] = df_category['Age'].map(age_mapping)\n",
    "\n",
    "# Change the names of the categories for the Occupation feature\n",
    "occupation_mapping = {\n",
    "    0: \"other or not specified\", 1: \"academic/educator\", 2: \"artist\",\n",
    "    3: \"clerical/admin\", 4: \"college/grad student\", 5: \"customer service\",\n",
    "    6: \"doctor/health care\", 7: \"executive/managerial\", 8: \"farmer\",\n",
    "    9: \"homemaker\", 10: \"K-12 student\", 11: \"lawyer\", 12: \"programmer\",\n",
    "    13: \"retired\", 14: \"sales/marketing\", 15: \"scientist\", 16: \"self-employed\",\n",
    "    17: \"technician/engineer\", 18: \"tradesman/craftsman\", 19: \"unemployed\",\n",
    "    20: \"writer\"\n",
    "}\n",
    "df_category['Occupation'] = df_category['Occupation'].map(occupation_mapping)"
   ]
  },
  {
   "cell_type": "markdown",
   "metadata": {},
   "source": [
    "# Movies dataset exploration"
   ]
  },
  {
   "cell_type": "code",
   "execution_count": 19,
   "metadata": {},
   "outputs": [],
   "source": [
    "# Separating Release_year from Title\n",
    "\n",
    "movies['Release_year'] = movies.Title.str.extract(\"\\((\\d{4})\\)\", expand=True).astype(str)\n",
    "\n",
    "movies['Release_year'] = pd.to_datetime(movies.Release_year, format='%Y')\n",
    "movies['Release_year'] = movies.Release_year.dt.year\n",
    "movies['Title'] = movies.Title.str[:-7]"
   ]
  },
  {
   "cell_type": "code",
   "execution_count": 20,
   "metadata": {},
   "outputs": [],
   "source": [
    "# Separating the Genres\n",
    "# Unique genres.\n",
    "genres_unique = pd.DataFrame(movies.Genres.str.split('|').tolist()).stack().unique()\n",
    "genres_unique = pd.DataFrame(genres_unique, columns=['Genre'])\n",
    "\n",
    "# Remove old Genres column\n",
    "movies = movies.join(movies.Genres.str.get_dummies().astype(bool))\n",
    "movies.drop('Genres', inplace=True, axis=1)"
   ]
  },
  {
   "cell_type": "code",
   "execution_count": 22,
   "metadata": {},
   "outputs": [],
   "source": [
    "# Merge new movie with other dataset + create time component\n",
    "df_expanded_movies = pd.merge(ratings_plus_users, movies, on='MovieID')\n",
    "\n",
    "# Creating time components in merged dataset df\n",
    "df_expanded_movies['Timestamp'] = df_expanded_movies['Timestamp'].apply(datetime.fromtimestamp)\n",
    "df_expanded_movies['Year'] = df_expanded_movies['Timestamp'].dt.year\n",
    "df_expanded_movies['Month'] = df_expanded_movies['Timestamp'].dt.month\n",
    "df_expanded_movies['Day'] = df_expanded_movies['Timestamp'].dt.day\n",
    "df_expanded_movies['Hour'] = df_expanded_movies['Timestamp'].dt.hour\n",
    "df_expanded_movies['Minute'] = df_expanded_movies['Timestamp'].dt.minute\n",
    "df_expanded_movies['Second'] = df_expanded_movies['Timestamp'].dt.second"
   ]
  },
  {
   "cell_type": "code",
   "execution_count": 24,
   "metadata": {},
   "outputs": [],
   "source": [
    "# Creating df_expanded_movies_category (Occupation and Age in full + movie dummy)\n",
    "\n",
    "# Create a copy of the dataframe\n",
    "df_expanded_movies_category = df_expanded_movies.copy()\n",
    "\n",
    "# Change the names of the categories for the Age feature\n",
    "age_mapping = {\n",
    "    1: \"Under 18\", 18: \"18-24\", 25: \"25-34\", 35: \"35-44\",\n",
    "    45: \"45-49\", 50: \"50-55\", 56: \"56+\"\n",
    "}\n",
    "df_expanded_movies_category['Age'] = df_expanded_movies_category['Age'].map(age_mapping)\n",
    "\n",
    "# Change the names of the categories for the Occupation feature\n",
    "occupation_mapping = {\n",
    "    0: \"other or not specified\", 1: \"academic/educator\", 2: \"artist\",\n",
    "    3: \"clerical/admin\", 4: \"college/grad student\", 5: \"customer service\",\n",
    "    6: \"doctor/health care\", 7: \"executive/managerial\", 8: \"farmer\",\n",
    "    9: \"homemaker\", 10: \"K-12 student\", 11: \"lawyer\", 12: \"programmer\",\n",
    "    13: \"retired\", 14: \"sales/marketing\", 15: \"scientist\", 16: \"self-employed\",\n",
    "    17: \"technician/engineer\", 18: \"tradesman/craftsman\", 19: \"unemployed\",\n",
    "    20: \"writer\"\n",
    "}\n",
    "df_expanded_movies_category['Occupation'] = df_expanded_movies_category['Occupation'].map(occupation_mapping)"
   ]
  },
  {
   "cell_type": "code",
   "execution_count": 28,
   "metadata": {},
   "outputs": [],
   "source": [
    "# Sorting df_expanded_movies_category\n",
    "desired_columns = ['UserID', 'MovieID', 'Rating', 'Timestamp', 'Year', 'Month', 'Day', 'Hour', 'Minute' ,'Gender', 'Age', 'Occupation', 'Zip-code', \n",
    "                   'Title', 'Release_year', 'Action', 'Adventure', 'Animation', \"Children's\", 'Comedy', 'Crime', \n",
    "                   'Documentary', 'Drama', 'Fantasy', 'Film-Noir', 'Horror', 'Musical', 'Mystery', 'Romance', \n",
    "                   'Sci-Fi', 'Thriller', 'War', 'Western']\n",
    "\n",
    "# Now, we can reorder the dataframe and drop the 'Timestamp' column\n",
    "df_expanded_movies_category = df_expanded_movies_category[desired_columns]"
   ]
  },
  {
   "cell_type": "markdown",
   "metadata": {},
   "source": [
    "# Preparing final dataframe for use in model "
   ]
  },
  {
   "cell_type": "code",
   "execution_count": 48,
   "metadata": {},
   "outputs": [],
   "source": [
    "# Creating a temporary df (Occupation in full)\n",
    "\n",
    "# Change the names of the categories for the Occupation feature\n",
    "\n",
    "df_temp = df_expanded_movies.copy()\n",
    "\n",
    "occupation_mapping = {\n",
    "    0: \"Other or not specified\", 1: \"Academic/educator\", 2: \"Artist\",\n",
    "    3: \"Clerical/admin\", 4: \"College/grad student\", 5: \"Customer service\",\n",
    "    6: \"Doctor/health care\", 7: \"Executive/managerial\", 8: \"Farmer\",\n",
    "    9: \"Homemaker\", 10: \"K-12 student\", 11: \"Lawyer\", 12: \"Programmer\",\n",
    "    13: \"Retired\", 14: \"Sales/marketing\", 15: \"Scientist\", 16: \"Self-employed\",\n",
    "    17: \"Technician/engineer\", 18: \"Tradesman/craftsman\", 19: \"Unemployed\",\n",
    "    20: \"Writer\"\n",
    "}\n",
    "df_temp['Occupation'] = df_temp['Occupation'].map(occupation_mapping)"
   ]
  },
  {
   "cell_type": "code",
   "execution_count": 49,
   "metadata": {},
   "outputs": [],
   "source": [
    "# One-hot encode Gender\n",
    "df_temp = pd.get_dummies(df_temp, columns=['Gender'], drop_first=True)\n",
    "df_temp.rename(columns={'Gender_M': 'Male'}, inplace=True)"
   ]
  },
  {
   "cell_type": "code",
   "execution_count": 50,
   "metadata": {},
   "outputs": [],
   "source": [
    "# Sorting the df_temp\n",
    "desired_columns = ['UserID', 'MovieID', 'Rating', 'Year', 'Month', 'Day', 'Hour', 'Minute', 'Second' ,'Male', 'Age', 'Occupation', 'Zip-code', \n",
    "                   'Title', 'Release_year', 'Action', 'Adventure', 'Animation', \"Children's\", 'Comedy', 'Crime', \n",
    "                   'Documentary', 'Drama', 'Fantasy', 'Film-Noir', 'Horror', 'Musical', 'Mystery', 'Romance', \n",
    "                   'Sci-Fi', 'Thriller', 'War', 'Western']\n",
    "\n",
    "# Reorganize df in temporary dataset\n",
    "df_temp = df_temp[desired_columns]"
   ]
  },
  {
   "cell_type": "code",
   "execution_count": 51,
   "metadata": {},
   "outputs": [],
   "source": [
    "# One-Hot encode Occupation\n",
    "\n",
    "# Assuming df_temp is your dataframe\n",
    "df_temp = pd.get_dummies(df_temp, columns=['Occupation'], drop_first=True)\n",
    "\n",
    "# Rename the columns to remove the prefix 'Occupation_'\n",
    "df_temp.columns = [col.replace('Occupation_', '') for col in df_temp.columns]"
   ]
  },
  {
   "cell_type": "code",
   "execution_count": 55,
   "metadata": {},
   "outputs": [],
   "source": [
    "# Hash trick encoding Zip-code\n",
    "df_temp['Zip-code'] = df_temp['Zip-code'].apply(lambda x: hash(x) % 10000)  # Modulo to keep the numbers manageable\n"
   ]
  },
  {
   "cell_type": "code",
   "execution_count": 53,
   "metadata": {},
   "outputs": [],
   "source": [
    "# Turn df_temp into df_final\n",
    "df_final = df_temp.copy()"
   ]
  },
  {
   "cell_type": "markdown",
   "metadata": {},
   "source": [
    "# Saving the files"
   ]
  },
  {
   "cell_type": "code",
   "execution_count": null,
   "metadata": {},
   "outputs": [],
   "source": [
    "# Saving all dataframes\n",
    "# Save file with time component\n",
    "df.to_csv('/Users/femke/Documents/Uni/DSS/Thesis/Data/ml1m_df.csv', index=False)\n",
    "\n",
    "# Save file with time component, categories renamed\n",
    "df_category.to_csv('/Users/femke/Documents/Uni/DSS/Thesis/Data/ml1m_df_category.csv', index=False)\n",
    "\n",
    "# Save file with time component, movie dummy\n",
    "df_expanded_movies.to_csv('/Users/femke/Documents/Uni/DSS/Thesis/Data/ml1m_df_expanded_movies.csv', index=False)\n",
    "\n",
    "# Save file with time component, categories renamed, movie dummy\n",
    "df_expanded_movies_category.to_csv('/Users/femke/Documents/Uni/DSS/Thesis/Data/ml1m_df_expanded_movies_category.csv', index=False)\n",
    "\n",
    "# Save file with time component, categories renamed, movie dummy, ordered right\n",
    "df_final.to_csv('/Users/femke/Documents/Uni/DSS/Thesis/Data/ml1m_df_final.csv', index=False)\n"
   ]
  },
  {
   "cell_type": "code",
   "execution_count": 67,
   "metadata": {},
   "outputs": [],
   "source": [
    "# Loading in the merged datasets\n",
    "\n",
    "# Load file with time component\n",
    "df_good = pd.read_csv(\"/Users/femke/Documents/Uni/DSS/Thesis/Data/ml1m_df.csv\")\n",
    "\n",
    "# Load file with time component, categories renamed\n",
    "df_category_good = pd.read_csv(\"/Users/femke/Documents/Uni/DSS/Thesis/Data/ml1m_df_category.csv\")\n",
    "\n",
    "# Load file with time component, movie dummy\n",
    "df_expanded_movies_good = pd.read_csv(\"/Users/femke/Documents/Uni/DSS/Thesis/Data/ml1m_df_expanded_movies.csv\")\n",
    "\n",
    "# Load file with time component, categories renamed, movie dummy\n",
    "df_expanded_movies_category_good = pd.read_csv(\"/Users/femke/Documents/Uni/DSS/Thesis/Data/ml1m_df_expanded_movies_category.csv\")\n"
   ]
  }
 ],
 "metadata": {
  "kernelspec": {
   "display_name": "DLASSKERNEL",
   "language": "python",
   "name": "dlasskernel"
  },
  "language_info": {
   "codemirror_mode": {
    "name": "ipython",
    "version": 3
   },
   "file_extension": ".py",
   "mimetype": "text/x-python",
   "name": "python",
   "nbconvert_exporter": "python",
   "pygments_lexer": "ipython3",
   "version": "3.11.5"
  }
 },
 "nbformat": 4,
 "nbformat_minor": 2
}
