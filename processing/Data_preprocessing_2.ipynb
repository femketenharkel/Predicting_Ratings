{
  "cells": [
    {
      "cell_type": "code",
      "execution_count": null,
      "metadata": {
        "id": "99MEE4Jz0w_j"
      },
      "outputs": [],
      "source": [
        "import pandas as pd\n",
        "from datetime import datetime\n",
        "from sklearn.preprocessing import LabelEncoder\n",
        "from sklearn.preprocessing import StandardScaler\n"
      ]
    },
    {
      "cell_type": "markdown",
      "metadata": {
        "id": "LKNZKwor0w_n"
      },
      "source": [
        "# Loading in the data"
      ]
    },
    {
      "cell_type": "code",
      "execution_count": null,
      "metadata": {
        "id": "V8w4wGum0w_o"
      },
      "outputs": [],
      "source": [
        "# Load seperate datasets\n",
        "# Define file paths\n",
        "ratings_file = '/Users/femke/Documents/Uni/DSS/Thesis/Data/ml-1m/ratings.dat'\n",
        "users_file = '/Users/femke/Documents/Uni/DSS/Thesis/Data/ml-1m/users.dat'\n",
        "movies_file = '/Users/femke/Documents/Uni/DSS/Thesis/Data/ml-1m/movies.dat'\n",
        "\n",
        "# Load datasets\n",
        "ratings = pd.read_csv(ratings_file, sep='::', header=None, names=['UserID', 'MovieID', 'Rating', 'Timestamp'], engine='python')\n",
        "users = pd.read_csv(users_file, sep='::', header=None, names=['UserID', 'Gender', 'Age', 'Occupation', 'Zip-code'], engine='python')\n",
        "movies = pd.read_csv(movies_file, sep='::', header=None, names=['MovieID', 'Title', 'Genres'], engine='python', encoding='ISO-8859-1')"
      ]
    },
    {
      "cell_type": "code",
      "execution_count": null,
      "metadata": {
        "id": "OGp9LnWG0w_o"
      },
      "outputs": [],
      "source": [
        "# Merge the seperate datasets\n",
        "ratings_plus_users = pd.merge(ratings, users, on='UserID')\n",
        "df = pd.merge(ratings_plus_users, movies, on='MovieID')"
      ]
    },
    {
      "cell_type": "markdown",
      "metadata": {
        "id": "S1GqncPE0w_p"
      },
      "source": [
        "# Feature Engineering"
      ]
    },
    {
      "cell_type": "code",
      "execution_count": null,
      "metadata": {
        "id": "1nmwveKA0w_p"
      },
      "outputs": [],
      "source": [
        "# Create time component features\n",
        "df['Timestamp'] = df['Timestamp'].apply(datetime.fromtimestamp)\n",
        "df['Year'] = df['Timestamp'].dt.year\n",
        "df['Month'] = df['Timestamp'].dt.month\n",
        "df['Day'] = df['Timestamp'].dt.day\n",
        "df['Hour'] = df['Timestamp'].dt.hour\n",
        "\n",
        "# Removing the unnecessary features (Zip-code and timestamp)\n",
        "df = df.drop(columns=[\"Timestamp\", \"Zip-code\"])"
      ]
    },
    {
      "cell_type": "code",
      "source": [
        "df_temp = df. copy()"
      ],
      "metadata": {
        "id": "5bTCRegMGKC8"
      },
      "execution_count": null,
      "outputs": []
    },
    {
      "cell_type": "code",
      "execution_count": null,
      "metadata": {
        "id": "OqTLA9_k0w_p"
      },
      "outputs": [],
      "source": [
        "# Prepare df_temp (used for processing)\n",
        "df_temp = df.copy()\n",
        "\n",
        "# Change the names of the categories for the Occupation feature\n",
        "occupation_mapping = {\n",
        "    0: \"Other or not specified\", 1: \"Academic/educator\", 2: \"Artist\",\n",
        "    3: \"Clerical/admin\", 4: \"College/grad student\", 5: \"Customer service\",\n",
        "    6: \"Doctor/health care\", 7: \"Executive/managerial\", 8: \"Farmer\",\n",
        "    9: \"Homemaker\", 10: \"K-12 student\", 11: \"Lawyer\", 12: \"Programmer\",\n",
        "    13: \"Retired\", 14: \"Sales/marketing\", 15: \"Scientist\", 16: \"Self-employed\",\n",
        "    17: \"Technician/engineer\", 18: \"Tradesman/craftsman\", 19: \"Unemployed\",\n",
        "    20: \"Writer\"\n",
        "}\n",
        "\n",
        "df_temp['Occupation'] = df_temp['Occupation'].map(occupation_mapping)"
      ]
    },
    {
      "cell_type": "code",
      "execution_count": null,
      "metadata": {
        "id": "1crFi-1L0w_q"
      },
      "outputs": [],
      "source": [
        "# Create time features and sorting df_temp\n",
        "df_temp['Release_year'] = df_temp.Title.str.extract(\"\\((\\d{4})\\)\", expand=True).astype(str)\n",
        "df_temp['Release_year'] = pd.to_datetime(df_temp.Release_year, format='%Y')\n",
        "df_temp['Release_year'] = df_temp.Release_year.dt.year\n",
        "df_temp['Title'] = df_temp.Title.str[:-7]"
      ]
    },
    {
      "cell_type": "code",
      "execution_count": null,
      "metadata": {
        "id": "Ayh_f4v_0w_q"
      },
      "outputs": [],
      "source": [
        "# Remove Title column (will be identified by MovieID)\n",
        "df_temp = df_temp.drop(columns='Title')"
      ]
    },
    {
      "cell_type": "code",
      "execution_count": null,
      "metadata": {
        "colab": {
          "base_uri": "https://localhost:8080/",
          "height": 206
        },
        "id": "-Fjr6sLU0w_q",
        "outputId": "a2bb60d8-0c81-41dd-99bd-afe17734a1d4"
      },
      "outputs": [
        {
          "output_type": "execute_result",
          "data": {
            "text/plain": [
              "   UserID  MovieID  Rating Gender  Age  Occupation  \\\n",
              "0       1     1193       5      F    1          10   \n",
              "1       1      661       3      F    1          10   \n",
              "2       1      914       3      F    1          10   \n",
              "3       1     3408       4      F    1          10   \n",
              "4       1     2355       5      F    1          10   \n",
              "\n",
              "                         Genres  Month  Day  Hour  Release_year  \n",
              "0                         Drama     12   31    22          1975  \n",
              "1  Animation|Children's|Musical     12   31    22          1996  \n",
              "2               Musical|Romance     12   31    22          1964  \n",
              "3                         Drama     12   31    22          2000  \n",
              "4   Animation|Children's|Comedy      1    6    23          1998  "
            ],
            "text/html": [
              "\n",
              "  <div id=\"df-175e1e25-0e15-413d-9e62-de7caec09eca\" class=\"colab-df-container\">\n",
              "    <div>\n",
              "<style scoped>\n",
              "    .dataframe tbody tr th:only-of-type {\n",
              "        vertical-align: middle;\n",
              "    }\n",
              "\n",
              "    .dataframe tbody tr th {\n",
              "        vertical-align: top;\n",
              "    }\n",
              "\n",
              "    .dataframe thead th {\n",
              "        text-align: right;\n",
              "    }\n",
              "</style>\n",
              "<table border=\"1\" class=\"dataframe\">\n",
              "  <thead>\n",
              "    <tr style=\"text-align: right;\">\n",
              "      <th></th>\n",
              "      <th>UserID</th>\n",
              "      <th>MovieID</th>\n",
              "      <th>Rating</th>\n",
              "      <th>Gender</th>\n",
              "      <th>Age</th>\n",
              "      <th>Occupation</th>\n",
              "      <th>Genres</th>\n",
              "      <th>Month</th>\n",
              "      <th>Day</th>\n",
              "      <th>Hour</th>\n",
              "      <th>Release_year</th>\n",
              "    </tr>\n",
              "  </thead>\n",
              "  <tbody>\n",
              "    <tr>\n",
              "      <th>0</th>\n",
              "      <td>1</td>\n",
              "      <td>1193</td>\n",
              "      <td>5</td>\n",
              "      <td>F</td>\n",
              "      <td>1</td>\n",
              "      <td>10</td>\n",
              "      <td>Drama</td>\n",
              "      <td>12</td>\n",
              "      <td>31</td>\n",
              "      <td>22</td>\n",
              "      <td>1975</td>\n",
              "    </tr>\n",
              "    <tr>\n",
              "      <th>1</th>\n",
              "      <td>1</td>\n",
              "      <td>661</td>\n",
              "      <td>3</td>\n",
              "      <td>F</td>\n",
              "      <td>1</td>\n",
              "      <td>10</td>\n",
              "      <td>Animation|Children's|Musical</td>\n",
              "      <td>12</td>\n",
              "      <td>31</td>\n",
              "      <td>22</td>\n",
              "      <td>1996</td>\n",
              "    </tr>\n",
              "    <tr>\n",
              "      <th>2</th>\n",
              "      <td>1</td>\n",
              "      <td>914</td>\n",
              "      <td>3</td>\n",
              "      <td>F</td>\n",
              "      <td>1</td>\n",
              "      <td>10</td>\n",
              "      <td>Musical|Romance</td>\n",
              "      <td>12</td>\n",
              "      <td>31</td>\n",
              "      <td>22</td>\n",
              "      <td>1964</td>\n",
              "    </tr>\n",
              "    <tr>\n",
              "      <th>3</th>\n",
              "      <td>1</td>\n",
              "      <td>3408</td>\n",
              "      <td>4</td>\n",
              "      <td>F</td>\n",
              "      <td>1</td>\n",
              "      <td>10</td>\n",
              "      <td>Drama</td>\n",
              "      <td>12</td>\n",
              "      <td>31</td>\n",
              "      <td>22</td>\n",
              "      <td>2000</td>\n",
              "    </tr>\n",
              "    <tr>\n",
              "      <th>4</th>\n",
              "      <td>1</td>\n",
              "      <td>2355</td>\n",
              "      <td>5</td>\n",
              "      <td>F</td>\n",
              "      <td>1</td>\n",
              "      <td>10</td>\n",
              "      <td>Animation|Children's|Comedy</td>\n",
              "      <td>1</td>\n",
              "      <td>6</td>\n",
              "      <td>23</td>\n",
              "      <td>1998</td>\n",
              "    </tr>\n",
              "  </tbody>\n",
              "</table>\n",
              "</div>\n",
              "    <div class=\"colab-df-buttons\">\n",
              "\n",
              "  <div class=\"colab-df-container\">\n",
              "    <button class=\"colab-df-convert\" onclick=\"convertToInteractive('df-175e1e25-0e15-413d-9e62-de7caec09eca')\"\n",
              "            title=\"Convert this dataframe to an interactive table.\"\n",
              "            style=\"display:none;\">\n",
              "\n",
              "  <svg xmlns=\"http://www.w3.org/2000/svg\" height=\"24px\" viewBox=\"0 -960 960 960\">\n",
              "    <path d=\"M120-120v-720h720v720H120Zm60-500h600v-160H180v160Zm220 220h160v-160H400v160Zm0 220h160v-160H400v160ZM180-400h160v-160H180v160Zm440 0h160v-160H620v160ZM180-180h160v-160H180v160Zm440 0h160v-160H620v160Z\"/>\n",
              "  </svg>\n",
              "    </button>\n",
              "\n",
              "  <style>\n",
              "    .colab-df-container {\n",
              "      display:flex;\n",
              "      gap: 12px;\n",
              "    }\n",
              "\n",
              "    .colab-df-convert {\n",
              "      background-color: #E8F0FE;\n",
              "      border: none;\n",
              "      border-radius: 50%;\n",
              "      cursor: pointer;\n",
              "      display: none;\n",
              "      fill: #1967D2;\n",
              "      height: 32px;\n",
              "      padding: 0 0 0 0;\n",
              "      width: 32px;\n",
              "    }\n",
              "\n",
              "    .colab-df-convert:hover {\n",
              "      background-color: #E2EBFA;\n",
              "      box-shadow: 0px 1px 2px rgba(60, 64, 67, 0.3), 0px 1px 3px 1px rgba(60, 64, 67, 0.15);\n",
              "      fill: #174EA6;\n",
              "    }\n",
              "\n",
              "    .colab-df-buttons div {\n",
              "      margin-bottom: 4px;\n",
              "    }\n",
              "\n",
              "    [theme=dark] .colab-df-convert {\n",
              "      background-color: #3B4455;\n",
              "      fill: #D2E3FC;\n",
              "    }\n",
              "\n",
              "    [theme=dark] .colab-df-convert:hover {\n",
              "      background-color: #434B5C;\n",
              "      box-shadow: 0px 1px 3px 1px rgba(0, 0, 0, 0.15);\n",
              "      filter: drop-shadow(0px 1px 2px rgba(0, 0, 0, 0.3));\n",
              "      fill: #FFFFFF;\n",
              "    }\n",
              "  </style>\n",
              "\n",
              "    <script>\n",
              "      const buttonEl =\n",
              "        document.querySelector('#df-175e1e25-0e15-413d-9e62-de7caec09eca button.colab-df-convert');\n",
              "      buttonEl.style.display =\n",
              "        google.colab.kernel.accessAllowed ? 'block' : 'none';\n",
              "\n",
              "      async function convertToInteractive(key) {\n",
              "        const element = document.querySelector('#df-175e1e25-0e15-413d-9e62-de7caec09eca');\n",
              "        const dataTable =\n",
              "          await google.colab.kernel.invokeFunction('convertToInteractive',\n",
              "                                                    [key], {});\n",
              "        if (!dataTable) return;\n",
              "\n",
              "        const docLinkHtml = 'Like what you see? Visit the ' +\n",
              "          '<a target=\"_blank\" href=https://colab.research.google.com/notebooks/data_table.ipynb>data table notebook</a>'\n",
              "          + ' to learn more about interactive tables.';\n",
              "        element.innerHTML = '';\n",
              "        dataTable['output_type'] = 'display_data';\n",
              "        await google.colab.output.renderOutput(dataTable, element);\n",
              "        const docLink = document.createElement('div');\n",
              "        docLink.innerHTML = docLinkHtml;\n",
              "        element.appendChild(docLink);\n",
              "      }\n",
              "    </script>\n",
              "  </div>\n",
              "\n",
              "\n",
              "<div id=\"df-e4ec403b-64c0-4b98-b4de-a4a04474cdb4\">\n",
              "  <button class=\"colab-df-quickchart\" onclick=\"quickchart('df-e4ec403b-64c0-4b98-b4de-a4a04474cdb4')\"\n",
              "            title=\"Suggest charts\"\n",
              "            style=\"display:none;\">\n",
              "\n",
              "<svg xmlns=\"http://www.w3.org/2000/svg\" height=\"24px\"viewBox=\"0 0 24 24\"\n",
              "     width=\"24px\">\n",
              "    <g>\n",
              "        <path d=\"M19 3H5c-1.1 0-2 .9-2 2v14c0 1.1.9 2 2 2h14c1.1 0 2-.9 2-2V5c0-1.1-.9-2-2-2zM9 17H7v-7h2v7zm4 0h-2V7h2v10zm4 0h-2v-4h2v4z\"/>\n",
              "    </g>\n",
              "</svg>\n",
              "  </button>\n",
              "\n",
              "<style>\n",
              "  .colab-df-quickchart {\n",
              "      --bg-color: #E8F0FE;\n",
              "      --fill-color: #1967D2;\n",
              "      --hover-bg-color: #E2EBFA;\n",
              "      --hover-fill-color: #174EA6;\n",
              "      --disabled-fill-color: #AAA;\n",
              "      --disabled-bg-color: #DDD;\n",
              "  }\n",
              "\n",
              "  [theme=dark] .colab-df-quickchart {\n",
              "      --bg-color: #3B4455;\n",
              "      --fill-color: #D2E3FC;\n",
              "      --hover-bg-color: #434B5C;\n",
              "      --hover-fill-color: #FFFFFF;\n",
              "      --disabled-bg-color: #3B4455;\n",
              "      --disabled-fill-color: #666;\n",
              "  }\n",
              "\n",
              "  .colab-df-quickchart {\n",
              "    background-color: var(--bg-color);\n",
              "    border: none;\n",
              "    border-radius: 50%;\n",
              "    cursor: pointer;\n",
              "    display: none;\n",
              "    fill: var(--fill-color);\n",
              "    height: 32px;\n",
              "    padding: 0;\n",
              "    width: 32px;\n",
              "  }\n",
              "\n",
              "  .colab-df-quickchart:hover {\n",
              "    background-color: var(--hover-bg-color);\n",
              "    box-shadow: 0 1px 2px rgba(60, 64, 67, 0.3), 0 1px 3px 1px rgba(60, 64, 67, 0.15);\n",
              "    fill: var(--button-hover-fill-color);\n",
              "  }\n",
              "\n",
              "  .colab-df-quickchart-complete:disabled,\n",
              "  .colab-df-quickchart-complete:disabled:hover {\n",
              "    background-color: var(--disabled-bg-color);\n",
              "    fill: var(--disabled-fill-color);\n",
              "    box-shadow: none;\n",
              "  }\n",
              "\n",
              "  .colab-df-spinner {\n",
              "    border: 2px solid var(--fill-color);\n",
              "    border-color: transparent;\n",
              "    border-bottom-color: var(--fill-color);\n",
              "    animation:\n",
              "      spin 1s steps(1) infinite;\n",
              "  }\n",
              "\n",
              "  @keyframes spin {\n",
              "    0% {\n",
              "      border-color: transparent;\n",
              "      border-bottom-color: var(--fill-color);\n",
              "      border-left-color: var(--fill-color);\n",
              "    }\n",
              "    20% {\n",
              "      border-color: transparent;\n",
              "      border-left-color: var(--fill-color);\n",
              "      border-top-color: var(--fill-color);\n",
              "    }\n",
              "    30% {\n",
              "      border-color: transparent;\n",
              "      border-left-color: var(--fill-color);\n",
              "      border-top-color: var(--fill-color);\n",
              "      border-right-color: var(--fill-color);\n",
              "    }\n",
              "    40% {\n",
              "      border-color: transparent;\n",
              "      border-right-color: var(--fill-color);\n",
              "      border-top-color: var(--fill-color);\n",
              "    }\n",
              "    60% {\n",
              "      border-color: transparent;\n",
              "      border-right-color: var(--fill-color);\n",
              "    }\n",
              "    80% {\n",
              "      border-color: transparent;\n",
              "      border-right-color: var(--fill-color);\n",
              "      border-bottom-color: var(--fill-color);\n",
              "    }\n",
              "    90% {\n",
              "      border-color: transparent;\n",
              "      border-bottom-color: var(--fill-color);\n",
              "    }\n",
              "  }\n",
              "</style>\n",
              "\n",
              "  <script>\n",
              "    async function quickchart(key) {\n",
              "      const quickchartButtonEl =\n",
              "        document.querySelector('#' + key + ' button');\n",
              "      quickchartButtonEl.disabled = true;  // To prevent multiple clicks.\n",
              "      quickchartButtonEl.classList.add('colab-df-spinner');\n",
              "      try {\n",
              "        const charts = await google.colab.kernel.invokeFunction(\n",
              "            'suggestCharts', [key], {});\n",
              "      } catch (error) {\n",
              "        console.error('Error during call to suggestCharts:', error);\n",
              "      }\n",
              "      quickchartButtonEl.classList.remove('colab-df-spinner');\n",
              "      quickchartButtonEl.classList.add('colab-df-quickchart-complete');\n",
              "    }\n",
              "    (() => {\n",
              "      let quickchartButtonEl =\n",
              "        document.querySelector('#df-e4ec403b-64c0-4b98-b4de-a4a04474cdb4 button');\n",
              "      quickchartButtonEl.style.display =\n",
              "        google.colab.kernel.accessAllowed ? 'block' : 'none';\n",
              "    })();\n",
              "  </script>\n",
              "</div>\n",
              "\n",
              "    </div>\n",
              "  </div>\n"
            ],
            "application/vnd.google.colaboratory.intrinsic+json": {
              "type": "dataframe",
              "variable_name": "df_temp"
            }
          },
          "metadata": {},
          "execution_count": 44
        }
      ],
      "source": [
        "df_temp.head()"
      ]
    },
    {
      "cell_type": "code",
      "execution_count": null,
      "metadata": {
        "id": "FMH0mCjd0w_s"
      },
      "outputs": [],
      "source": [
        "# Create the favourite genre feature\n",
        "# Creatig feature Genres_list which is list of genres instead of a string\n",
        "df_temp['Genres_list'] = df_temp['Genres'].apply(lambda x: x.split('|'))\n",
        "\n",
        "# Explode the genres to have each genre in a separate row\n",
        "df_expanded = df_temp.explode('Genres_list')\n",
        "\n",
        "# Calculate the average rating and find highest\n",
        "user_genre_avg = df_expanded.groupby(['UserID', 'Genres_list'])['Rating'].mean().reset_index()\n",
        "favorite_genre = user_genre_avg.loc[user_genre_avg.groupby('UserID')['Rating'].idxmax()]\n",
        "\n",
        "# Rename and put in the dataframe\n",
        "favorite_genre.rename(columns={'Genres_list': 'Favourite_genre'}, inplace=True)\n",
        "df_temp = df_temp.merge(favorite_genre[['UserID', 'Favourite_genre']], on='UserID', how='left')\n",
        "\n",
        "# Remove genres_list\n",
        "df_temp = df_temp.drop(columns=\"Genres_list\")\n"
      ]
    },
    {
      "cell_type": "code",
      "source": [
        "# Create the new column with the time difference\n",
        "df_temp['Time_release_to_rating'] = df_temp['Year'] - df_temp['Release_year']\n",
        "\n",
        "# Creating total ratings per movie\n",
        "df_temp['Total_ratings_per_movie'] = df_temp.groupby('MovieID')['MovieID'].transform('count')\n",
        "\n",
        "# Create total ratings per user\n",
        "df_temp['Total_ratings_per_user'] = df_temp.groupby('UserID')['UserID'].transform('count')"
      ],
      "metadata": {
        "id": "OpFQthYy4KFL"
      },
      "execution_count": null,
      "outputs": []
    },
    {
      "cell_type": "markdown",
      "metadata": {
        "id": "K8TV7Uf_0w_t"
      },
      "source": [
        "# Encoding features"
      ]
    },
    {
      "cell_type": "code",
      "source": [
        "from google.colab import drive\n",
        "import pandas as pd\n",
        "# Load in the data\n",
        "drive.mount('/content/drive')\n",
        "df_final = pd.read_csv(\"/content/drive/My Drive/Thesis/Data/df_final.csv\")"
      ],
      "metadata": {
        "colab": {
          "base_uri": "https://localhost:8080/"
        },
        "id": "GCr2Ea8V2YPo",
        "outputId": "7268ce03-6963-41da-f284-f316f58192ac"
      },
      "execution_count": 3,
      "outputs": [
        {
          "output_type": "stream",
          "name": "stdout",
          "text": [
            "Drive already mounted at /content/drive; to attempt to forcibly remount, call drive.mount(\"/content/drive\", force_remount=True).\n"
          ]
        }
      ]
    },
    {
      "cell_type": "markdown",
      "metadata": {
        "id": "LPLHXsGZ0w_t"
      },
      "source": [
        "Need Encoding: Gender, Age (due to it being categorical), Occupation, Genres, Favourite_genre"
      ]
    },
    {
      "cell_type": "code",
      "execution_count": null,
      "metadata": {
        "id": "uKnU2uRL0w_t"
      },
      "outputs": [],
      "source": [
        "# One-hot encode Gender\n",
        "df_temp = pd.get_dummies(df_temp, columns=['Gender'], prefix='', prefix_sep='')\n",
        "df_temp.rename(columns={'F': 'Female', 'M': 'Male'}, inplace=True)"
      ]
    },
    {
      "cell_type": "code",
      "execution_count": null,
      "metadata": {
        "id": "2zcPYNYw0w_u"
      },
      "outputs": [],
      "source": [
        "# Label encode Age\n",
        "label_encoder = LabelEncoder()\n",
        "df_temp['Age'] = label_encoder.fit_transform(df_temp['Age'])"
      ]
    },
    {
      "cell_type": "code",
      "execution_count": null,
      "metadata": {
        "id": "muE1Nn5b0w_u"
      },
      "outputs": [],
      "source": [
        "# One-Hot encode Occupation\n",
        "df_temp = pd.get_dummies(df_temp, columns=['Occupation'], prefix='', prefix_sep='')"
      ]
    },
    {
      "cell_type": "code",
      "execution_count": null,
      "metadata": {
        "id": "phWyukkm0w_u"
      },
      "outputs": [],
      "source": [
        "# One-Hot encode Genres\n",
        "genres_split = df_temp['Genres'].str.get_dummies(sep='|').astype(bool)\n",
        "df_temp = pd.concat([df_temp.drop(columns=['Genres']), genres_split], axis=1)\n"
      ]
    },
    {
      "cell_type": "code",
      "execution_count": null,
      "metadata": {
        "id": "W71R87Gn0w_u"
      },
      "outputs": [],
      "source": [
        "# One-Hot encode Favourite Genre\n",
        "df_temp = pd.get_dummies(df_temp, columns=['Favourite_genre'], prefix='Favourite', prefix_sep='_')"
      ]
    },
    {
      "cell_type": "markdown",
      "source": [
        "Creating a subset of the dataframe due to resource constraints"
      ],
      "metadata": {
        "id": "zu2jyvG12pwg"
      }
    },
    {
      "cell_type": "code",
      "execution_count": null,
      "metadata": {
        "id": "Wi0q8clg0w_v"
      },
      "outputs": [],
      "source": [
        "# creating smaller dataset for improved effieciency\n",
        "from sklearn.model_selection import train_test_split\n",
        "df_sampled, _ = train_test_split(df_temp, test_size=0.6, stratify=df_temp[['Rating']])"
      ]
    },
    {
      "cell_type": "code",
      "source": [
        "# Create the new column with the time difference\n",
        "df_final['Time_release_to_rating'] = df_final['Year'] - df_final['Release_year']\n",
        "\n",
        "# Creating total ratings per movie\n",
        "df_final['Total_ratings_per_movie'] = df_final.groupby('MovieID')['MovieID'].transform('count')\n",
        "\n",
        "# Create total ratings per user\n",
        "df_final['Total_ratings_per_user'] = df_final.groupby('UserID')['UserID'].transform('count')\n"
      ],
      "metadata": {
        "id": "cbJ5cWMR3wcM"
      },
      "execution_count": null,
      "outputs": []
    },
    {
      "cell_type": "markdown",
      "metadata": {
        "id": "IX0gWAm20w_y"
      },
      "source": [
        "# Final check for missing values"
      ]
    },
    {
      "cell_type": "code",
      "execution_count": null,
      "metadata": {
        "id": "edc6bFWg0w_y",
        "outputId": "1c25f98b-f7c7-46f1-fc99-62de1e3c3d8e"
      },
      "outputs": [
        {
          "name": "stdout",
          "output_type": "stream",
          "text": [
            "UserID                0\n",
            "MovieID               0\n",
            "Rating                0\n",
            "Year                  0\n",
            "Month                 0\n",
            "                     ..\n",
            "Favourite_Romance     0\n",
            "Favourite_Sci-Fi      0\n",
            "Favourite_Thriller    0\n",
            "Favourite_War         0\n",
            "Favourite_Western     0\n",
            "Length: 73, dtype: int64\n"
          ]
        }
      ],
      "source": [
        "# Check for missing values (Null)\n",
        "missing_values_null = df_final.isnull().sum()\n",
        "print(missing_values_null)"
      ]
    },
    {
      "cell_type": "code",
      "execution_count": null,
      "metadata": {
        "id": "-33TiKHw0w_z",
        "outputId": "de6000db-d518-48d3-c822-e6f73f8c6eb7"
      },
      "outputs": [
        {
          "name": "stdout",
          "output_type": "stream",
          "text": [
            "UserID                0\n",
            "MovieID               0\n",
            "Rating                0\n",
            "Year                  0\n",
            "Month                 0\n",
            "                     ..\n",
            "Favourite_Romance     0\n",
            "Favourite_Sci-Fi      0\n",
            "Favourite_Thriller    0\n",
            "Favourite_War         0\n",
            "Favourite_Western     0\n",
            "Length: 73, dtype: int64\n"
          ]
        }
      ],
      "source": [
        "# Check for missing values (NaN or None)\n",
        "missing_values_NaN_None = df_final.isna().sum()\n",
        "print(missing_values_NaN_None)"
      ]
    },
    {
      "cell_type": "markdown",
      "metadata": {
        "id": "MnfJer150w_z"
      },
      "source": [
        "No missing values -> however, not every user rated every movie, could be considered missing values"
      ]
    },
    {
      "cell_type": "markdown",
      "metadata": {
        "id": "GHhxtjGy0w_z"
      },
      "source": [
        "# Saving the file"
      ]
    },
    {
      "cell_type": "code",
      "execution_count": null,
      "metadata": {
        "id": "QQf20yLX0w_z"
      },
      "outputs": [],
      "source": [
        "# Save df_final for model input - Feature engineered, encoded, scaled\n",
        "df_final.to_csv('/Users/femke/Documents/Uni/DSS/Thesis/Data/df_final.csv', index=False)"
      ]
    },
    {
      "cell_type": "markdown",
      "metadata": {
        "id": "SfeIGOqd0w_0"
      },
      "source": [
        "# OLD CODE\n"
      ]
    },
    {
      "cell_type": "code",
      "execution_count": null,
      "metadata": {
        "id": "9gpJHmxQ0w_0"
      },
      "outputs": [],
      "source": [
        "# Save file with time component, movie dummy\n",
        "df_expanded_movies.to_csv('/Users/femke/Documents/Uni/DSS/Thesis/Data/ml1m_df_expanded_movies.csv', index=False)"
      ]
    },
    {
      "cell_type": "code",
      "execution_count": null,
      "metadata": {
        "id": "juiryAzK0w_0"
      },
      "outputs": [],
      "source": [
        "# #OLD WAY TO GET TO df_expanded_movies_category and explore the movies dataset\n",
        "\n",
        "# # Splitting the release year from the title for movies dataset\n",
        "# movies['Release_year'] = movies.Title.str.extract(\"\\((\\d{4})\\)\", expand=True).astype(str)\n",
        "# movies['Release_year'] = pd.to_datetime(movies.Release_year, format='%Y')\n",
        "# movies['Release_year'] = movies.Release_year.dt.year\n",
        "# movies['Title'] = movies.Title.str[:-7]\n",
        "\n",
        "# # Separating the genres and creating the dummies\n",
        "# # Creating all unique genres\n",
        "# genres_unique = pd.DataFrame(movies.Genres.str.split('|').tolist()).stack().unique()\n",
        "# genres_unique = pd.DataFrame(genres_unique, columns=['Genre'])\n",
        "\n",
        "# # Remove old Genres column and get dummies\n",
        "# movies = movies.join(movies.Genres.str.get_dummies().astype(bool))\n",
        "# movies.drop('Genres', inplace=True, axis=1)\n",
        "\n",
        "# # Merge expanded movie dataset (with dummies) with ratings and user dataset\n",
        "# df_expanded_movies = pd.merge(ratings_plus_users, movies, on='MovieID')\n",
        "\n",
        "# # Creating time components in df_expanded_movies\n",
        "# df_expanded_movies['Timestamp'] = df_expanded_movies['Timestamp'].apply(datetime.fromtimestamp)\n",
        "# df_expanded_movies['Year'] = df_expanded_movies['Timestamp'].dt.year\n",
        "# df_expanded_movies['Month'] = df_expanded_movies['Timestamp'].dt.month\n",
        "# df_expanded_movies['Day'] = df_expanded_movies['Timestamp'].dt.day\n",
        "# df_expanded_movies['Hour'] = df_expanded_movies['Timestamp'].dt.hour\n",
        "\n",
        "# # Creating df_expanded_movies_category (Occupation and Age in full + movie dummy)\n",
        "\n",
        "# # Create a copy of the dataframe\n",
        "# df_expanded_movies_category = df_expanded_movies.copy()\n",
        "\n",
        "# # Change the names of the categories for the Age feature\n",
        "# age_mapping = {\n",
        "#     1: \"Under 18\", 18: \"18-24\", 25: \"25-34\", 35: \"35-44\",\n",
        "#     45: \"45-49\", 50: \"50-55\", 56: \"56+\"\n",
        "# }\n",
        "# df_expanded_movies_category['Age'] = df_expanded_movies_category['Age'].map(age_mapping)\n",
        "\n",
        "# # Change the names of the categories for the Occupation feature\n",
        "# occupation_mapping = {\n",
        "#     0: \"other or not specified\", 1: \"academic/educator\", 2: \"artist\",\n",
        "#     3: \"clerical/admin\", 4: \"college/grad student\", 5: \"customer service\",\n",
        "#     6: \"doctor/health care\", 7: \"executive/managerial\", 8: \"farmer\",\n",
        "#     9: \"homemaker\", 10: \"K-12 student\", 11: \"lawyer\", 12: \"programmer\",\n",
        "#     13: \"retired\", 14: \"sales/marketing\", 15: \"scientist\", 16: \"self-employed\",\n",
        "#     17: \"technician/engineer\", 18: \"tradesman/craftsman\", 19: \"unemployed\",\n",
        "#     20: \"writer\"\n",
        "# }\n",
        "# df_expanded_movies_category['Occupation'] = df_expanded_movies_category['Occupation'].map(occupation_mapping)\n",
        "\n",
        "# # Sorting df_expanded_movies_category\n",
        "# desired_columns = ['UserID', 'MovieID', 'Rating', 'Timestamp', 'Year', 'Month', 'Day', 'Hour','Gender', 'Age', 'Occupation', 'Zip-code',\n",
        "#                    'Title', 'Release_year', 'Action', 'Adventure', 'Animation', \"Children's\", 'Comedy', 'Crime',\n",
        "#                    'Documentary', 'Drama', 'Fantasy', 'Film-Noir', 'Horror', 'Musical', 'Mystery', 'Romance',\n",
        "#                    'Sci-Fi', 'Thriller', 'War', 'Western']\n",
        "\n",
        "# # Now, we can reorder the dataframe and drop the 'Timestamp' column\n",
        "# df_expanded_movies_category = df_expanded_movies_category[desired_columns]"
      ]
    },
    {
      "cell_type": "code",
      "execution_count": null,
      "metadata": {
        "id": "3DhW7so80w_0"
      },
      "outputs": [],
      "source": [
        "# Creating df_category (Occupation and Age in full for EDA purposes)\n",
        "\n",
        "# Create a copy of the dataframe\n",
        "df_category = df.copy()\n",
        "\n",
        "# Change the names of the categories for the Age feature\n",
        "age_mapping = {\n",
        "    1: \"Under 18\", 18: \"18-24\", 25: \"25-34\", 35: \"35-44\",\n",
        "    45: \"45-49\", 50: \"50-55\", 56: \"56+\"\n",
        "}\n",
        "df_category['Age'] = df_category['Age'].map(age_mapping)\n",
        "\n",
        "# Change the names of the categories for the Occupation feature\n",
        "occupation_mapping = {\n",
        "    0: \"Other or not specified\", 1: \"Academic/educator\", 2: \"Artist\",\n",
        "    3: \"Clerical/admin\", 4: \"College/grad student\", 5: \"Customer service\",\n",
        "    6: \"Doctor/health care\", 7: \"Executive/managerial\", 8: \"Farmer\",\n",
        "    9: \"Homemaker\", 10: \"K-12 student\", 11: \"Lawyer\", 12: \"Programmer\",\n",
        "    13: \"Retired\", 14: \"Sales/marketing\", 15: \"Scientist\", 16: \"Self-employed\",\n",
        "    17: \"Technician/engineer\", 18: \"Tradesman/craftsman\", 19: \"Unemployed\",\n",
        "    20: \"Writer\"\n",
        "}\n",
        "df_category['Occupation'] = df_category['Occupation'].map(occupation_mapping)"
      ]
    },
    {
      "cell_type": "code",
      "execution_count": null,
      "metadata": {
        "id": "a8obDwjW0w_1"
      },
      "outputs": [],
      "source": [
        "# Splitting the release year from the title and sorting the columns for df_category\n",
        "df_category['Release_year'] = df_category.Title.str.extract(\"\\((\\d{4})\\)\", expand=True).astype(str)\n",
        "df_category['Release_year'] = pd.to_datetime(df_category.Release_year, format='%Y')\n",
        "df_category['Release_year'] = df_category.Release_year.dt.year\n",
        "df_category['Title'] = df_category.Title.str[:-7]\n",
        "\n",
        "column_order = ['UserID', 'MovieID', 'Rating', 'Year', 'Month', 'Day', 'Hour','Gender', 'Age', 'Occupation',\n",
        "                'Title', 'Release_year', 'Genres']\n",
        "df_category = df_category[column_order]"
      ]
    },
    {
      "cell_type": "code",
      "execution_count": null,
      "metadata": {
        "id": "AW0j8XPK0w_1"
      },
      "outputs": [],
      "source": [
        "# Creating genre dummy for df_temp\n",
        "\n",
        "# Splitting the genres\n",
        "genres_split_2 = df_temp['Genres'].str.get_dummies(sep='|').astype(bool)\n",
        "\n",
        "# Concatenate the original dataframe with the genres dummy variables\n",
        "df_temp = pd.concat([df_temp.drop(columns=['Genres']), genres_split_2], axis=1)\n",
        "\n",
        "# Creating genre dummy for df_category -> df_expanded_movies_category (seperate df so it can be used for EDA purposes)\n",
        "\n",
        "# Splitting the genres\n",
        "genres_split = df_category['Genres'].str.get_dummies(sep='|').astype(bool)\n",
        "\n",
        "# Concatenate the original dataframe with the genres dummy variables\n",
        "df_expanded_movies_category = pd.concat([df_category.drop(columns=['Genres']), genres_split], axis=1)"
      ]
    },
    {
      "cell_type": "code",
      "execution_count": null,
      "metadata": {
        "id": "S6NuINeR0w_1"
      },
      "outputs": [],
      "source": [
        "# One-Hot encode Genres when it still was a string\n",
        "# Convert list to string with \"|\" separator\n",
        "df_temp['Genres'] = df_temp['Genres'].apply(lambda x: '|'.join(x))\n",
        "\n",
        "# Apply get_dummies to split the genres into binary columns\n",
        "genres_split = df_temp['Genres'].str.get_dummies(sep='|')\n",
        "\n",
        "# Concatenate the original dataframe with the genres dummy variables\n",
        "df_temp = pd.concat([df_temp.drop(columns=['Genres']), genres_split], axis=1)"
      ]
    },
    {
      "cell_type": "markdown",
      "source": [
        "# 30 OKTOBER TRY OUT OF ARTICLE"
      ],
      "metadata": {
        "id": "ew4umxUa0z0t"
      }
    },
    {
      "cell_type": "code",
      "source": [
        "# Google colab version\n",
        "from google.colab import drive\n",
        "drive.mount('/content/drive')"
      ],
      "metadata": {
        "colab": {
          "base_uri": "https://localhost:8080/"
        },
        "id": "WVlMGOcv1Yl3",
        "outputId": "ccbf8a63-c1a8-4076-c6df-8a3123671897"
      },
      "execution_count": null,
      "outputs": [
        {
          "output_type": "stream",
          "name": "stdout",
          "text": [
            "Mounted at /content/drive\n"
          ]
        }
      ]
    },
    {
      "cell_type": "code",
      "source": [
        "import pandas as pd\n",
        "\n",
        "# Define file paths\n",
        "ratings_file = '/content/drive/My Drive/Thesis/Data/ml-1m/ratings.dat'\n",
        "users_file = '/content/drive/My Drive/Thesis/Data/ml-1m/users.dat'\n",
        "movies_file = '/content/drive/My Drive/Thesis/Data/ml-1m/movies.dat'\n",
        "\n",
        "# Load datasets\n",
        "ratings = pd.read_csv(ratings_file, sep='::', header=None, names=['UserID', 'MovieID', 'Rating', 'Timestamp'], engine='python')\n",
        "users = pd.read_csv(users_file, sep='::', header=None, names=['UserID', 'Gender', 'Age', 'Occupation', 'Zip-code'], engine='python')\n",
        "movies = pd.read_csv(movies_file, sep='::', header=None, names=['MovieID', 'Title', 'Genres'], engine='python', encoding='ISO-8859-1')"
      ],
      "metadata": {
        "id": "tji1Cjw70zMw"
      },
      "execution_count": null,
      "outputs": []
    },
    {
      "cell_type": "code",
      "source": [
        "# Merge the seperate datasets\n",
        "ratings_plus_users = pd.merge(ratings, users, on='UserID')\n",
        "df = pd.merge(ratings_plus_users, movies, on='MovieID')"
      ],
      "metadata": {
        "id": "XdlxtdSD1i2b"
      },
      "execution_count": null,
      "outputs": []
    },
    {
      "cell_type": "code",
      "source": [
        "# Label encode Age on a scale of 1-7\n",
        "from sklearn.preprocessing import LabelEncoder\n",
        "label_encoder = LabelEncoder()\n",
        "df['Age'] = label_encoder.fit_transform(df['Age']) + 1"
      ],
      "metadata": {
        "id": "YZ6O_Wyq1pKv"
      },
      "execution_count": null,
      "outputs": []
    },
    {
      "cell_type": "code",
      "source": [
        "# Define your genre mapping dictionary\n",
        "genre_mapping = {\n",
        "    'Action': 1,\n",
        "    'Adventure': 2,\n",
        "    'Animation': 3,\n",
        "    'Children\\'s': 4,\n",
        "    'Comedy': 5,\n",
        "    'Crime': 6,\n",
        "    'Documentary': 7,\n",
        "    'Drama': 8,\n",
        "    'Fantasy': 9,\n",
        "    'Film-Noir': 10,\n",
        "    'Horror': 11,\n",
        "    'Musical': 12,\n",
        "    'Mystery': 13,\n",
        "    'Romance': 14,\n",
        "    'Sci-Fi': 15,\n",
        "    'Thriller': 16,\n",
        "    'War': 17,\n",
        "    'Western': 18\n",
        "}\n",
        "\n",
        "# Function to convert genre string to numerical list\n",
        "def convert_genres_to_numeric(genre_string):\n",
        "    genres = genre_string.split('|')\n",
        "    return [genre_mapping[genre] for genre in genres]\n",
        "\n",
        "# Apply the function to the 'Genres' column\n",
        "df['Genres_Numeric'] = df['Genres'].apply(convert_genres_to_numeric)\n",
        "\n"
      ],
      "metadata": {
        "id": "y2Q1FA3s4sx0"
      },
      "execution_count": null,
      "outputs": []
    },
    {
      "cell_type": "code",
      "source": [
        "# Create time component features\n",
        "df['Timestamp'] = df['Timestamp'].apply(datetime.fromtimestamp)\n",
        "df['Month'] = df['Timestamp'].dt.month\n",
        "df['Day'] = df['Timestamp'].dt.day\n",
        "df['Hour'] = df['Timestamp'].dt.hour\n",
        "\n",
        "# Removing the unnecessary features (Zip-code and timestamp)\n",
        "df = df.drop(columns=[\"Timestamp\", \"Zip-code\"])"
      ],
      "metadata": {
        "id": "4NGb5hNQ6aog"
      },
      "execution_count": null,
      "outputs": []
    },
    {
      "cell_type": "code",
      "source": [
        "# Create time features and sorting df_temp\n",
        "df['Release_year'] = df.Title.str.extract(\"\\((\\d{4})\\)\", expand=True).astype(str)\n",
        "df['Release_year'] = pd.to_datetime(df.Release_year, format='%Y')\n",
        "df['Release_year'] = df.Release_year.dt.year\n",
        "df['Title'] = df.Title.str[:-7]"
      ],
      "metadata": {
        "id": "ItNEk2ZM_2ND"
      },
      "execution_count": null,
      "outputs": []
    },
    {
      "cell_type": "code",
      "source": [
        "# One-hot encode Gender\n",
        "df = pd.get_dummies(df, columns=['Gender'], prefix='', prefix_sep='')\n",
        "df.rename(columns={'F': 'Female', 'M': 'Male'}, inplace=True)"
      ],
      "metadata": {
        "id": "eeeZ3rSBCgfO"
      },
      "execution_count": null,
      "outputs": []
    },
    {
      "cell_type": "code",
      "source": [
        "df = df.drop(columns='Title')"
      ],
      "metadata": {
        "id": "j_SCJooxAUFF"
      },
      "execution_count": null,
      "outputs": []
    },
    {
      "cell_type": "code",
      "source": [
        "df.head()"
      ],
      "metadata": {
        "colab": {
          "base_uri": "https://localhost:8080/",
          "height": 226
        },
        "id": "o_BuBluI_9g5",
        "outputId": "186320c6-7f10-4fda-fba7-0911f0456d37"
      },
      "execution_count": null,
      "outputs": [
        {
          "output_type": "execute_result",
          "data": {
            "text/plain": [
              "   UserID  MovieID  Rating  Age  Occupation                        Genres  \\\n",
              "0       1     1193       5    1          10                         Drama   \n",
              "1       1      661       3    1          10  Animation|Children's|Musical   \n",
              "2       1      914       3    1          10               Musical|Romance   \n",
              "3       1     3408       4    1          10                         Drama   \n",
              "4       1     2355       5    1          10   Animation|Children's|Comedy   \n",
              "\n",
              "  Genres_Numeric  Month  Day  Hour  Release_year  Female   Male  \n",
              "0            [8]     12   31    22          1975    True  False  \n",
              "1     [3, 4, 12]     12   31    22          1996    True  False  \n",
              "2       [12, 14]     12   31    22          1964    True  False  \n",
              "3            [8]     12   31    22          2000    True  False  \n",
              "4      [3, 4, 5]      1    6    23          1998    True  False  "
            ],
            "text/html": [
              "\n",
              "  <div id=\"df-e41b96db-bfe8-418a-b13e-3dd3b1ba5c78\" class=\"colab-df-container\">\n",
              "    <div>\n",
              "<style scoped>\n",
              "    .dataframe tbody tr th:only-of-type {\n",
              "        vertical-align: middle;\n",
              "    }\n",
              "\n",
              "    .dataframe tbody tr th {\n",
              "        vertical-align: top;\n",
              "    }\n",
              "\n",
              "    .dataframe thead th {\n",
              "        text-align: right;\n",
              "    }\n",
              "</style>\n",
              "<table border=\"1\" class=\"dataframe\">\n",
              "  <thead>\n",
              "    <tr style=\"text-align: right;\">\n",
              "      <th></th>\n",
              "      <th>UserID</th>\n",
              "      <th>MovieID</th>\n",
              "      <th>Rating</th>\n",
              "      <th>Age</th>\n",
              "      <th>Occupation</th>\n",
              "      <th>Genres</th>\n",
              "      <th>Genres_Numeric</th>\n",
              "      <th>Month</th>\n",
              "      <th>Day</th>\n",
              "      <th>Hour</th>\n",
              "      <th>Release_year</th>\n",
              "      <th>Female</th>\n",
              "      <th>Male</th>\n",
              "    </tr>\n",
              "  </thead>\n",
              "  <tbody>\n",
              "    <tr>\n",
              "      <th>0</th>\n",
              "      <td>1</td>\n",
              "      <td>1193</td>\n",
              "      <td>5</td>\n",
              "      <td>1</td>\n",
              "      <td>10</td>\n",
              "      <td>Drama</td>\n",
              "      <td>[8]</td>\n",
              "      <td>12</td>\n",
              "      <td>31</td>\n",
              "      <td>22</td>\n",
              "      <td>1975</td>\n",
              "      <td>True</td>\n",
              "      <td>False</td>\n",
              "    </tr>\n",
              "    <tr>\n",
              "      <th>1</th>\n",
              "      <td>1</td>\n",
              "      <td>661</td>\n",
              "      <td>3</td>\n",
              "      <td>1</td>\n",
              "      <td>10</td>\n",
              "      <td>Animation|Children's|Musical</td>\n",
              "      <td>[3, 4, 12]</td>\n",
              "      <td>12</td>\n",
              "      <td>31</td>\n",
              "      <td>22</td>\n",
              "      <td>1996</td>\n",
              "      <td>True</td>\n",
              "      <td>False</td>\n",
              "    </tr>\n",
              "    <tr>\n",
              "      <th>2</th>\n",
              "      <td>1</td>\n",
              "      <td>914</td>\n",
              "      <td>3</td>\n",
              "      <td>1</td>\n",
              "      <td>10</td>\n",
              "      <td>Musical|Romance</td>\n",
              "      <td>[12, 14]</td>\n",
              "      <td>12</td>\n",
              "      <td>31</td>\n",
              "      <td>22</td>\n",
              "      <td>1964</td>\n",
              "      <td>True</td>\n",
              "      <td>False</td>\n",
              "    </tr>\n",
              "    <tr>\n",
              "      <th>3</th>\n",
              "      <td>1</td>\n",
              "      <td>3408</td>\n",
              "      <td>4</td>\n",
              "      <td>1</td>\n",
              "      <td>10</td>\n",
              "      <td>Drama</td>\n",
              "      <td>[8]</td>\n",
              "      <td>12</td>\n",
              "      <td>31</td>\n",
              "      <td>22</td>\n",
              "      <td>2000</td>\n",
              "      <td>True</td>\n",
              "      <td>False</td>\n",
              "    </tr>\n",
              "    <tr>\n",
              "      <th>4</th>\n",
              "      <td>1</td>\n",
              "      <td>2355</td>\n",
              "      <td>5</td>\n",
              "      <td>1</td>\n",
              "      <td>10</td>\n",
              "      <td>Animation|Children's|Comedy</td>\n",
              "      <td>[3, 4, 5]</td>\n",
              "      <td>1</td>\n",
              "      <td>6</td>\n",
              "      <td>23</td>\n",
              "      <td>1998</td>\n",
              "      <td>True</td>\n",
              "      <td>False</td>\n",
              "    </tr>\n",
              "  </tbody>\n",
              "</table>\n",
              "</div>\n",
              "    <div class=\"colab-df-buttons\">\n",
              "\n",
              "  <div class=\"colab-df-container\">\n",
              "    <button class=\"colab-df-convert\" onclick=\"convertToInteractive('df-e41b96db-bfe8-418a-b13e-3dd3b1ba5c78')\"\n",
              "            title=\"Convert this dataframe to an interactive table.\"\n",
              "            style=\"display:none;\">\n",
              "\n",
              "  <svg xmlns=\"http://www.w3.org/2000/svg\" height=\"24px\" viewBox=\"0 -960 960 960\">\n",
              "    <path d=\"M120-120v-720h720v720H120Zm60-500h600v-160H180v160Zm220 220h160v-160H400v160Zm0 220h160v-160H400v160ZM180-400h160v-160H180v160Zm440 0h160v-160H620v160ZM180-180h160v-160H180v160Zm440 0h160v-160H620v160Z\"/>\n",
              "  </svg>\n",
              "    </button>\n",
              "\n",
              "  <style>\n",
              "    .colab-df-container {\n",
              "      display:flex;\n",
              "      gap: 12px;\n",
              "    }\n",
              "\n",
              "    .colab-df-convert {\n",
              "      background-color: #E8F0FE;\n",
              "      border: none;\n",
              "      border-radius: 50%;\n",
              "      cursor: pointer;\n",
              "      display: none;\n",
              "      fill: #1967D2;\n",
              "      height: 32px;\n",
              "      padding: 0 0 0 0;\n",
              "      width: 32px;\n",
              "    }\n",
              "\n",
              "    .colab-df-convert:hover {\n",
              "      background-color: #E2EBFA;\n",
              "      box-shadow: 0px 1px 2px rgba(60, 64, 67, 0.3), 0px 1px 3px 1px rgba(60, 64, 67, 0.15);\n",
              "      fill: #174EA6;\n",
              "    }\n",
              "\n",
              "    .colab-df-buttons div {\n",
              "      margin-bottom: 4px;\n",
              "    }\n",
              "\n",
              "    [theme=dark] .colab-df-convert {\n",
              "      background-color: #3B4455;\n",
              "      fill: #D2E3FC;\n",
              "    }\n",
              "\n",
              "    [theme=dark] .colab-df-convert:hover {\n",
              "      background-color: #434B5C;\n",
              "      box-shadow: 0px 1px 3px 1px rgba(0, 0, 0, 0.15);\n",
              "      filter: drop-shadow(0px 1px 2px rgba(0, 0, 0, 0.3));\n",
              "      fill: #FFFFFF;\n",
              "    }\n",
              "  </style>\n",
              "\n",
              "    <script>\n",
              "      const buttonEl =\n",
              "        document.querySelector('#df-e41b96db-bfe8-418a-b13e-3dd3b1ba5c78 button.colab-df-convert');\n",
              "      buttonEl.style.display =\n",
              "        google.colab.kernel.accessAllowed ? 'block' : 'none';\n",
              "\n",
              "      async function convertToInteractive(key) {\n",
              "        const element = document.querySelector('#df-e41b96db-bfe8-418a-b13e-3dd3b1ba5c78');\n",
              "        const dataTable =\n",
              "          await google.colab.kernel.invokeFunction('convertToInteractive',\n",
              "                                                    [key], {});\n",
              "        if (!dataTable) return;\n",
              "\n",
              "        const docLinkHtml = 'Like what you see? Visit the ' +\n",
              "          '<a target=\"_blank\" href=https://colab.research.google.com/notebooks/data_table.ipynb>data table notebook</a>'\n",
              "          + ' to learn more about interactive tables.';\n",
              "        element.innerHTML = '';\n",
              "        dataTable['output_type'] = 'display_data';\n",
              "        await google.colab.output.renderOutput(dataTable, element);\n",
              "        const docLink = document.createElement('div');\n",
              "        docLink.innerHTML = docLinkHtml;\n",
              "        element.appendChild(docLink);\n",
              "      }\n",
              "    </script>\n",
              "  </div>\n",
              "\n",
              "\n",
              "<div id=\"df-aac46f96-ad85-4ac6-b70b-1d0e259f0c47\">\n",
              "  <button class=\"colab-df-quickchart\" onclick=\"quickchart('df-aac46f96-ad85-4ac6-b70b-1d0e259f0c47')\"\n",
              "            title=\"Suggest charts\"\n",
              "            style=\"display:none;\">\n",
              "\n",
              "<svg xmlns=\"http://www.w3.org/2000/svg\" height=\"24px\"viewBox=\"0 0 24 24\"\n",
              "     width=\"24px\">\n",
              "    <g>\n",
              "        <path d=\"M19 3H5c-1.1 0-2 .9-2 2v14c0 1.1.9 2 2 2h14c1.1 0 2-.9 2-2V5c0-1.1-.9-2-2-2zM9 17H7v-7h2v7zm4 0h-2V7h2v10zm4 0h-2v-4h2v4z\"/>\n",
              "    </g>\n",
              "</svg>\n",
              "  </button>\n",
              "\n",
              "<style>\n",
              "  .colab-df-quickchart {\n",
              "      --bg-color: #E8F0FE;\n",
              "      --fill-color: #1967D2;\n",
              "      --hover-bg-color: #E2EBFA;\n",
              "      --hover-fill-color: #174EA6;\n",
              "      --disabled-fill-color: #AAA;\n",
              "      --disabled-bg-color: #DDD;\n",
              "  }\n",
              "\n",
              "  [theme=dark] .colab-df-quickchart {\n",
              "      --bg-color: #3B4455;\n",
              "      --fill-color: #D2E3FC;\n",
              "      --hover-bg-color: #434B5C;\n",
              "      --hover-fill-color: #FFFFFF;\n",
              "      --disabled-bg-color: #3B4455;\n",
              "      --disabled-fill-color: #666;\n",
              "  }\n",
              "\n",
              "  .colab-df-quickchart {\n",
              "    background-color: var(--bg-color);\n",
              "    border: none;\n",
              "    border-radius: 50%;\n",
              "    cursor: pointer;\n",
              "    display: none;\n",
              "    fill: var(--fill-color);\n",
              "    height: 32px;\n",
              "    padding: 0;\n",
              "    width: 32px;\n",
              "  }\n",
              "\n",
              "  .colab-df-quickchart:hover {\n",
              "    background-color: var(--hover-bg-color);\n",
              "    box-shadow: 0 1px 2px rgba(60, 64, 67, 0.3), 0 1px 3px 1px rgba(60, 64, 67, 0.15);\n",
              "    fill: var(--button-hover-fill-color);\n",
              "  }\n",
              "\n",
              "  .colab-df-quickchart-complete:disabled,\n",
              "  .colab-df-quickchart-complete:disabled:hover {\n",
              "    background-color: var(--disabled-bg-color);\n",
              "    fill: var(--disabled-fill-color);\n",
              "    box-shadow: none;\n",
              "  }\n",
              "\n",
              "  .colab-df-spinner {\n",
              "    border: 2px solid var(--fill-color);\n",
              "    border-color: transparent;\n",
              "    border-bottom-color: var(--fill-color);\n",
              "    animation:\n",
              "      spin 1s steps(1) infinite;\n",
              "  }\n",
              "\n",
              "  @keyframes spin {\n",
              "    0% {\n",
              "      border-color: transparent;\n",
              "      border-bottom-color: var(--fill-color);\n",
              "      border-left-color: var(--fill-color);\n",
              "    }\n",
              "    20% {\n",
              "      border-color: transparent;\n",
              "      border-left-color: var(--fill-color);\n",
              "      border-top-color: var(--fill-color);\n",
              "    }\n",
              "    30% {\n",
              "      border-color: transparent;\n",
              "      border-left-color: var(--fill-color);\n",
              "      border-top-color: var(--fill-color);\n",
              "      border-right-color: var(--fill-color);\n",
              "    }\n",
              "    40% {\n",
              "      border-color: transparent;\n",
              "      border-right-color: var(--fill-color);\n",
              "      border-top-color: var(--fill-color);\n",
              "    }\n",
              "    60% {\n",
              "      border-color: transparent;\n",
              "      border-right-color: var(--fill-color);\n",
              "    }\n",
              "    80% {\n",
              "      border-color: transparent;\n",
              "      border-right-color: var(--fill-color);\n",
              "      border-bottom-color: var(--fill-color);\n",
              "    }\n",
              "    90% {\n",
              "      border-color: transparent;\n",
              "      border-bottom-color: var(--fill-color);\n",
              "    }\n",
              "  }\n",
              "</style>\n",
              "\n",
              "  <script>\n",
              "    async function quickchart(key) {\n",
              "      const quickchartButtonEl =\n",
              "        document.querySelector('#' + key + ' button');\n",
              "      quickchartButtonEl.disabled = true;  // To prevent multiple clicks.\n",
              "      quickchartButtonEl.classList.add('colab-df-spinner');\n",
              "      try {\n",
              "        const charts = await google.colab.kernel.invokeFunction(\n",
              "            'suggestCharts', [key], {});\n",
              "      } catch (error) {\n",
              "        console.error('Error during call to suggestCharts:', error);\n",
              "      }\n",
              "      quickchartButtonEl.classList.remove('colab-df-spinner');\n",
              "      quickchartButtonEl.classList.add('colab-df-quickchart-complete');\n",
              "    }\n",
              "    (() => {\n",
              "      let quickchartButtonEl =\n",
              "        document.querySelector('#df-aac46f96-ad85-4ac6-b70b-1d0e259f0c47 button');\n",
              "      quickchartButtonEl.style.display =\n",
              "        google.colab.kernel.accessAllowed ? 'block' : 'none';\n",
              "    })();\n",
              "  </script>\n",
              "</div>\n",
              "\n",
              "    </div>\n",
              "  </div>\n"
            ],
            "application/vnd.google.colaboratory.intrinsic+json": {
              "type": "dataframe",
              "variable_name": "df"
            }
          },
          "metadata": {},
          "execution_count": 33
        }
      ]
    },
    {
      "cell_type": "code",
      "source": [
        "# creating smaller dataset for improved effieciency\n",
        "from sklearn.model_selection import train_test_split\n",
        "df_sampled, _ = train_test_split(df, test_size=0.6, stratify=df[['Rating']])"
      ],
      "metadata": {
        "id": "8eLU3zDzBpHM"
      },
      "execution_count": null,
      "outputs": []
    }
  ],
  "metadata": {
    "kernelspec": {
      "display_name": "Python 3",
      "name": "python3"
    },
    "language_info": {
      "name": "python"
    },
    "colab": {
      "provenance": [],
      "machine_shape": "hm",
      "gpuType": "V28"
    },
    "accelerator": "TPU"
  },
  "nbformat": 4,
  "nbformat_minor": 0
}