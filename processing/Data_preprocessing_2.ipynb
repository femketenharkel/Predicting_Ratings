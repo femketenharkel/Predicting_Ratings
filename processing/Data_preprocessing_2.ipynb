{
  "cells": [
    {
      "cell_type": "code",
      "execution_count": 1,
      "metadata": {
        "id": "99MEE4Jz0w_j"
      },
      "outputs": [],
      "source": [
        "import pandas as pd\n",
        "from datetime import datetime\n",
        "from sklearn.preprocessing import LabelEncoder\n",
        "from sklearn.preprocessing import StandardScaler\n"
      ]
    },
    {
      "cell_type": "markdown",
      "metadata": {
        "id": "LKNZKwor0w_n"
      },
      "source": [
        "# Loading in the data"
      ]
    },
    {
      "cell_type": "code",
      "source": [
        "from google.colab import drive\n",
        "import pandas as pd\n",
        "# Load in the data\n",
        "drive.mount('/content/drive')"
      ],
      "metadata": {
        "id": "ifoOcv2icevh",
        "outputId": "74c15f0c-4b44-4054-e849-0c2d1c1a2796",
        "colab": {
          "base_uri": "https://localhost:8080/"
        }
      },
      "execution_count": 3,
      "outputs": [
        {
          "output_type": "stream",
          "name": "stdout",
          "text": [
            "Mounted at /content/drive\n"
          ]
        }
      ]
    },
    {
      "cell_type": "code",
      "execution_count": 6,
      "metadata": {
        "id": "V8w4wGum0w_o"
      },
      "outputs": [],
      "source": [
        "# Load seperate datasets\n",
        "# Define file paths\n",
        "ratings_file = '/content/drive/My Drive/Thesis/Data/ml-1m/ratings.dat'\n",
        "users_file = '/content/drive/My Drive/Thesis/Data/ml-1m/users.dat'\n",
        "movies_file = '/content/drive/My Drive/Thesis/Data/ml-1m/movies.dat'\n",
        "\n",
        "# Load datasets\n",
        "ratings = pd.read_csv(ratings_file, sep='::', header=None, names=['UserID', 'MovieID', 'Rating', 'Timestamp'], engine='python')\n",
        "users = pd.read_csv(users_file, sep='::', header=None, names=['UserID', 'Gender', 'Age', 'Occupation', 'Zip-code'], engine='python')\n",
        "movies = pd.read_csv(movies_file, sep='::', header=None, names=['MovieID', 'Title', 'Genres'], engine='python', encoding='ISO-8859-1')"
      ]
    },
    {
      "cell_type": "code",
      "execution_count": 22,
      "metadata": {
        "id": "OGp9LnWG0w_o"
      },
      "outputs": [],
      "source": [
        "# Merge the seperate datasets\n",
        "ratings_plus_users = pd.merge(ratings, users, on='UserID')\n",
        "df = pd.merge(ratings_plus_users, movies, on='MovieID')"
      ]
    },
    {
      "cell_type": "markdown",
      "metadata": {
        "id": "S1GqncPE0w_p"
      },
      "source": [
        "# Feature Engineering"
      ]
    },
    {
      "cell_type": "code",
      "execution_count": 23,
      "metadata": {
        "id": "1nmwveKA0w_p"
      },
      "outputs": [],
      "source": [
        "# Create time component features\n",
        "df['Timestamp'] = df['Timestamp'].apply(datetime.fromtimestamp)\n",
        "df['Year'] = df['Timestamp'].dt.year\n",
        "df['Month'] = df['Timestamp'].dt.month\n",
        "df['Day'] = df['Timestamp'].dt.day\n",
        "df['Hour'] = df['Timestamp'].dt.hour\n",
        "\n",
        "# Removing the unnecessary features (Zip-code and timestamp)\n",
        "df = df.drop(columns=[\"Timestamp\", \"Zip-code\"])"
      ]
    },
    {
      "cell_type": "code",
      "source": [
        "# Use temporary dataframe for calculations etc.\n",
        "df_temp = df.copy()"
      ],
      "metadata": {
        "id": "5bTCRegMGKC8"
      },
      "execution_count": 24,
      "outputs": []
    },
    {
      "cell_type": "code",
      "execution_count": 25,
      "metadata": {
        "id": "OqTLA9_k0w_p"
      },
      "outputs": [],
      "source": [
        "# Change occupation labels for one-hot encoding later on\n",
        "occupation_mapping = {\n",
        "    0: \"Other or not specified\", 1: \"Academic/educator\", 2: \"Artist\",\n",
        "    3: \"Clerical/admin\", 4: \"College/grad student\", 5: \"Customer service\",\n",
        "    6: \"Doctor/health care\", 7: \"Executive/managerial\", 8: \"Farmer\",\n",
        "    9: \"Homemaker\", 10: \"K-12 student\", 11: \"Lawyer\", 12: \"Programmer\",\n",
        "    13: \"Retired\", 14: \"Sales/marketing\", 15: \"Scientist\", 16: \"Self-employed\",\n",
        "    17: \"Technician/engineer\", 18: \"Tradesman/craftsman\", 19: \"Unemployed\",\n",
        "    20: \"Writer\"\n",
        "}\n",
        "\n",
        "df_temp['Occupation'] = df_temp['Occupation'].map(occupation_mapping)"
      ]
    },
    {
      "cell_type": "code",
      "execution_count": 26,
      "metadata": {
        "id": "1crFi-1L0w_q"
      },
      "outputs": [],
      "source": [
        "# Create time features and sorting df_temp\n",
        "df_temp['Release_year'] = df_temp.Title.str.extract(\"\\((\\d{4})\\)\", expand=True).astype(str)\n",
        "df_temp['Release_year'] = pd.to_datetime(df_temp.Release_year, format='%Y')\n",
        "df_temp['Release_year'] = df_temp.Release_year.dt.year\n",
        "df_temp['Title'] = df_temp.Title.str[:-7]"
      ]
    },
    {
      "cell_type": "code",
      "execution_count": 27,
      "metadata": {
        "id": "Ayh_f4v_0w_q"
      },
      "outputs": [],
      "source": [
        "# Remove Title column (will be identified by MovieID)\n",
        "df_temp = df_temp.drop(columns='Title')"
      ]
    },
    {
      "cell_type": "code",
      "execution_count": 29,
      "metadata": {
        "id": "FMH0mCjd0w_s"
      },
      "outputs": [],
      "source": [
        "# Create the favourite genre feature\n",
        "# Creatig feature Genres_list which is list of genres instead of a string\n",
        "df_temp['Genres_list'] = df_temp['Genres'].apply(lambda x: x.split('|'))\n",
        "\n",
        "# Explode the genres to have each genre in a separate row\n",
        "df_expanded = df_temp.explode('Genres_list')\n",
        "\n",
        "# Calculate the average rating and find highest\n",
        "user_genre_avg = df_expanded.groupby(['UserID', 'Genres_list'])['Rating'].mean().reset_index()\n",
        "favorite_genre = user_genre_avg.loc[user_genre_avg.groupby('UserID')['Rating'].idxmax()]\n",
        "\n",
        "# Rename and put in the dataframe\n",
        "favorite_genre.rename(columns={'Genres_list': 'Favourite_genre'}, inplace=True)\n",
        "df_temp = df_temp.merge(favorite_genre[['UserID', 'Favourite_genre']], on='UserID', how='left')\n",
        "\n",
        "# Remove genres_list\n",
        "df_temp = df_temp.drop(columns=\"Genres_list\")\n"
      ]
    },
    {
      "cell_type": "code",
      "source": [
        "# Create the new column with the time difference\n",
        "df_temp['Time_release_to_rating'] = df_temp['Year'] - df_temp['Release_year']\n",
        "\n",
        "# Creating total ratings per movie\n",
        "df_temp['Total_ratings_per_movie'] = df_temp.groupby('MovieID')['MovieID'].transform('count')\n",
        "\n",
        "# Create total ratings per user\n",
        "df_temp['Total_ratings_per_user'] = df_temp.groupby('UserID')['UserID'].transform('count')"
      ],
      "metadata": {
        "id": "OpFQthYy4KFL"
      },
      "execution_count": 30,
      "outputs": []
    },
    {
      "cell_type": "code",
      "source": [
        "df_temp.head()"
      ],
      "metadata": {
        "id": "mMywDyTcdoM1",
        "outputId": "3385fb21-2844-40c6-c5f0-afc67d1a8ebc",
        "colab": {
          "base_uri": "https://localhost:8080/",
          "height": 226
        }
      },
      "execution_count": 31,
      "outputs": [
        {
          "output_type": "execute_result",
          "data": {
            "text/plain": [
              "   UserID  MovieID  Rating Gender  Age    Occupation  \\\n",
              "0       1     1193       5      F    1  K-12 student   \n",
              "1       1      661       3      F    1  K-12 student   \n",
              "2       1      914       3      F    1  K-12 student   \n",
              "3       1     3408       4      F    1  K-12 student   \n",
              "4       1     2355       5      F    1  K-12 student   \n",
              "\n",
              "                         Genres  Year  Month  Day  Hour  Release_year  \\\n",
              "0                         Drama  2000     12   31    22          1975   \n",
              "1  Animation|Children's|Musical  2000     12   31    22          1996   \n",
              "2               Musical|Romance  2000     12   31    22          1964   \n",
              "3                         Drama  2000     12   31    22          2000   \n",
              "4   Animation|Children's|Comedy  2001      1    6    23          1998   \n",
              "\n",
              "  Favourite_genre  Time_release_to_rating  Total_ratings_per_movie  \\\n",
              "0             War                      25                     1725   \n",
              "1             War                       4                      525   \n",
              "2             War                      36                      636   \n",
              "3             War                       0                     1315   \n",
              "4             War                       3                     1703   \n",
              "\n",
              "   Total_ratings_per_user  \n",
              "0                      53  \n",
              "1                      53  \n",
              "2                      53  \n",
              "3                      53  \n",
              "4                      53  "
            ],
            "text/html": [
              "\n",
              "  <div id=\"df-0a28ce10-2fa2-4b41-bd48-f770cd43d299\" class=\"colab-df-container\">\n",
              "    <div>\n",
              "<style scoped>\n",
              "    .dataframe tbody tr th:only-of-type {\n",
              "        vertical-align: middle;\n",
              "    }\n",
              "\n",
              "    .dataframe tbody tr th {\n",
              "        vertical-align: top;\n",
              "    }\n",
              "\n",
              "    .dataframe thead th {\n",
              "        text-align: right;\n",
              "    }\n",
              "</style>\n",
              "<table border=\"1\" class=\"dataframe\">\n",
              "  <thead>\n",
              "    <tr style=\"text-align: right;\">\n",
              "      <th></th>\n",
              "      <th>UserID</th>\n",
              "      <th>MovieID</th>\n",
              "      <th>Rating</th>\n",
              "      <th>Gender</th>\n",
              "      <th>Age</th>\n",
              "      <th>Occupation</th>\n",
              "      <th>Genres</th>\n",
              "      <th>Year</th>\n",
              "      <th>Month</th>\n",
              "      <th>Day</th>\n",
              "      <th>Hour</th>\n",
              "      <th>Release_year</th>\n",
              "      <th>Favourite_genre</th>\n",
              "      <th>Time_release_to_rating</th>\n",
              "      <th>Total_ratings_per_movie</th>\n",
              "      <th>Total_ratings_per_user</th>\n",
              "    </tr>\n",
              "  </thead>\n",
              "  <tbody>\n",
              "    <tr>\n",
              "      <th>0</th>\n",
              "      <td>1</td>\n",
              "      <td>1193</td>\n",
              "      <td>5</td>\n",
              "      <td>F</td>\n",
              "      <td>1</td>\n",
              "      <td>K-12 student</td>\n",
              "      <td>Drama</td>\n",
              "      <td>2000</td>\n",
              "      <td>12</td>\n",
              "      <td>31</td>\n",
              "      <td>22</td>\n",
              "      <td>1975</td>\n",
              "      <td>War</td>\n",
              "      <td>25</td>\n",
              "      <td>1725</td>\n",
              "      <td>53</td>\n",
              "    </tr>\n",
              "    <tr>\n",
              "      <th>1</th>\n",
              "      <td>1</td>\n",
              "      <td>661</td>\n",
              "      <td>3</td>\n",
              "      <td>F</td>\n",
              "      <td>1</td>\n",
              "      <td>K-12 student</td>\n",
              "      <td>Animation|Children's|Musical</td>\n",
              "      <td>2000</td>\n",
              "      <td>12</td>\n",
              "      <td>31</td>\n",
              "      <td>22</td>\n",
              "      <td>1996</td>\n",
              "      <td>War</td>\n",
              "      <td>4</td>\n",
              "      <td>525</td>\n",
              "      <td>53</td>\n",
              "    </tr>\n",
              "    <tr>\n",
              "      <th>2</th>\n",
              "      <td>1</td>\n",
              "      <td>914</td>\n",
              "      <td>3</td>\n",
              "      <td>F</td>\n",
              "      <td>1</td>\n",
              "      <td>K-12 student</td>\n",
              "      <td>Musical|Romance</td>\n",
              "      <td>2000</td>\n",
              "      <td>12</td>\n",
              "      <td>31</td>\n",
              "      <td>22</td>\n",
              "      <td>1964</td>\n",
              "      <td>War</td>\n",
              "      <td>36</td>\n",
              "      <td>636</td>\n",
              "      <td>53</td>\n",
              "    </tr>\n",
              "    <tr>\n",
              "      <th>3</th>\n",
              "      <td>1</td>\n",
              "      <td>3408</td>\n",
              "      <td>4</td>\n",
              "      <td>F</td>\n",
              "      <td>1</td>\n",
              "      <td>K-12 student</td>\n",
              "      <td>Drama</td>\n",
              "      <td>2000</td>\n",
              "      <td>12</td>\n",
              "      <td>31</td>\n",
              "      <td>22</td>\n",
              "      <td>2000</td>\n",
              "      <td>War</td>\n",
              "      <td>0</td>\n",
              "      <td>1315</td>\n",
              "      <td>53</td>\n",
              "    </tr>\n",
              "    <tr>\n",
              "      <th>4</th>\n",
              "      <td>1</td>\n",
              "      <td>2355</td>\n",
              "      <td>5</td>\n",
              "      <td>F</td>\n",
              "      <td>1</td>\n",
              "      <td>K-12 student</td>\n",
              "      <td>Animation|Children's|Comedy</td>\n",
              "      <td>2001</td>\n",
              "      <td>1</td>\n",
              "      <td>6</td>\n",
              "      <td>23</td>\n",
              "      <td>1998</td>\n",
              "      <td>War</td>\n",
              "      <td>3</td>\n",
              "      <td>1703</td>\n",
              "      <td>53</td>\n",
              "    </tr>\n",
              "  </tbody>\n",
              "</table>\n",
              "</div>\n",
              "    <div class=\"colab-df-buttons\">\n",
              "\n",
              "  <div class=\"colab-df-container\">\n",
              "    <button class=\"colab-df-convert\" onclick=\"convertToInteractive('df-0a28ce10-2fa2-4b41-bd48-f770cd43d299')\"\n",
              "            title=\"Convert this dataframe to an interactive table.\"\n",
              "            style=\"display:none;\">\n",
              "\n",
              "  <svg xmlns=\"http://www.w3.org/2000/svg\" height=\"24px\" viewBox=\"0 -960 960 960\">\n",
              "    <path d=\"M120-120v-720h720v720H120Zm60-500h600v-160H180v160Zm220 220h160v-160H400v160Zm0 220h160v-160H400v160ZM180-400h160v-160H180v160Zm440 0h160v-160H620v160ZM180-180h160v-160H180v160Zm440 0h160v-160H620v160Z\"/>\n",
              "  </svg>\n",
              "    </button>\n",
              "\n",
              "  <style>\n",
              "    .colab-df-container {\n",
              "      display:flex;\n",
              "      gap: 12px;\n",
              "    }\n",
              "\n",
              "    .colab-df-convert {\n",
              "      background-color: #E8F0FE;\n",
              "      border: none;\n",
              "      border-radius: 50%;\n",
              "      cursor: pointer;\n",
              "      display: none;\n",
              "      fill: #1967D2;\n",
              "      height: 32px;\n",
              "      padding: 0 0 0 0;\n",
              "      width: 32px;\n",
              "    }\n",
              "\n",
              "    .colab-df-convert:hover {\n",
              "      background-color: #E2EBFA;\n",
              "      box-shadow: 0px 1px 2px rgba(60, 64, 67, 0.3), 0px 1px 3px 1px rgba(60, 64, 67, 0.15);\n",
              "      fill: #174EA6;\n",
              "    }\n",
              "\n",
              "    .colab-df-buttons div {\n",
              "      margin-bottom: 4px;\n",
              "    }\n",
              "\n",
              "    [theme=dark] .colab-df-convert {\n",
              "      background-color: #3B4455;\n",
              "      fill: #D2E3FC;\n",
              "    }\n",
              "\n",
              "    [theme=dark] .colab-df-convert:hover {\n",
              "      background-color: #434B5C;\n",
              "      box-shadow: 0px 1px 3px 1px rgba(0, 0, 0, 0.15);\n",
              "      filter: drop-shadow(0px 1px 2px rgba(0, 0, 0, 0.3));\n",
              "      fill: #FFFFFF;\n",
              "    }\n",
              "  </style>\n",
              "\n",
              "    <script>\n",
              "      const buttonEl =\n",
              "        document.querySelector('#df-0a28ce10-2fa2-4b41-bd48-f770cd43d299 button.colab-df-convert');\n",
              "      buttonEl.style.display =\n",
              "        google.colab.kernel.accessAllowed ? 'block' : 'none';\n",
              "\n",
              "      async function convertToInteractive(key) {\n",
              "        const element = document.querySelector('#df-0a28ce10-2fa2-4b41-bd48-f770cd43d299');\n",
              "        const dataTable =\n",
              "          await google.colab.kernel.invokeFunction('convertToInteractive',\n",
              "                                                    [key], {});\n",
              "        if (!dataTable) return;\n",
              "\n",
              "        const docLinkHtml = 'Like what you see? Visit the ' +\n",
              "          '<a target=\"_blank\" href=https://colab.research.google.com/notebooks/data_table.ipynb>data table notebook</a>'\n",
              "          + ' to learn more about interactive tables.';\n",
              "        element.innerHTML = '';\n",
              "        dataTable['output_type'] = 'display_data';\n",
              "        await google.colab.output.renderOutput(dataTable, element);\n",
              "        const docLink = document.createElement('div');\n",
              "        docLink.innerHTML = docLinkHtml;\n",
              "        element.appendChild(docLink);\n",
              "      }\n",
              "    </script>\n",
              "  </div>\n",
              "\n",
              "\n",
              "<div id=\"df-10a3d4ae-d3c4-4492-b78a-3ada7a7295f7\">\n",
              "  <button class=\"colab-df-quickchart\" onclick=\"quickchart('df-10a3d4ae-d3c4-4492-b78a-3ada7a7295f7')\"\n",
              "            title=\"Suggest charts\"\n",
              "            style=\"display:none;\">\n",
              "\n",
              "<svg xmlns=\"http://www.w3.org/2000/svg\" height=\"24px\"viewBox=\"0 0 24 24\"\n",
              "     width=\"24px\">\n",
              "    <g>\n",
              "        <path d=\"M19 3H5c-1.1 0-2 .9-2 2v14c0 1.1.9 2 2 2h14c1.1 0 2-.9 2-2V5c0-1.1-.9-2-2-2zM9 17H7v-7h2v7zm4 0h-2V7h2v10zm4 0h-2v-4h2v4z\"/>\n",
              "    </g>\n",
              "</svg>\n",
              "  </button>\n",
              "\n",
              "<style>\n",
              "  .colab-df-quickchart {\n",
              "      --bg-color: #E8F0FE;\n",
              "      --fill-color: #1967D2;\n",
              "      --hover-bg-color: #E2EBFA;\n",
              "      --hover-fill-color: #174EA6;\n",
              "      --disabled-fill-color: #AAA;\n",
              "      --disabled-bg-color: #DDD;\n",
              "  }\n",
              "\n",
              "  [theme=dark] .colab-df-quickchart {\n",
              "      --bg-color: #3B4455;\n",
              "      --fill-color: #D2E3FC;\n",
              "      --hover-bg-color: #434B5C;\n",
              "      --hover-fill-color: #FFFFFF;\n",
              "      --disabled-bg-color: #3B4455;\n",
              "      --disabled-fill-color: #666;\n",
              "  }\n",
              "\n",
              "  .colab-df-quickchart {\n",
              "    background-color: var(--bg-color);\n",
              "    border: none;\n",
              "    border-radius: 50%;\n",
              "    cursor: pointer;\n",
              "    display: none;\n",
              "    fill: var(--fill-color);\n",
              "    height: 32px;\n",
              "    padding: 0;\n",
              "    width: 32px;\n",
              "  }\n",
              "\n",
              "  .colab-df-quickchart:hover {\n",
              "    background-color: var(--hover-bg-color);\n",
              "    box-shadow: 0 1px 2px rgba(60, 64, 67, 0.3), 0 1px 3px 1px rgba(60, 64, 67, 0.15);\n",
              "    fill: var(--button-hover-fill-color);\n",
              "  }\n",
              "\n",
              "  .colab-df-quickchart-complete:disabled,\n",
              "  .colab-df-quickchart-complete:disabled:hover {\n",
              "    background-color: var(--disabled-bg-color);\n",
              "    fill: var(--disabled-fill-color);\n",
              "    box-shadow: none;\n",
              "  }\n",
              "\n",
              "  .colab-df-spinner {\n",
              "    border: 2px solid var(--fill-color);\n",
              "    border-color: transparent;\n",
              "    border-bottom-color: var(--fill-color);\n",
              "    animation:\n",
              "      spin 1s steps(1) infinite;\n",
              "  }\n",
              "\n",
              "  @keyframes spin {\n",
              "    0% {\n",
              "      border-color: transparent;\n",
              "      border-bottom-color: var(--fill-color);\n",
              "      border-left-color: var(--fill-color);\n",
              "    }\n",
              "    20% {\n",
              "      border-color: transparent;\n",
              "      border-left-color: var(--fill-color);\n",
              "      border-top-color: var(--fill-color);\n",
              "    }\n",
              "    30% {\n",
              "      border-color: transparent;\n",
              "      border-left-color: var(--fill-color);\n",
              "      border-top-color: var(--fill-color);\n",
              "      border-right-color: var(--fill-color);\n",
              "    }\n",
              "    40% {\n",
              "      border-color: transparent;\n",
              "      border-right-color: var(--fill-color);\n",
              "      border-top-color: var(--fill-color);\n",
              "    }\n",
              "    60% {\n",
              "      border-color: transparent;\n",
              "      border-right-color: var(--fill-color);\n",
              "    }\n",
              "    80% {\n",
              "      border-color: transparent;\n",
              "      border-right-color: var(--fill-color);\n",
              "      border-bottom-color: var(--fill-color);\n",
              "    }\n",
              "    90% {\n",
              "      border-color: transparent;\n",
              "      border-bottom-color: var(--fill-color);\n",
              "    }\n",
              "  }\n",
              "</style>\n",
              "\n",
              "  <script>\n",
              "    async function quickchart(key) {\n",
              "      const quickchartButtonEl =\n",
              "        document.querySelector('#' + key + ' button');\n",
              "      quickchartButtonEl.disabled = true;  // To prevent multiple clicks.\n",
              "      quickchartButtonEl.classList.add('colab-df-spinner');\n",
              "      try {\n",
              "        const charts = await google.colab.kernel.invokeFunction(\n",
              "            'suggestCharts', [key], {});\n",
              "      } catch (error) {\n",
              "        console.error('Error during call to suggestCharts:', error);\n",
              "      }\n",
              "      quickchartButtonEl.classList.remove('colab-df-spinner');\n",
              "      quickchartButtonEl.classList.add('colab-df-quickchart-complete');\n",
              "    }\n",
              "    (() => {\n",
              "      let quickchartButtonEl =\n",
              "        document.querySelector('#df-10a3d4ae-d3c4-4492-b78a-3ada7a7295f7 button');\n",
              "      quickchartButtonEl.style.display =\n",
              "        google.colab.kernel.accessAllowed ? 'block' : 'none';\n",
              "    })();\n",
              "  </script>\n",
              "</div>\n",
              "\n",
              "    </div>\n",
              "  </div>\n"
            ],
            "application/vnd.google.colaboratory.intrinsic+json": {
              "type": "dataframe",
              "variable_name": "df_temp"
            }
          },
          "metadata": {},
          "execution_count": 31
        }
      ]
    },
    {
      "cell_type": "markdown",
      "metadata": {
        "id": "K8TV7Uf_0w_t"
      },
      "source": [
        "# Encoding features"
      ]
    },
    {
      "cell_type": "markdown",
      "metadata": {
        "id": "LPLHXsGZ0w_t"
      },
      "source": [
        "Need Encoding: Gender, Age (due to it being categorical), Occupation, Genres, Favourite_genre"
      ]
    },
    {
      "cell_type": "code",
      "execution_count": 33,
      "metadata": {
        "id": "uKnU2uRL0w_t"
      },
      "outputs": [],
      "source": [
        "# One-hot encode Gender\n",
        "df_temp = pd.get_dummies(df_temp, columns=['Gender'], prefix='', prefix_sep='')\n",
        "df_temp.rename(columns={'F': 'Female', 'M': 'Male'}, inplace=True)"
      ]
    },
    {
      "cell_type": "code",
      "execution_count": 34,
      "metadata": {
        "id": "2zcPYNYw0w_u"
      },
      "outputs": [],
      "source": [
        "# Label encode Age\n",
        "label_encoder = LabelEncoder()\n",
        "df_temp['Age'] = label_encoder.fit_transform(df_temp['Age'])"
      ]
    },
    {
      "cell_type": "code",
      "execution_count": 35,
      "metadata": {
        "id": "muE1Nn5b0w_u"
      },
      "outputs": [],
      "source": [
        "# One-Hot encode Occupation\n",
        "df_temp = pd.get_dummies(df_temp, columns=['Occupation'], prefix='', prefix_sep='')"
      ]
    },
    {
      "cell_type": "code",
      "execution_count": 36,
      "metadata": {
        "id": "phWyukkm0w_u"
      },
      "outputs": [],
      "source": [
        "# One-Hot encode Genres\n",
        "genres_split = df_temp['Genres'].str.get_dummies(sep='|').astype(bool)\n",
        "df_temp = pd.concat([df_temp.drop(columns=['Genres']), genres_split], axis=1)\n"
      ]
    },
    {
      "cell_type": "code",
      "execution_count": 37,
      "metadata": {
        "id": "W71R87Gn0w_u"
      },
      "outputs": [],
      "source": [
        "# One-Hot encode Favourite Genre\n",
        "df_temp = pd.get_dummies(df_temp, columns=['Favourite_genre'], prefix='Favourite', prefix_sep='_')"
      ]
    },
    {
      "cell_type": "markdown",
      "source": [
        "Creating a subset of the dataframe due to resource constraints"
      ],
      "metadata": {
        "id": "zu2jyvG12pwg"
      }
    },
    {
      "cell_type": "code",
      "execution_count": 40,
      "metadata": {
        "id": "Wi0q8clg0w_v"
      },
      "outputs": [],
      "source": [
        "# Sampling smaller dataset for improved efficiency\n",
        "from sklearn.model_selection import train_test_split\n",
        "df_final, _ = train_test_split(df_temp, test_size=0.6,\n",
        "                                 stratify=df_temp[['Rating']],\n",
        "                                 random_state=42)"
      ]
    },
    {
      "cell_type": "markdown",
      "metadata": {
        "id": "IX0gWAm20w_y"
      },
      "source": [
        "# Check for missing values"
      ]
    },
    {
      "cell_type": "code",
      "source": [
        "# Count the total number of null values in the DataFrame\n",
        "null_values = df_final.isnull().sum().sum()\n",
        "print(f\"Number of null values: {null_values}\")"
      ],
      "metadata": {
        "id": "jjlt-v36hIWk",
        "outputId": "a8ef8bea-0b53-4ec7-9978-f3fece2142fc",
        "colab": {
          "base_uri": "https://localhost:8080/"
        }
      },
      "execution_count": 45,
      "outputs": [
        {
          "output_type": "stream",
          "name": "stdout",
          "text": [
            "Number of null values: 0\n"
          ]
        }
      ]
    },
    {
      "cell_type": "code",
      "source": [
        "# Count NaN values\n",
        "nan_values = df_final.isna().sum().sum()\n",
        "print(f\"Number of NaN values: {nan_values}\")"
      ],
      "metadata": {
        "id": "zCuImSIohVTF",
        "outputId": "eb59aaf6-98ee-496a-f9ff-ec77c92151b2",
        "colab": {
          "base_uri": "https://localhost:8080/"
        }
      },
      "execution_count": 44,
      "outputs": [
        {
          "output_type": "stream",
          "name": "stdout",
          "text": [
            "Number of NaN values: 0\n"
          ]
        }
      ]
    },
    {
      "cell_type": "markdown",
      "metadata": {
        "id": "MnfJer150w_z"
      },
      "source": [
        "No missing values -> however, not every user rated every movie, could be considered missing values"
      ]
    },
    {
      "cell_type": "markdown",
      "metadata": {
        "id": "GHhxtjGy0w_z"
      },
      "source": [
        "# Saving the dataframe"
      ]
    },
    {
      "cell_type": "code",
      "execution_count": 47,
      "metadata": {
        "id": "QQf20yLX0w_z"
      },
      "outputs": [],
      "source": [
        "# Save df_final for model input - Feature engineered, encoded, scaled\n",
        "df_final.to_csv('/content/drive/My Drive/Thesis/Data/df_final_2.csv', index=False)"
      ]
    }
  ],
  "metadata": {
    "kernelspec": {
      "display_name": "Python 3",
      "name": "python3"
    },
    "language_info": {
      "name": "python"
    },
    "colab": {
      "provenance": [],
      "machine_shape": "hm",
      "gpuType": "V28"
    },
    "accelerator": "TPU"
  },
  "nbformat": 4,
  "nbformat_minor": 0
}